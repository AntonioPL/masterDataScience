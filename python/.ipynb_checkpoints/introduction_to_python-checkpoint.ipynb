{
 "cells": [
  {
   "cell_type": "markdown",
   "metadata": {},
   "source": [
    "# Introduction to Python"
   ]
  },
  {
   "cell_type": "markdown",
   "metadata": {},
   "source": [
    "## 1. Conditionals, loops and functions"
   ]
  },
  {
   "cell_type": "markdown",
   "metadata": {},
   "source": [
    "**Exercise 1:**\n",
    "Given two int values, return their sum if the two values are not the same. If the two values are not\n",
    "the same then return the double of their sum."
   ]
  },
  {
   "cell_type": "code",
   "execution_count": 11,
   "metadata": {
    "collapsed": true
   },
   "outputs": [],
   "source": [
    "def sum2values(a,b):\n",
    "    if a!=b:\n",
    "        return a+b\n",
    "    else:\n",
    "        return 2*(a+b)"
   ]
  },
  {
   "cell_type": "markdown",
   "metadata": {},
   "source": [
    "**Exercise 2**: Given 2 ints, a and b, return True if one if them is 10 or if their sum is 10."
   ]
  },
  {
   "cell_type": "code",
   "execution_count": 12,
   "metadata": {
    "collapsed": true
   },
   "outputs": [],
   "source": [
    "def is10(a,b):\n",
    "    if a==10 or b==10 or (a+b)==10:\n",
    "        return True\n",
    "    else:\n",
    "        return False"
   ]
  },
  {
   "cell_type": "markdown",
   "metadata": {},
   "source": [
    "**Exercise 3**: Write a function “centenario” that will take Name, and year of birth as inputs, check if year of birth is int and cast it to int if not, and print name together with the text explaining when the person is to have 100 years (hint: use isinstance) <br />\n",
    "\n",
    "Call to function: *centenario('Antonio', '1967')* <br />\n",
    "output: *Antonio will reach 100 years in 2067*"
   ]
  },
  {
   "cell_type": "code",
   "execution_count": 13,
   "metadata": {
    "collapsed": true
   },
   "outputs": [],
   "source": [
    "def centenario(name,year):\n",
    "    if not isinstance(year,int):\n",
    "        year=int(year)\n",
    "    return '{} will reach 100 years in {}'.format(name,year+100)"
   ]
  },
  {
   "cell_type": "code",
   "execution_count": 14,
   "metadata": {},
   "outputs": [
    {
     "data": {
      "text/plain": [
       "'Antonio will reach 100 years in 2067'"
      ]
     },
     "execution_count": 14,
     "metadata": {},
     "output_type": "execute_result"
    }
   ],
   "source": [
    "centenario('Antonio','1967')"
   ]
  },
  {
   "cell_type": "markdown",
   "metadata": {},
   "source": [
    "## 2. Data Types"
   ]
  },
  {
   "cell_type": "markdown",
   "metadata": {},
   "source": [
    "**Exercise 1**: Given a string and a non-negative int n, return a larger string that is n copies of the original string."
   ]
  },
  {
   "cell_type": "code",
   "execution_count": 15,
   "metadata": {
    "collapsed": true
   },
   "outputs": [],
   "source": [
    "def n_copies_string(string,integer):\n",
    "    return string*integer"
   ]
  },
  {
   "cell_type": "markdown",
   "metadata": {},
   "source": [
    "**Exercise 2**: Given a string, return a new string made of every other char starting with the first element (meaning\n",
    "index 0). In other words delete every even char position the string, so \"Hello\" yields \"Hlo\"."
   ]
  },
  {
   "cell_type": "code",
   "execution_count": 16,
   "metadata": {
    "collapsed": true
   },
   "outputs": [],
   "source": [
    "def delete_even_char_string(string):\n",
    "    result=\"\"\n",
    "    for letter in range(0,len(string),2):\n",
    "        result = result+string[letter]\n",
    "    return result"
   ]
  },
  {
   "cell_type": "code",
   "execution_count": 19,
   "metadata": {},
   "outputs": [
    {
     "data": {
      "text/plain": [
       "'Hlo'"
      ]
     },
     "execution_count": 19,
     "metadata": {},
     "output_type": "execute_result"
    }
   ],
   "source": [
    "delete_even_char_string('Hello')"
   ]
  },
  {
   "cell_type": "markdown",
   "metadata": {},
   "source": [
    "**Exercise 3**: Write a function to calculate the number of words, number of lines, and length of a string the same\n",
    "way the wc command does in the command line."
   ]
  },
  {
   "cell_type": "code",
   "execution_count": 20,
   "metadata": {
    "collapsed": true
   },
   "outputs": [],
   "source": [
    "def wc(string):\n",
    "    chars = len(string)\n",
    "    words = len(string.split())\n",
    "    lines = len(string.splitlines())\n",
    "    \n",
    "    return (chars,words,lines)"
   ]
  },
  {
   "cell_type": "code",
   "execution_count": 23,
   "metadata": {},
   "outputs": [
    {
     "data": {
      "text/plain": [
       "(56, 12, 2)"
      ]
     },
     "execution_count": 23,
     "metadata": {},
     "output_type": "execute_result"
    }
   ],
   "source": [
    "wc('This is a string with:\\n 2 lines, 12 words and 56 letters')"
   ]
  },
  {
   "cell_type": "markdown",
   "metadata": {},
   "source": [
    "**Exercise 4**: Write a Python program to remove the n<sup>th</sup> index character from a string. If the input string is empty\n",
    "print warning."
   ]
  },
  {
   "cell_type": "code",
   "execution_count": 24,
   "metadata": {
    "collapsed": true
   },
   "outputs": [],
   "source": [
    "def remove_nth(string, n):\n",
    "    if not string:\n",
    "        print ('Warning!!!, the string is empty')\n",
    "    else:\n",
    "        print(string[:n]+string[(n+1):])"
   ]
  },
  {
   "cell_type": "code",
   "execution_count": 25,
   "metadata": {},
   "outputs": [
    {
     "name": "stdout",
     "output_type": "stream",
     "text": [
      "this s a string\n"
     ]
    }
   ],
   "source": [
    "remove_nth('this is a string',5)"
   ]
  },
  {
   "cell_type": "markdown",
   "metadata": {},
   "source": [
    "**Exercise 5**: Given 2 strings, a and b, return a string of the form short+long+short, with the shorter string on the\n",
    "outside and the longer string on the inside. The strings will not be the same length, but they may be\n",
    "empty (length 0)."
   ]
  },
  {
   "cell_type": "code",
   "execution_count": 26,
   "metadata": {
    "collapsed": true
   },
   "outputs": [],
   "source": [
    "def sls_format(stringA, stringB):\n",
    "    if len(stringA)>len(stringB):\n",
    "        print(stringB+stringA+stringB)\n",
    "    else:\n",
    "        print(stringA+stringB+stringA)"
   ]
  },
  {
   "cell_type": "code",
   "execution_count": 27,
   "metadata": {},
   "outputs": [
    {
     "name": "stdout",
     "output_type": "stream",
     "text": [
      "HelloThis is a stringHello\n"
     ]
    }
   ],
   "source": [
    "sls_format('This is a string','Hello')"
   ]
  },
  {
   "cell_type": "markdown",
   "metadata": {},
   "source": [
    "## 3. Line Magic Commands - Handling Files"
   ]
  },
  {
   "cell_type": "markdown",
   "metadata": {},
   "source": [
    "**Exercise 1**: While inside python, go to *~/Data/opentraveldata/* and list the files. Repeat the same for\n",
    "*~/Data/us_dot/otp* and *~/Data/us_dot/traffic/*. Use the list of visited directories from dhist and write for loop which will return for each visited directory its name and number of files inside.(hint: use variable *_dh*)"
   ]
  },
  {
   "cell_type": "code",
   "execution_count": 57,
   "metadata": {},
   "outputs": [
    {
     "name": "stdout",
     "output_type": "stream",
     "text": [
      "/home/dsc/Data/opentraveldata\n"
     ]
    }
   ],
   "source": [
    "cd ~/Data/opentraveldata/"
   ]
  },
  {
   "cell_type": "code",
   "execution_count": 58,
   "metadata": {},
   "outputs": [
    {
     "name": "stdout",
     "output_type": "stream",
     "text": [
      "total 9908\r\n",
      "-rw-rw-r-- 1 dsc dsc    1581 Dec  9 07:18 airbus_records.csv\r\n",
      "-rw-rw-r-- 1 dsc dsc      13 Dec  1 20:49 num.txt\r\n",
      "-rw-r--r-- 1 dsc dsc   18612 Nov  8  2015 optd_aircraft.csv\r\n",
      "-rw-r--r-- 1 dsc dsc  107306 Nov  8  2015 optd_airlines.csv\r\n",
      "-rw-r--r-- 1 dsc dsc 8080005 Nov  8  2015 optd_por_public.csv\r\n",
      "-rw-r--r-- 1 dsc dsc 1871775 Nov  8  2015 optd_por_public.csv.bz2\r\n",
      "-rw-rw-r-- 1 dsc dsc    5816 Nov  9  2015 ref_airline_nb_of_flights.csv\r\n",
      "-rw-rw-r-- 1 dsc dsc   41338 Dec  1 21:09 zipped_files.zip\r\n"
     ]
    }
   ],
   "source": [
    "!ls -l"
   ]
  },
  {
   "cell_type": "code",
   "execution_count": 59,
   "metadata": {},
   "outputs": [
    {
     "name": "stdout",
     "output_type": "stream",
     "text": [
      "/home/dsc/Data/us_dot/otp\n"
     ]
    }
   ],
   "source": [
    "cd ~/Data/us_dot/otp"
   ]
  },
  {
   "cell_type": "code",
   "execution_count": 60,
   "metadata": {},
   "outputs": [
    {
     "name": "stdout",
     "output_type": "stream",
     "text": [
      "total 190232\r\n",
      "-rw-r--r--. 1 dsc dsc 23061340 Nov  8  2015 On_Time_On_Time_Performance_2015_1.zip\r\n",
      "-rw-r--r--. 1 dsc dsc 21230105 Nov  8  2015 On_Time_On_Time_Performance_2015_2.zip\r\n",
      "-rw-r--r--. 1 dsc dsc 24811186 Nov  8  2015 On_Time_On_Time_Performance_2015_3.zip\r\n",
      "-rw-r--r--. 1 dsc dsc 23625261 Nov  8  2015 On_Time_On_Time_Performance_2015_4.zip\r\n",
      "-rw-r--r--. 1 dsc dsc 24334057 Nov  8  2015 On_Time_On_Time_Performance_2015_5.zip\r\n",
      "-rw-r--r--. 1 dsc dsc 25758350 Nov  8  2015 On_Time_On_Time_Performance_2015_6.zip\r\n",
      "-rw-r--r--. 1 dsc dsc 26204213 Nov  8  2015 On_Time_On_Time_Performance_2015_7.zip\r\n",
      "-rw-r--r--. 1 dsc dsc 25726054 Nov  8  2015 On_Time_On_Time_Performance_2015_8.zip\r\n"
     ]
    }
   ],
   "source": [
    "!ls -l"
   ]
  },
  {
   "cell_type": "code",
   "execution_count": 61,
   "metadata": {},
   "outputs": [
    {
     "name": "stdout",
     "output_type": "stream",
     "text": [
      "/home/dsc/Data/us_dot/traffic\n"
     ]
    }
   ],
   "source": [
    "cd ~/Data/us_dot/traffic/"
   ]
  },
  {
   "cell_type": "code",
   "execution_count": 75,
   "metadata": {},
   "outputs": [
    {
     "name": "stdout",
     "output_type": "stream",
     "text": [
      "total 22060\r\n",
      "-rw-r--r--. 1 dsc dsc 16871101 Nov  8  2015 T100_SEGMENT_ALL_CARRIER_2014.zip\r\n",
      "-rw-r--r--. 1 dsc dsc  5709455 Nov  8  2015 T100_SEGMENT_ALL_CARRIER_2015.zip\r\n"
     ]
    }
   ],
   "source": [
    "!ls -l"
   ]
  },
  {
   "cell_type": "code",
   "execution_count": 80,
   "metadata": {},
   "outputs": [
    {
     "name": "stdout",
     "output_type": "stream",
     "text": [
      "Directory Name: /home/dsc/Data/opentraveldata; Number of files inside: 8\n",
      "Directory Name: /home/dsc/Data/us_dot/otp; Number of files inside: 8\n",
      "Directory Name: /home/dsc/Data/us_dot/traffic; Number of files inside: 2\n"
     ]
    }
   ],
   "source": [
    "for directories in _dh[1:4]: #0 directory is the working repo \n",
    "    files = !(find $directories -type f | wc -l)\n",
    "    print('Directory Name: {}; Number of files inside: {}'.format(directories,files[0]))"
   ]
  },
  {
   "cell_type": "markdown",
   "metadata": {},
   "source": [
    "**Exercise 2**: Write a function that will take text file and pattern as input parameters, and return the number of\n",
    "occurances of case insensitive pattern inside a text."
   ]
  },
  {
   "cell_type": "code",
   "execution_count": 89,
   "metadata": {
    "collapsed": true
   },
   "outputs": [],
   "source": [
    "def pattern_times_in_file(file,pattern):\n",
    "    repetitions=!(grep -i -o $pattern $file | wc -l)\n",
    "    print('The pattern \"{}\" appears {} times in \"{}\" file'.format(pattern,repetitions[0],file))"
   ]
  },
  {
   "cell_type": "code",
   "execution_count": 90,
   "metadata": {},
   "outputs": [
    {
     "name": "stdout",
     "output_type": "stream",
     "text": [
      "The pattern \"English\" appears 8 times in \"~/Data/shell/Finn.txt\" file\n"
     ]
    }
   ],
   "source": [
    "pattern_times_in_file('~/Data/shell/Finn.txt','English')"
   ]
  },
  {
   "cell_type": "markdown",
   "metadata": {
    "collapsed": true
   },
   "source": [
    "**Exercise 3**: Open Finn.txt file, read lines into a list. Remove trailing white spaces from each line. Write the\n",
    "resulting list to the new file. How many lines does the new file have? (hint: empty list is made with [\n",
    "])\n"
   ]
  },
  {
   "cell_type": "code",
   "execution_count": 169,
   "metadata": {
    "scrolled": true
   },
   "outputs": [],
   "source": [
    "with open(\"/home/dsc/Documents/masterDataScience/data/Finn.txt\") as text_file:\n",
    "    lines_Finn=[]\n",
    "    for line in text_file:\n",
    "        lines_Finn.append(line.rstrip())\n",
    "text_file.close\n",
    "\n",
    "text_file_out=open(\"/home/dsc/Documents/masterDataScience/data/Finn_remove_tws.txt\",\"w\")\n",
    "for line in lines_Finn:\n",
    "    text_file_out.write(line)\n",
    "text_file_out.close()"
   ]
  },
  {
   "cell_type": "code",
   "execution_count": 221,
   "metadata": {},
   "outputs": [
    {
     "name": "stdout",
     "output_type": "stream",
     "text": [
      "ORIGINAL FILE\n",
      "First 10 lines in Finn.txt:\n",
      "﻿\r",
      "\r\n",
      "\r",
      "\r\n",
      "The Project Gutenberg EBook of Adventures of Huckleberry Finn, Complete\r",
      "\r\n",
      "by Mark Twain (Samuel Clemens)\r",
      "\r\n",
      "\r",
      "\r\n",
      "This eBook is for the use of anyone anywhere at no cost and with almost\r",
      "\r\n",
      "no restrictions whatsoever. You may copy it, give it away or re-use\r",
      "\r\n",
      "it under the terms of the Project Gutenberg License included with this\r",
      "\r\n",
      "eBook or online at www.gutenberg.net\r",
      "\r\n",
      "\r",
      "\r\n"
     ]
    }
   ],
   "source": [
    "print('ORIGINAL FILE')\n",
    "print('First 10 lines in Finn.txt:')\n",
    "!(head -n 10 \"/home/dsc/Documents/masterDataScience/data/Finn.txt\")"
   ]
  },
  {
   "cell_type": "code",
   "execution_count": 220,
   "metadata": {},
   "outputs": [
    {
     "name": "stdout",
     "output_type": "stream",
     "text": [
      "REMOVING TRAILING WHITE SPACES FROM EACH LINE:\n",
      "First 500 bytes in Finn_remove_tws.txt:\n",
      "\n",
      "﻿The Project Gutenberg EBook of Adventures of Huckleberry Finn, Completeby Mark Twain (Samuel Clemens)This eBook is for the use of anyone anywhere at no cost and with almostno restrictions whatsoever. You may copy it, give it away or re-useit under the terms of the Project Gutenberg License included with thiseBook or online at www.gutenberg.netTitle: Adventures of Huckleberry Finn, CompleteAuthor: Mark Twain (Samuel Clemens)Release Date: August 20, 2006 [EBook #76]Last Updated: August 17, 2016"
     ]
    }
   ],
   "source": [
    "print('REMOVING TRAILING WHITE SPACES FROM EACH LINE:')\n",
    "print('First 500 bytes in Finn_remove_tws.txt:')\n",
    "print()\n",
    "!(head -c 500 \"/home/dsc/Documents/masterDataScience/data/Finn_remove_tws.txt\")"
   ]
  },
  {
   "cell_type": "markdown",
   "metadata": {},
   "source": [
    "**Exercise 4**: Open Finn.txt file, read lines into a list. Create a new version of Finn_nbl.txt with no blank lines."
   ]
  },
  {
   "cell_type": "code",
   "execution_count": 209,
   "metadata": {},
   "outputs": [],
   "source": [
    "with open(\"/home/dsc/Documents/masterDataScience/data/Finn.txt\") as text_file:\n",
    "    lines_Finn=[]\n",
    "    for line in text_file:\n",
    "        lines_Finn.append(line)\n",
    "text_file.close\n",
    "\n",
    "text_file_out=open(\"/home/dsc/Documents/masterDataScience/data/Finn_nbl.txt\",\"w\")\n",
    "for line in lines_Finn:\n",
    "    if line!=\"\\n\":\n",
    "        text_file_out.write(line)\n",
    "text_file_out.close()"
   ]
  },
  {
   "cell_type": "markdown",
   "metadata": {},
   "source": [
    "**Exercise 5**: Reset the workspace. Obtain the difference in number of lines between original Finn file and and\n",
    "the one without blank lines and print the result. (hint: use wc)"
   ]
  },
  {
   "cell_type": "code",
   "execution_count": 214,
   "metadata": {},
   "outputs": [
    {
     "name": "stdout",
     "output_type": "stream",
     "text": [
      "Once deleted, variables cannot be recovered. Proceed (y/[n])? y\n"
     ]
    }
   ],
   "source": [
    "%reset"
   ]
  },
  {
   "cell_type": "code",
   "execution_count": 219,
   "metadata": {},
   "outputs": [
    {
     "name": "stdout",
     "output_type": "stream",
     "text": [
      "The original Finn file has 12363 lines\n",
      "The Finn file without blank lines has 9674 lines\n"
     ]
    }
   ],
   "source": [
    "path_Finn=\"/home/dsc/Documents/masterDataScience/data/Finn.txt\"\n",
    "lines_Finn=!(cat $path_Finn | wc -l)\n",
    "\n",
    "path_Finn_nbl=\"/home/dsc/Documents/masterDataScience/data/Finn_nbl.txt\"\n",
    "lines_Finn_nbl=!(cat $path_Finn_nbl | wc -l)\n",
    "\n",
    "print('The original Finn file has {} lines'.format(lines_Finn[0]))\n",
    "print('The Finn file without blank lines has {} lines'.format(lines_Finn_nbl[0]))"
   ]
  },
  {
   "cell_type": "markdown",
   "metadata": {},
   "source": [
    "## 4. Lists, tuples - Map and Lambda functions"
   ]
  },
  {
   "cell_type": "markdown",
   "metadata": {},
   "source": [
    "**Exercise 1**: For a sequence [1, 2, 3, 4, 5, 6, 7, 8 ] get the squared values using the lambda function."
   ]
  },
  {
   "cell_type": "code",
   "execution_count": 230,
   "metadata": {},
   "outputs": [
    {
     "data": {
      "text/plain": [
       "[1, 4, 9, 16, 25, 36, 49, 64]"
      ]
     },
     "execution_count": 230,
     "metadata": {},
     "output_type": "execute_result"
    }
   ],
   "source": [
    "list(map(lambda x:x**2,list(range(1,9))))"
   ]
  },
  {
   "cell_type": "markdown",
   "metadata": {},
   "source": [
    "**Exercise 2**: Prepare a list with 10 names. Make a code that will put all vowels to capitals and every other\n",
    "character to lower letters."
   ]
  },
  {
   "cell_type": "code",
   "execution_count": 234,
   "metadata": {},
   "outputs": [
    {
     "data": {
      "text/plain": [
       "False"
      ]
     },
     "execution_count": 234,
     "metadata": {},
     "output_type": "execute_result"
    }
   ],
   "source": [
    "names=['Ned','Robb','Sansa','Cercei','Twin','Tyrion','Jon','Snow','Arya','LittleFinger']\n",
    "vowels=['a','e','i','o','u']"
   ]
  },
  {
   "cell_type": "code",
   "execution_count": 237,
   "metadata": {
    "collapsed": true
   },
   "outputs": [],
   "source": [
    "def capital_vowel(text):\n",
    "    new_text=''\n",
    "    for letter in text:\n",
    "        if letter in vowels:\n",
    "            new_text=new_text+letter.upper()\n",
    "        else:\n",
    "            new_text=new_text+letter.lower()\n",
    "    return new_text"
   ]
  },
  {
   "cell_type": "code",
   "execution_count": 240,
   "metadata": {},
   "outputs": [
    {
     "data": {
      "text/plain": [
       "['nEd',\n",
       " 'rObb',\n",
       " 'sAnsA',\n",
       " 'cErcEI',\n",
       " 'twIn',\n",
       " 'tyrIOn',\n",
       " 'jOn',\n",
       " 'snOw',\n",
       " 'aryA',\n",
       " 'lIttlEfIngEr']"
      ]
     },
     "execution_count": 240,
     "metadata": {},
     "output_type": "execute_result"
    }
   ],
   "source": [
    "list(map(capital_vowel,names))"
   ]
  },
  {
   "cell_type": "markdown",
   "metadata": {},
   "source": [
    "**Exercise 3**: Prepare again a list with 10 names. Make a function with two input variables: list, and character; that\n",
    "returns a list of names containing one or more of input characters ’s inside the name."
   ]
  },
  {
   "cell_type": "code",
   "execution_count": 248,
   "metadata": {
    "collapsed": true
   },
   "outputs": [],
   "source": [
    "def names_with_str(list_names,character):\n",
    "    names=[]\n",
    "    for name in list_names:\n",
    "        if character in name:\n",
    "            names.append(name)\n",
    "    return names"
   ]
  },
  {
   "cell_type": "code",
   "execution_count": 250,
   "metadata": {},
   "outputs": [
    {
     "data": {
      "text/plain": [
       "['Cercei', 'Tyrion', 'Arya', 'LittleFinger']"
      ]
     },
     "execution_count": 250,
     "metadata": {},
     "output_type": "execute_result"
    }
   ],
   "source": [
    "names_with_str(names,'r')"
   ]
  },
  {
   "cell_type": "markdown",
   "metadata": {},
   "source": [
    "**Exercise 4**: Reverse word order from the input string:"
   ]
  },
  {
   "cell_type": "code",
   "execution_count": 261,
   "metadata": {
    "collapsed": true
   },
   "outputs": [],
   "source": [
    "def reverse_string(string):\n",
    "    reverse=string.split(' ')\n",
    "    return reverse[::-1]"
   ]
  },
  {
   "cell_type": "code",
   "execution_count": 262,
   "metadata": {},
   "outputs": [
    {
     "data": {
      "text/plain": [
       "['string', 'a', 'is', 'This']"
      ]
     },
     "execution_count": 262,
     "metadata": {},
     "output_type": "execute_result"
    }
   ],
   "source": [
    "reverse_string('This is a string')"
   ]
  },
  {
   "cell_type": "markdown",
   "metadata": {},
   "source": [
    "**Exercise 5**: Create a function that accepts string as search string and returns number of lines with that string in a\n",
    "command history. (hint : use a in b)"
   ]
  },
  {
   "cell_type": "code",
   "execution_count": 278,
   "metadata": {},
   "outputs": [],
   "source": [
    "def search_string(string):\n",
    "    counter=0\n",
    "    for line in In:\n",
    "        if string in line:\n",
    "            counter+=1\n",
    "    return counter"
   ]
  },
  {
   "cell_type": "code",
   "execution_count": 280,
   "metadata": {},
   "outputs": [
    {
     "data": {
      "text/plain": [
       "43"
      ]
     },
     "execution_count": 280,
     "metadata": {},
     "output_type": "execute_result"
    }
   ],
   "source": [
    "search_string('def')"
   ]
  },
  {
   "cell_type": "markdown",
   "metadata": {},
   "source": [
    "**Exercise 6**: Write a Python function that takes a list of words and returns the length of the longest one."
   ]
  },
  {
   "cell_type": "code",
   "execution_count": 281,
   "metadata": {
    "collapsed": true
   },
   "outputs": [],
   "source": [
    "def len_longest_word(list_of_words):\n",
    "    max_len=0\n",
    "    for word in list_of_words:\n",
    "        if len(word)>max_len:\n",
    "            max_len=len(word)\n",
    "    return max_len"
   ]
  },
  {
   "cell_type": "code",
   "execution_count": 286,
   "metadata": {},
   "outputs": [
    {
     "data": {
      "text/plain": [
       "12"
      ]
     },
     "execution_count": 286,
     "metadata": {},
     "output_type": "execute_result"
    }
   ],
   "source": [
    "len_longest_word(names)"
   ]
  },
  {
   "cell_type": "markdown",
   "metadata": {},
   "source": [
    "## 5. Enumerate and zip functions"
   ]
  },
  {
   "cell_type": "markdown",
   "metadata": {},
   "source": [
    "**Exercise 1**: If for a string “coche” using enumerate and list function we obtain:<br />\n",
    "In: list(enumerate('coche'))<br />\n",
    "Out: [(0, 'c'), (1, 'o'), (2, 'c'), (3, 'h'), (4, 'e')]<br />\n",
    "\n",
    "Obtain the same result by using zip function!\n"
   ]
  },
  {
   "cell_type": "code",
   "execution_count": 290,
   "metadata": {},
   "outputs": [
    {
     "data": {
      "text/plain": [
       "[(0, 'c'), (1, 'o'), (2, 'c'), (3, 'h'), (4, 'e')]"
      ]
     },
     "execution_count": 290,
     "metadata": {},
     "output_type": "execute_result"
    }
   ],
   "source": [
    "list(zip(range(len('coche')),'coche'))"
   ]
  },
  {
   "cell_type": "markdown",
   "metadata": {},
   "source": [
    "## 6. Dicts and Sets"
   ]
  },
  {
   "cell_type": "markdown",
   "metadata": {},
   "source": [
    "**Exercise 1**: Categorize a list of words by their first letter, meaning that the result of the operation is first letter and all the words from the input list starting with that letter. (hint: use dict)"
   ]
  },
  {
   "cell_type": "code",
   "execution_count": 321,
   "metadata": {},
   "outputs": [
    {
     "data": {
      "text/plain": [
       "{'a': ['apple', 'atom'], 'b': ['bat', 'bar', 'book']}"
      ]
     },
     "execution_count": 321,
     "metadata": {},
     "output_type": "execute_result"
    }
   ],
   "source": [
    "words=['apple', 'bat', 'bar', 'atom', 'book']\n",
    "words_by_first_letter={}\n",
    "for word in words:\n",
    "    first_letter=word[0]\n",
    "    if first_letter not in words_by_first_letter:\n",
    "        words_by_first_letter[first_letter]=list([word])\n",
    "    else:\n",
    "        words_by_first_letter[first_letter].append(word)\n",
    "\n",
    "words_by_first_letter"
   ]
  },
  {
   "cell_type": "markdown",
   "metadata": {},
   "source": [
    "**Exercise 2**: Sort a collection of strings by the number of distinct letters in each string. (hint: use set and lambda)"
   ]
  },
  {
   "cell_type": "code",
   "execution_count": 359,
   "metadata": {},
   "outputs": [
    {
     "data": {
      "text/plain": [
       "['card', 'bar', 'foo', 'abab', 'aaaa']"
      ]
     },
     "execution_count": 359,
     "metadata": {},
     "output_type": "execute_result"
    }
   ],
   "source": [
    "strings = ['foo', 'card', 'bar', 'aaaa', 'abab']\n",
    "distinct_letters=strings\n",
    "distinct_letters.sort(key=lambda x:len(set(x)),reverse=True)\n",
    "distinct_letters"
   ]
  },
  {
   "cell_type": "markdown",
   "metadata": {},
   "source": [
    "## 7. Comprenhensions"
   ]
  },
  {
   "cell_type": "markdown",
   "metadata": {},
   "source": [
    "**Exercise 1**: Write apply_to_collection function by using list comprehension. apply_to_collection function takes one function and one collection (list of tuples or tuple of tuples, etc) and merge the elements of the collection applying the function to each value."
   ]
  },
  {
   "cell_type": "code",
   "execution_count": 367,
   "metadata": {
    "collapsed": true
   },
   "outputs": [],
   "source": [
    "def add_one(value):\n",
    "    return value+1\n",
    "\n",
    "g=(4,5,6)"
   ]
  },
  {
   "cell_type": "markdown",
   "metadata": {},
   "source": [
    "*apply_to_ollection* function:"
   ]
  },
  {
   "cell_type": "code",
   "execution_count": 368,
   "metadata": {
    "collapsed": true
   },
   "outputs": [],
   "source": [
    "def apply_to_collection(some_func, some_collection):\n",
    "    result=[]\n",
    "    for x in some_collection:\n",
    "        result.append(some_func(x))\n",
    "    return result"
   ]
  },
  {
   "cell_type": "code",
   "execution_count": 369,
   "metadata": {},
   "outputs": [
    {
     "data": {
      "text/plain": [
       "[5, 6, 7]"
      ]
     },
     "execution_count": 369,
     "metadata": {},
     "output_type": "execute_result"
    }
   ],
   "source": [
    "apply_to_collection(add_one,g)"
   ]
  },
  {
   "cell_type": "markdown",
   "metadata": {},
   "source": [
    "With *list comprenhension*:"
   ]
  },
  {
   "cell_type": "code",
   "execution_count": 371,
   "metadata": {},
   "outputs": [
    {
     "data": {
      "text/plain": [
       "[5, 6, 7]"
      ]
     },
     "execution_count": 371,
     "metadata": {},
     "output_type": "execute_result"
    }
   ],
   "source": [
    "result=[add_one(x) for x in g]\n",
    "result"
   ]
  },
  {
   "cell_type": "markdown",
   "metadata": {},
   "source": [
    "**Exercise 2**:  Reverse word order from the input string by using comprehension."
   ]
  },
  {
   "cell_type": "code",
   "execution_count": 384,
   "metadata": {},
   "outputs": [
    {
     "data": {
      "text/plain": [
       "'string a is This'"
      ]
     },
     "execution_count": 384,
     "metadata": {},
     "output_type": "execute_result"
    }
   ],
   "source": [
    "string='This is a string'\n",
    "reverse_string=[word for word in string.split(' ')[::-1]]\n",
    "' '.join(reverse_string)"
   ]
  }
 ],
 "metadata": {
  "kernelspec": {
   "display_name": "Python 3",
   "language": "python",
   "name": "python3"
  },
  "language_info": {
   "codemirror_mode": {
    "name": "ipython",
    "version": 3
   },
   "file_extension": ".py",
   "mimetype": "text/x-python",
   "name": "python",
   "nbconvert_exporter": "python",
   "pygments_lexer": "ipython3",
   "version": "3.6.2"
  }
 },
 "nbformat": 4,
 "nbformat_minor": 2
}
