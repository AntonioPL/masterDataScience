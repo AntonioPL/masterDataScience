{
 "cells": [
  {
   "cell_type": "markdown",
   "metadata": {},
   "source": [
    "# Introduction to Python"
   ]
  },
  {
   "cell_type": "markdown",
   "metadata": {},
   "source": [
    "## 1. Conditionals, loops and functions"
   ]
  },
  {
   "cell_type": "markdown",
   "metadata": {},
   "source": [
    "**Exercise 1:**\n",
    "Given two int values, return their sum if the two values are not the same. If the two values are not\n",
    "the same then return the double of their sum."
   ]
  },
  {
   "cell_type": "code",
   "execution_count": 11,
   "metadata": {
    "collapsed": true
   },
   "outputs": [],
   "source": [
    "def sum2values(a,b):\n",
    "    if a!=b:\n",
    "        return a+b\n",
    "    else:\n",
    "        return 2*(a+b)"
   ]
  },
  {
   "cell_type": "markdown",
   "metadata": {},
   "source": [
    "**Exercise 2**: Given 2 ints, a and b, return True if one if them is 10 or if their sum is 10."
   ]
  },
  {
   "cell_type": "code",
   "execution_count": 12,
   "metadata": {
    "collapsed": true
   },
   "outputs": [],
   "source": [
    "def is10(a,b):\n",
    "    if a==10 or b==10 or (a+b)==10:\n",
    "        return True\n",
    "    else:\n",
    "        return False"
   ]
  },
  {
   "cell_type": "markdown",
   "metadata": {},
   "source": [
    "**Exercise 3**: Write a function “centenario” that will take Name, and year of birth as inputs, check if year of birth is int and cast it to int if not, and print name together with the text explaining when the person is to have 100 years (hint: use isinstance) <br />\n",
    "\n",
    "Call to function: *centenario('Antonio', '1967')* <br />\n",
    "output: *Antonio will reach 100 years in 2067*"
   ]
  },
  {
   "cell_type": "code",
   "execution_count": 13,
   "metadata": {
    "collapsed": true
   },
   "outputs": [],
   "source": [
    "def centenario(name,year):\n",
    "    if not isinstance(year,int):\n",
    "        year=int(year)\n",
    "    return '{} will reach 100 years in {}'.format(name,year+100)"
   ]
  },
  {
   "cell_type": "code",
   "execution_count": 14,
   "metadata": {},
   "outputs": [
    {
     "data": {
      "text/plain": [
       "'Antonio will reach 100 years in 2067'"
      ]
     },
     "execution_count": 14,
     "metadata": {},
     "output_type": "execute_result"
    }
   ],
   "source": [
    "centenario('Antonio','1967')"
   ]
  },
  {
   "cell_type": "markdown",
   "metadata": {},
   "source": [
    "## 2. Data Types"
   ]
  },
  {
   "cell_type": "markdown",
   "metadata": {},
   "source": [
    "**Exercise 1**: Given a string and a non-negative int n, return a larger string that is n copies of the original string."
   ]
  },
  {
   "cell_type": "code",
   "execution_count": 15,
   "metadata": {
    "collapsed": true
   },
   "outputs": [],
   "source": [
    "def n_copies_string(string,integer):\n",
    "    return string*integer"
   ]
  },
  {
   "cell_type": "markdown",
   "metadata": {},
   "source": [
    "**Exercise 2**: Given a string, return a new string made of every other char starting with the first element (meaning\n",
    "index 0). In other words delete every even char position the string, so \"Hello\" yields \"Hlo\"."
   ]
  },
  {
   "cell_type": "code",
   "execution_count": 16,
   "metadata": {
    "collapsed": true
   },
   "outputs": [],
   "source": [
    "def delete_even_char_string(string):\n",
    "    result=\"\"\n",
    "    for letter in range(0,len(string),2):\n",
    "        result = result+string[letter]\n",
    "    return result"
   ]
  },
  {
   "cell_type": "code",
   "execution_count": 19,
   "metadata": {},
   "outputs": [
    {
     "data": {
      "text/plain": [
       "'Hlo'"
      ]
     },
     "execution_count": 19,
     "metadata": {},
     "output_type": "execute_result"
    }
   ],
   "source": [
    "delete_even_char_string('Hello')"
   ]
  },
  {
   "cell_type": "markdown",
   "metadata": {},
   "source": [
    "**Exercise 3**: Write a function to calculate the number of words, number of lines, and length of a string the same\n",
    "way the wc command does in the command line."
   ]
  },
  {
   "cell_type": "code",
   "execution_count": 20,
   "metadata": {
    "collapsed": true
   },
   "outputs": [],
   "source": [
    "def wc(string):\n",
    "    chars = len(string)\n",
    "    words = len(string.split())\n",
    "    lines = len(string.splitlines())\n",
    "    \n",
    "    return (chars,words,lines)"
   ]
  },
  {
   "cell_type": "code",
   "execution_count": 23,
   "metadata": {},
   "outputs": [
    {
     "data": {
      "text/plain": [
       "(56, 12, 2)"
      ]
     },
     "execution_count": 23,
     "metadata": {},
     "output_type": "execute_result"
    }
   ],
   "source": [
    "wc('This is a string with:\\n 2 lines, 12 words and 56 letters')"
   ]
  },
  {
   "cell_type": "markdown",
   "metadata": {},
   "source": [
    "**Exercise 4**: Write a Python program to remove the n<sup>th</sup> index character from a string. If the input string is empty\n",
    "print warning."
   ]
  },
  {
   "cell_type": "code",
   "execution_count": 24,
   "metadata": {
    "collapsed": true
   },
   "outputs": [],
   "source": [
    "def remove_nth(string, n):\n",
    "    if not string:\n",
    "        print ('Warning!!!, the string is empty')\n",
    "    else:\n",
    "        print(string[:n]+string[(n+1):])"
   ]
  },
  {
   "cell_type": "code",
   "execution_count": 25,
   "metadata": {},
   "outputs": [
    {
     "name": "stdout",
     "output_type": "stream",
     "text": [
      "this s a string\n"
     ]
    }
   ],
   "source": [
    "remove_nth('this is a string',5)"
   ]
  },
  {
   "cell_type": "markdown",
   "metadata": {},
   "source": [
    "**Exercise 5**: Given 2 strings, a and b, return a string of the form short+long+short, with the shorter string on the\n",
    "outside and the longer string on the inside. The strings will not be the same length, but they may be\n",
    "empty (length 0)."
   ]
  },
  {
   "cell_type": "code",
   "execution_count": 26,
   "metadata": {
    "collapsed": true
   },
   "outputs": [],
   "source": [
    "def sls_format(stringA, stringB):\n",
    "    if len(stringA)>len(stringB):\n",
    "        print(stringB+stringA+stringB)\n",
    "    else:\n",
    "        print(stringA+stringB+stringA)"
   ]
  },
  {
   "cell_type": "code",
   "execution_count": 27,
   "metadata": {},
   "outputs": [
    {
     "name": "stdout",
     "output_type": "stream",
     "text": [
      "HelloThis is a stringHello\n"
     ]
    }
   ],
   "source": [
    "sls_format('This is a string','Hello')"
   ]
  },
  {
   "cell_type": "markdown",
   "metadata": {},
   "source": [
    "## 3. Line Magic Commands - Handling Files"
   ]
  },
  {
   "cell_type": "markdown",
   "metadata": {},
   "source": [
    "**Exercise 1**: While inside python, go to *~/Data/opentraveldata/* and list the files. Repeat the same for\n",
    "*~/Data/us_dot/otp* and *~/Data/us_dot/traffic/*. Use the list of visited directories from dhist and write for loop which will return for each visited directory its name and number of files inside.(hint: use variable *_dh*)"
   ]
  },
  {
   "cell_type": "code",
   "execution_count": 57,
   "metadata": {},
   "outputs": [
    {
     "name": "stdout",
     "output_type": "stream",
     "text": [
      "/home/dsc/Data/opentraveldata\n"
     ]
    }
   ],
   "source": [
    "cd ~/Data/opentraveldata/"
   ]
  },
  {
   "cell_type": "code",
   "execution_count": 58,
   "metadata": {},
   "outputs": [
    {
     "name": "stdout",
     "output_type": "stream",
     "text": [
      "total 9908\r\n",
      "-rw-rw-r-- 1 dsc dsc    1581 Dec  9 07:18 airbus_records.csv\r\n",
      "-rw-rw-r-- 1 dsc dsc      13 Dec  1 20:49 num.txt\r\n",
      "-rw-r--r-- 1 dsc dsc   18612 Nov  8  2015 optd_aircraft.csv\r\n",
      "-rw-r--r-- 1 dsc dsc  107306 Nov  8  2015 optd_airlines.csv\r\n",
      "-rw-r--r-- 1 dsc dsc 8080005 Nov  8  2015 optd_por_public.csv\r\n",
      "-rw-r--r-- 1 dsc dsc 1871775 Nov  8  2015 optd_por_public.csv.bz2\r\n",
      "-rw-rw-r-- 1 dsc dsc    5816 Nov  9  2015 ref_airline_nb_of_flights.csv\r\n",
      "-rw-rw-r-- 1 dsc dsc   41338 Dec  1 21:09 zipped_files.zip\r\n"
     ]
    }
   ],
   "source": [
    "!ls -l"
   ]
  },
  {
   "cell_type": "code",
   "execution_count": 59,
   "metadata": {},
   "outputs": [
    {
     "name": "stdout",
     "output_type": "stream",
     "text": [
      "/home/dsc/Data/us_dot/otp\n"
     ]
    }
   ],
   "source": [
    "cd ~/Data/us_dot/otp"
   ]
  },
  {
   "cell_type": "code",
   "execution_count": 60,
   "metadata": {},
   "outputs": [
    {
     "name": "stdout",
     "output_type": "stream",
     "text": [
      "total 190232\r\n",
      "-rw-r--r--. 1 dsc dsc 23061340 Nov  8  2015 On_Time_On_Time_Performance_2015_1.zip\r\n",
      "-rw-r--r--. 1 dsc dsc 21230105 Nov  8  2015 On_Time_On_Time_Performance_2015_2.zip\r\n",
      "-rw-r--r--. 1 dsc dsc 24811186 Nov  8  2015 On_Time_On_Time_Performance_2015_3.zip\r\n",
      "-rw-r--r--. 1 dsc dsc 23625261 Nov  8  2015 On_Time_On_Time_Performance_2015_4.zip\r\n",
      "-rw-r--r--. 1 dsc dsc 24334057 Nov  8  2015 On_Time_On_Time_Performance_2015_5.zip\r\n",
      "-rw-r--r--. 1 dsc dsc 25758350 Nov  8  2015 On_Time_On_Time_Performance_2015_6.zip\r\n",
      "-rw-r--r--. 1 dsc dsc 26204213 Nov  8  2015 On_Time_On_Time_Performance_2015_7.zip\r\n",
      "-rw-r--r--. 1 dsc dsc 25726054 Nov  8  2015 On_Time_On_Time_Performance_2015_8.zip\r\n"
     ]
    }
   ],
   "source": [
    "!ls -l"
   ]
  },
  {
   "cell_type": "code",
   "execution_count": 61,
   "metadata": {},
   "outputs": [
    {
     "name": "stdout",
     "output_type": "stream",
     "text": [
      "/home/dsc/Data/us_dot/traffic\n"
     ]
    }
   ],
   "source": [
    "cd ~/Data/us_dot/traffic/"
   ]
  },
  {
   "cell_type": "code",
   "execution_count": 75,
   "metadata": {},
   "outputs": [
    {
     "name": "stdout",
     "output_type": "stream",
     "text": [
      "total 22060\r\n",
      "-rw-r--r--. 1 dsc dsc 16871101 Nov  8  2015 T100_SEGMENT_ALL_CARRIER_2014.zip\r\n",
      "-rw-r--r--. 1 dsc dsc  5709455 Nov  8  2015 T100_SEGMENT_ALL_CARRIER_2015.zip\r\n"
     ]
    }
   ],
   "source": [
    "!ls -l"
   ]
  },
  {
   "cell_type": "code",
   "execution_count": 80,
   "metadata": {},
   "outputs": [
    {
     "name": "stdout",
     "output_type": "stream",
     "text": [
      "Directory Name: /home/dsc/Data/opentraveldata; Number of files inside: 8\n",
      "Directory Name: /home/dsc/Data/us_dot/otp; Number of files inside: 8\n",
      "Directory Name: /home/dsc/Data/us_dot/traffic; Number of files inside: 2\n"
     ]
    }
   ],
   "source": [
    "for directories in _dh[1:4]: #0 directory is the working repo \n",
    "    files = !(find $directories -type f | wc -l)\n",
    "    print('Directory Name: {}; Number of files inside: {}'.format(directories,files[0]))"
   ]
  },
  {
   "cell_type": "markdown",
   "metadata": {},
   "source": [
    "**Exercise 2**: Write a function that will take text file and pattern as input parameters, and return the number of\n",
    "occurances of case insensitive pattern inside a text."
   ]
  },
  {
   "cell_type": "code",
   "execution_count": 89,
   "metadata": {
    "collapsed": true
   },
   "outputs": [],
   "source": [
    "def pattern_times_in_file(file,pattern):\n",
    "    repetitions=!(grep -i -o $pattern $file | wc -l)\n",
    "    print('The pattern \"{}\" appears {} times in \"{}\" file'.format(pattern,repetitions[0],file))"
   ]
  },
  {
   "cell_type": "code",
   "execution_count": 90,
   "metadata": {},
   "outputs": [
    {
     "name": "stdout",
     "output_type": "stream",
     "text": [
      "The pattern \"English\" appears 8 times in \"~/Data/shell/Finn.txt\" file\n"
     ]
    }
   ],
   "source": [
    "pattern_times_in_file('~/Data/shell/Finn.txt','English')"
   ]
  },
  {
   "cell_type": "markdown",
   "metadata": {
    "collapsed": true
   },
   "source": [
    "**Exercise 3**: Open Finn.txt file, read lines into a list. Remove trailing white spaces from each line. Write the\n",
    "resulting list to the new file. How many lines does the new file have? (hint: empty list is made with [\n",
    "])\n"
   ]
  },
  {
   "cell_type": "code",
   "execution_count": 169,
   "metadata": {
    "scrolled": true
   },
   "outputs": [],
   "source": [
    "with open(\"/home/dsc/Documents/masterDataScience/data/Finn.txt\") as text_file:\n",
    "    lines_Finn=[]\n",
    "    for line in text_file:\n",
    "        lines_Finn.append(line.rstrip())\n",
    "text_file.close\n",
    "\n",
    "text_file_out=open(\"/home/dsc/Documents/masterDataScience/data/Finn_remove_tws.txt\",\"w\")\n",
    "for line in lines_Finn:\n",
    "    text_file_out.write(line)\n",
    "text_file_out.close()"
   ]
  },
  {
   "cell_type": "code",
   "execution_count": 188,
   "metadata": {},
   "outputs": [
    {
     "name": "stdout",
     "output_type": "stream",
     "text": [
      "ORIGINAL FILE\n",
      "First 500 bytes in Finn.txt:\n",
      "﻿\r",
      "\r\n",
      "\r",
      "\r\n",
      "The Project Gutenberg EBook of Adventures of Huckleberry Finn, Complete\r",
      "\r\n",
      "by Mark Twain (Samuel Clemens)\r",
      "\r\n",
      "\r",
      "\r\n",
      "This eBook is for the use of anyone anywhere at no cost and with almost\r",
      "\r\n",
      "no restrictions whatsoever. You may copy it, give it away or re-use\r",
      "\r\n",
      "it under the terms of the Project Gutenberg License included with this\r",
      "\r\n",
      "eBook or online at www.gutenberg.net\r",
      "\r\n",
      "\r",
      "\r\n",
      "Title: Adventures of Huckleberry Finn, Complete\r",
      "\r\n",
      "\r",
      "\r\n",
      "Author: Mark Twain (Samuel Clemens)\r",
      "\r\n",
      "\r",
      "\r\n",
      "Release Date: August 20, 2006 [EBook #76]\r"
     ]
    }
   ],
   "source": [
    "print('ORIGINAL FILE')\n",
    "print('First 500 bytes in Finn.txt:')\n",
    "!(head -c 500 /home/dsc/Documents/masterDataScience/data/Finn.txt)"
   ]
  },
  {
   "cell_type": "code",
   "execution_count": 173,
   "metadata": {},
   "outputs": [
    {
     "name": "stdout",
     "output_type": "stream",
     "text": [
      "REMOVING TRAILING WHITE SPACES FROM EACH LINE:\n",
      "First 500 bytes in Finn_remove_tws.txt:\n",
      "\n",
      "﻿The Project Gutenberg EBook of Adventures of Huckleberry Finn, Completeby Mark Twain (Samuel Clemens)This eBook is for the use of anyone anywhere at no cost and with almostno restrictions whatsoever. You may copy it, give it away or re-useit under the terms of the Project Gutenberg License included with thiseBook or online at www.gutenberg.netTitle: Adventures of Huckleberry Finn, CompleteAuthor: Mark Twain (Samuel Clemens)Release Date: August 20, 2006 [EBook #76]Last Updated: August 17, 2016"
     ]
    }
   ],
   "source": [
    "print('REMOVING TRAILING WHITE SPACES FROM EACH LINE:')\n",
    "print('First 500 bytes in Finn_remove_tws.txt:')\n",
    "print()\n",
    "!(head -c 500 /home/dsc/Documents/masterDataScience/data/Finn_remove_tws.txt)"
   ]
  },
  {
   "cell_type": "markdown",
   "metadata": {},
   "source": [
    "**Exercise 4**: Open Finn.txt file, read lines into a list. Create a new version of Finn_nbl.txt with no blank lines."
   ]
  },
  {
   "cell_type": "code",
   "execution_count": 189,
   "metadata": {},
   "outputs": [],
   "source": [
    "with open(\"/home/dsc/Documents/masterDataScience/data/Finn.txt\") as text_file:\n",
    "    lines_Finn=[]\n",
    "    for line in text_file:\n",
    "        lines_Finn.append(line)\n",
    "text_file.close\n",
    "\n",
    "text_file_out=open(\"/home/dsc/Documents/masterDataScience/data/Finn_nbl.txt\",\"w\")\n",
    "for line in lines_Finn:\n",
    "    text_file_out.write(line)\n",
    "text_file_out.close()\n",
    "\n",
    "#lines_Finn\n",
    "#!(head -c 500 /home/dsc/Documents/masterDataScience/data/Finn_nbl.txt)\n"
   ]
  },
  {
   "cell_type": "code",
   "execution_count": null,
   "metadata": {
    "collapsed": true
   },
   "outputs": [],
   "source": []
  }
 ],
 "metadata": {
  "kernelspec": {
   "display_name": "Python 3",
   "language": "python",
   "name": "python3"
  },
  "language_info": {
   "codemirror_mode": {
    "name": "ipython",
    "version": 3
   },
   "file_extension": ".py",
   "mimetype": "text/x-python",
   "name": "python",
   "nbconvert_exporter": "python",
   "pygments_lexer": "ipython3",
   "version": "3.6.2"
  }
 },
 "nbformat": 4,
 "nbformat_minor": 2
}
