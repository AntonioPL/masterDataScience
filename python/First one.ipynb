{
 "cells": [
  {
   "cell_type": "code",
   "execution_count": 17,
   "metadata": {},
   "outputs": [
    {
     "data": {
      "text/plain": [
       "['/home/dsc/Documents/masterDataScience/python',\n",
       " '/home/dsc/Documents/masterDataScience']"
      ]
     },
     "execution_count": 17,
     "metadata": {},
     "output_type": "execute_result"
    }
   ],
   "source": [
    "%%!\n",
    "pwd\n",
    "cd ..\n",
    "pwd"
   ]
  },
  {
   "cell_type": "code",
   "execution_count": 18,
   "metadata": {},
   "outputs": [
    {
     "name": "stdout",
     "output_type": "stream",
     "text": [
      "/home/dsc/Documents/masterDataScience/python\r\n"
     ]
    }
   ],
   "source": [
    "!pwd"
   ]
  },
  {
   "cell_type": "code",
   "execution_count": 27,
   "metadata": {},
   "outputs": [
    {
     "name": "stdout",
     "output_type": "stream",
     "text": [
      "38/3: edit 1\n",
      "38/4: edit q5\n"
     ]
    }
   ],
   "source": [
    "%history -n ~2/3-4"
   ]
  },
  {
   "cell_type": "code",
   "execution_count": 28,
   "metadata": {},
   "outputs": [
    {
     "name": "stdout",
     "output_type": "stream",
     "text": [
      "/home/dsc/Documents/masterDataScience\n"
     ]
    }
   ],
   "source": [
    "cd .."
   ]
  },
  {
   "cell_type": "code",
   "execution_count": 29,
   "metadata": {},
   "outputs": [
    {
     "name": "stdout",
     "output_type": "stream",
     "text": [
      "\u001b[0m\u001b[01;34mdata\u001b[0m/  \u001b[01;34mpython\u001b[0m/  README.md  \u001b[01;34mshell\u001b[0m/  \u001b[01;34msql\u001b[0m/\r\n"
     ]
    }
   ],
   "source": [
    "ls"
   ]
  },
  {
   "cell_type": "code",
   "execution_count": 30,
   "metadata": {},
   "outputs": [
    {
     "name": "stdout",
     "output_type": "stream",
     "text": [
      "README.md\r\n"
     ]
    }
   ],
   "source": [
    "ls *.md"
   ]
  },
  {
   "cell_type": "code",
   "execution_count": 31,
   "metadata": {},
   "outputs": [
    {
     "name": "stdout",
     "output_type": "stream",
     "text": [
      "/home/dsc/Documents/masterDataScience/python\n"
     ]
    }
   ],
   "source": [
    "cd python"
   ]
  },
  {
   "cell_type": "code",
   "execution_count": 32,
   "metadata": {},
   "outputs": [
    {
     "name": "stdout",
     "output_type": "stream",
     "text": [
      "total 12\r\n",
      "-rw-rw-r-- 1 dsc 2464 Dec 15 21:39 'First one.ipynb'\r\n",
      "-rw-rw-r-- 1 dsc  853 Dec 15 19:02  introductionToPython_1.py\r\n",
      "-rw-rw-r-- 1 dsc 1582 Dec 15 20:15  introductionToPython_2.py\r\n"
     ]
    }
   ],
   "source": [
    "ll"
   ]
  },
  {
   "cell_type": "code",
   "execution_count": 33,
   "metadata": {},
   "outputs": [
    {
     "name": "stdout",
     "output_type": "stream",
     "text": [
      "introductionToPython_1.py  introductionToPython_2.py\r\n"
     ]
    }
   ],
   "source": [
    "ls *.py"
   ]
  },
  {
   "cell_type": "code",
   "execution_count": 34,
   "metadata": {},
   "outputs": [
    {
     "ename": "SyntaxError",
     "evalue": "invalid syntax (<ipython-input-34-c2b8a5cfd22f>, line 1)",
     "output_type": "error",
     "traceback": [
      "\u001b[0;36m  File \u001b[0;32m\"<ipython-input-34-c2b8a5cfd22f>\"\u001b[0;36m, line \u001b[0;32m1\u001b[0m\n\u001b[0;31m    a = ls *.py\u001b[0m\n\u001b[0m            ^\u001b[0m\n\u001b[0;31mSyntaxError\u001b[0m\u001b[0;31m:\u001b[0m invalid syntax\n"
     ]
    }
   ],
   "source": [
    "a = ls *.py"
   ]
  },
  {
   "cell_type": "code",
   "execution_count": 35,
   "metadata": {
    "collapsed": true
   },
   "outputs": [],
   "source": [
    "a = ! ls *.py"
   ]
  },
  {
   "cell_type": "code",
   "execution_count": 36,
   "metadata": {},
   "outputs": [
    {
     "data": {
      "text/plain": [
       "['introductionToPython_1.py', 'introductionToPython_2.py']"
      ]
     },
     "execution_count": 36,
     "metadata": {},
     "output_type": "execute_result"
    }
   ],
   "source": [
    "a"
   ]
  },
  {
   "cell_type": "code",
   "execution_count": 37,
   "metadata": {},
   "outputs": [
    {
     "name": "stdout",
     "output_type": "stream",
     "text": [
      "# Exercise 1\r\n",
      "# Given two int values, return their sum if the two \r\n",
      "# values are not the same. If the two values are not \r\n",
      "# the same then return the double of their sum:\r\n",
      "\r\n",
      "def q1(a,b):\r\n",
      "    if a!=b:\r\n",
      "        return a+b\r\n",
      "    else:\r\n",
      "        return 2*(a+b)\r\n",
      "\r\n",
      "\r\n",
      "# Exercise 2\r\n",
      "# Given 2 ints, a and b, return True if one if them is \r\n",
      "# 10 or if their sum is 10:\r\n",
      "\r\n",
      "def q2(a,b):\r\n",
      "    if a==10 or b==10 or (a+b)==10:\r\n",
      "        return True\r\n",
      "    else:\r\n",
      "        return False\r\n",
      "\r\n",
      "\r\n",
      "# Exercise 3\r\n",
      "# Write a function “centenario” that will take Name, \r\n",
      "# and year of birth as inputs, check if year of birth \r\n",
      "# is int and cast it to int if not, and print name \r\n",
      "# together with the text explaining when the person is \r\n",
      "# to have 100 years:\r\n",
      "\r\n",
      "def centenario(name,year):\r\n",
      "    if not isinstance(year,int):\r\n",
      "        year=int(year)\r\n",
      "    return '{} will reach 100 years in {}'.format(name,year+100)\r\n"
     ]
    }
   ],
   "source": [
    "!cat introductionToPython_1.py"
   ]
  },
  {
   "cell_type": "code",
   "execution_count": 38,
   "metadata": {},
   "outputs": [
    {
     "ename": "NameError",
     "evalue": "name 'introductionToPython_1' is not defined",
     "output_type": "error",
     "traceback": [
      "\u001b[0;31m---------------------------------------------------------------------------\u001b[0m",
      "\u001b[0;31mNameError\u001b[0m                                 Traceback (most recent call last)",
      "\u001b[0;32m<ipython-input-38-06d46a6c2e26>\u001b[0m in \u001b[0;36m<module>\u001b[0;34m()\u001b[0m\n\u001b[0;32m----> 1\u001b[0;31m \u001b[0mintroductionToPython_1\u001b[0m\u001b[0;34m.\u001b[0m\u001b[0mpy\u001b[0m\u001b[0;34m\u001b[0m\u001b[0m\n\u001b[0m",
      "\u001b[0;31mNameError\u001b[0m: name 'introductionToPython_1' is not defined"
     ]
    }
   ],
   "source": [
    " introductionToPython_1.py"
   ]
  },
  {
   "cell_type": "code",
   "execution_count": 39,
   "metadata": {
    "collapsed": true
   },
   "outputs": [],
   "source": [
    "b=!cat introductionToPython_1.py"
   ]
  },
  {
   "cell_type": "code",
   "execution_count": 40,
   "metadata": {},
   "outputs": [
    {
     "data": {
      "text/plain": [
       "['# Exercise 1',\n",
       " '# Given two int values, return their sum if the two ',\n",
       " '# values are not the same. If the two values are not ',\n",
       " '# the same then return the double of their sum:',\n",
       " '',\n",
       " 'def q1(a,b):',\n",
       " '    if a!=b:',\n",
       " '        return a+b',\n",
       " '    else:',\n",
       " '        return 2*(a+b)',\n",
       " '',\n",
       " '',\n",
       " '# Exercise 2',\n",
       " '# Given 2 ints, a and b, return True if one if them is ',\n",
       " '# 10 or if their sum is 10:',\n",
       " '',\n",
       " 'def q2(a,b):',\n",
       " '    if a==10 or b==10 or (a+b)==10:',\n",
       " '        return True',\n",
       " '    else:',\n",
       " '        return False',\n",
       " '',\n",
       " '',\n",
       " '# Exercise 3',\n",
       " '# Write a function “centenario” that will take Name, ',\n",
       " '# and year of birth as inputs, check if year of birth ',\n",
       " '# is int and cast it to int if not, and print name ',\n",
       " '# together with the text explaining when the person is ',\n",
       " '# to have 100 years:',\n",
       " '',\n",
       " 'def centenario(name,year):',\n",
       " '    if not isinstance(year,int):',\n",
       " '        year=int(year)',\n",
       " \"    return '{} will reach 100 years in {}'.format(name,year+100)\"]"
      ]
     },
     "execution_count": 40,
     "metadata": {},
     "output_type": "execute_result"
    }
   ],
   "source": [
    "b"
   ]
  },
  {
   "cell_type": "code",
   "execution_count": 41,
   "metadata": {},
   "outputs": [
    {
     "name": "stdout",
     "output_type": "stream",
     "text": [
      "['# Exercise 1', '# Given two int values, return their sum if the two ', '# values are not the same. If the two values are not ', '# the same then return the double of their sum:', '', 'def q1(a,b):', '    if a!=b:', '        return a+b', '    else:', '        return 2*(a+b)', '', '', '# Exercise 2', '# Given 2 ints, a and b, return True if one if them is ', '# 10 or if their sum is 10:', '', 'def q2(a,b):', '    if a==10 or b==10 or (a+b)==10:', '        return True', '    else:', '        return False', '', '', '# Exercise 3', '# Write a function “centenario” that will take Name, ', '# and year of birth as inputs, check if year of birth ', '# is int and cast it to int if not, and print name ', '# together with the text explaining when the person is ', '# to have 100 years:', '', 'def centenario(name,year):', '    if not isinstance(year,int):', '        year=int(year)', \"    return '{} will reach 100 years in {}'.format(name,year+100)\"]\n"
     ]
    }
   ],
   "source": [
    "print(b)"
   ]
  },
  {
   "cell_type": "code",
   "execution_count": 42,
   "metadata": {},
   "outputs": [
    {
     "data": {
      "text/plain": [
       "IPython.utils.text.SList"
      ]
     },
     "execution_count": 42,
     "metadata": {},
     "output_type": "execute_result"
    }
   ],
   "source": [
    "type(b)"
   ]
  },
  {
   "cell_type": "code",
   "execution_count": 43,
   "metadata": {
    "collapsed": true
   },
   "outputs": [],
   "source": [
    "b=str(b)"
   ]
  },
  {
   "cell_type": "code",
   "execution_count": 44,
   "metadata": {},
   "outputs": [
    {
     "data": {
      "text/plain": [
       "'[\\'# Exercise 1\\', \\'# Given two int values, return their sum if the two \\', \\'# values are not the same. If the two values are not \\', \\'# the same then return the double of their sum:\\', \\'\\', \\'def q1(a,b):\\', \\'    if a!=b:\\', \\'        return a+b\\', \\'    else:\\', \\'        return 2*(a+b)\\', \\'\\', \\'\\', \\'# Exercise 2\\', \\'# Given 2 ints, a and b, return True if one if them is \\', \\'# 10 or if their sum is 10:\\', \\'\\', \\'def q2(a,b):\\', \\'    if a==10 or b==10 or (a+b)==10:\\', \\'        return True\\', \\'    else:\\', \\'        return False\\', \\'\\', \\'\\', \\'# Exercise 3\\', \\'# Write a function “centenario” that will take Name, \\', \\'# and year of birth as inputs, check if year of birth \\', \\'# is int and cast it to int if not, and print name \\', \\'# together with the text explaining when the person is \\', \\'# to have 100 years:\\', \\'\\', \\'def centenario(name,year):\\', \\'    if not isinstance(year,int):\\', \\'        year=int(year)\\', \"    return \\'{} will reach 100 years in {}\\'.format(name,year+100)\"]'"
      ]
     },
     "execution_count": 44,
     "metadata": {},
     "output_type": "execute_result"
    }
   ],
   "source": [
    "b"
   ]
  },
  {
   "cell_type": "code",
   "execution_count": 45,
   "metadata": {},
   "outputs": [
    {
     "data": {
      "text/plain": [
       "str"
      ]
     },
     "execution_count": 45,
     "metadata": {},
     "output_type": "execute_result"
    }
   ],
   "source": [
    "type(b)"
   ]
  },
  {
   "cell_type": "code",
   "execution_count": 46,
   "metadata": {},
   "outputs": [
    {
     "data": {
      "text/plain": [
       "IPython.utils.text.SList"
      ]
     },
     "execution_count": 46,
     "metadata": {},
     "output_type": "execute_result"
    }
   ],
   "source": [
    "type(a)"
   ]
  },
  {
   "cell_type": "code",
   "execution_count": 47,
   "metadata": {},
   "outputs": [
    {
     "data": {
      "text/plain": [
       "['introductionToPython_1.py', 'introductionToPython_2.py']"
      ]
     },
     "execution_count": 47,
     "metadata": {},
     "output_type": "execute_result"
    }
   ],
   "source": [
    "a.l"
   ]
  },
  {
   "cell_type": "code",
   "execution_count": 48,
   "metadata": {},
   "outputs": [
    {
     "data": {
      "text/plain": [
       "'introductionToPython_1.py\\nintroductionToPython_2.py'"
      ]
     },
     "execution_count": 48,
     "metadata": {},
     "output_type": "execute_result"
    }
   ],
   "source": [
    "a.n"
   ]
  },
  {
   "cell_type": "code",
   "execution_count": 49,
   "metadata": {},
   "outputs": [
    {
     "data": {
      "text/plain": [
       "'introductionToPython_1.py introductionToPython_2.py'"
      ]
     },
     "execution_count": 49,
     "metadata": {},
     "output_type": "execute_result"
    }
   ],
   "source": [
    "a.s"
   ]
  },
  {
   "cell_type": "code",
   "execution_count": 50,
   "metadata": {},
   "outputs": [
    {
     "name": "stdout",
     "output_type": "stream",
     "text": [
      "/usr/bin/sh: ll: command not found\r\n"
     ]
    }
   ],
   "source": [
    "! ll"
   ]
  },
  {
   "cell_type": "code",
   "execution_count": 51,
   "metadata": {},
   "outputs": [
    {
     "name": "stdout",
     "output_type": "stream",
     "text": [
      "total 24\r\n",
      "-rw-rw-r-- 1 dsc 12476 Dec 15 21:47 'First one.ipynb'\r\n",
      "-rw-rw-r-- 1 dsc   853 Dec 15 19:02  introductionToPython_1.py\r\n",
      "-rw-rw-r-- 1 dsc  1582 Dec 15 20:15  introductionToPython_2.py\r\n"
     ]
    }
   ],
   "source": [
    "%ll"
   ]
  },
  {
   "cell_type": "code",
   "execution_count": 52,
   "metadata": {},
   "outputs": [
    {
     "name": "stdout",
     "output_type": "stream",
     "text": [
      "rm: cannot remove 'First': No such file or directory\r\n",
      "rm: cannot remove 'one.ipynb': No such file or directory\r\n"
     ]
    }
   ],
   "source": [
    "%rm First one.ipynb"
   ]
  },
  {
   "cell_type": "code",
   "execution_count": 53,
   "metadata": {},
   "outputs": [
    {
     "name": "stdout",
     "output_type": "stream",
     "text": [
      "rm: cannot remove 'First_one.ipynb': No such file or directory\r\n"
     ]
    }
   ],
   "source": [
    "%rm First_one.ipynb"
   ]
  },
  {
   "cell_type": "code",
   "execution_count": 57,
   "metadata": {},
   "outputs": [],
   "source": [
    "!rm -f First\\ one.ipynb"
   ]
  },
  {
   "cell_type": "code",
   "execution_count": 58,
   "metadata": {},
   "outputs": [
    {
     "name": "stdout",
     "output_type": "stream",
     "text": [
      "total 8\r\n",
      "-rw-rw-r-- 1 dsc  853 Dec 15 19:02 introductionToPython_1.py\r\n",
      "-rw-rw-r-- 1 dsc 1582 Dec 15 20:15 introductionToPython_2.py\r\n"
     ]
    }
   ],
   "source": [
    "%ll"
   ]
  },
  {
   "cell_type": "code",
   "execution_count": 59,
   "metadata": {
    "collapsed": true
   },
   "outputs": [],
   "source": [
    "parametros=a.s"
   ]
  },
  {
   "cell_type": "code",
   "execution_count": 60,
   "metadata": {},
   "outputs": [
    {
     "data": {
      "text/plain": [
       "'introductionToPython_1.py introductionToPython_2.py'"
      ]
     },
     "execution_count": 60,
     "metadata": {},
     "output_type": "execute_result"
    }
   ],
   "source": [
    "parametros"
   ]
  },
  {
   "cell_type": "code",
   "execution_count": null,
   "metadata": {
    "collapsed": true
   },
   "outputs": [],
   "source": []
  }
 ],
 "metadata": {
  "kernelspec": {
   "display_name": "Python 3",
   "language": "python",
   "name": "python3"
  },
  "language_info": {
   "codemirror_mode": {
    "name": "ipython",
    "version": 3
   },
   "file_extension": ".py",
   "mimetype": "text/x-python",
   "name": "python",
   "nbconvert_exporter": "python",
   "pygments_lexer": "ipython3",
   "version": "3.6.2"
  }
 },
 "nbformat": 4,
 "nbformat_minor": 2
}
