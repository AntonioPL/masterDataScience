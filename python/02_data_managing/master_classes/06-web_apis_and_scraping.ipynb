{
 "cells": [
  {
   "cell_type": "markdown",
   "metadata": {},
   "source": [
    "#  Web APIs\n",
    "\n",
    "An API, or aplication programming interface, is the way programs communicate with one another. \n",
    "\n",
    "Web APIs are the way programs communicate with one another _over the internet_\n",
    "\n",
    "[RESTful](https://en.wikipedia.org/wiki/Representational_state_transfer) APIs respect a series of design principles that make them simple to use.\n",
    "\n",
    "The basic tools we are going to use are: POST and GET requests to urls we'll specify and json objects that we'll receive as response or send as payload (in a POST command, for example)."
   ]
  },
  {
   "cell_type": "code",
   "execution_count": 3,
   "metadata": {},
   "outputs": [
    {
     "data": {
      "text/plain": [
       "'<!DOCTYPE html>\\n<html lang=\"es\">\\n<head>\\n<meta charset=\"utf-8\">\\n<meta http-equiv=\"X-UA-Compatible\" content=\"IE=edge\">\\n<meta name=\"format-detection\" content=\"address=no,email=no,telephone=no\">\\n<meta name=\"viewport\" content=\"width=device-width, initial-scale=1.0, maximum-scale=1.0\" />\\n<title>EL PA\\xc3\\x8dS: el peri\\xc3\\xb3dico global</title>\\n<meta name=\"lang\" \\t\\t\\tcontent=\"es\" />\\n<meta name=\"author\" \\t\\tcontent=\"Ediciones El Pa\\xc3\\xads\" />\\n<meta name=\"description\" \\tcontent=\"Noticias de \\xc3\\xbaltima hora sobre la actualidad '"
      ]
     },
     "execution_count": 3,
     "metadata": {},
     "output_type": "execute_result"
    }
   ],
   "source": [
    "import requests\n",
    "\n",
    "resp = requests.get('http://www.elpais.com/')\n",
    "resp.content[:500]"
   ]
  },
  {
   "cell_type": "markdown",
   "metadata": {},
   "source": [
    "This is an API that returns the current position of the ISS:"
   ]
  },
  {
   "cell_type": "code",
   "execution_count": 21,
   "metadata": {},
   "outputs": [
    {
     "data": {
      "text/plain": [
       "200"
      ]
     },
     "execution_count": 21,
     "metadata": {},
     "output_type": "execute_result"
    }
   ],
   "source": [
    "r = requests.get('http://api.open-notify.org/iss-now.json')\n",
    "r.status_code"
   ]
  },
  {
   "cell_type": "code",
   "execution_count": 10,
   "metadata": {},
   "outputs": [
    {
     "data": {
      "text/plain": [
       "'{\"timestamp\": 1517828358, \"message\": \"success\", \"iss_position\": {\"longitude\": \"64.3077\", \"latitude\": \"43.7348\"}}'"
      ]
     },
     "execution_count": 10,
     "metadata": {},
     "output_type": "execute_result"
    }
   ],
   "source": [
    "r.content"
   ]
  },
  {
   "cell_type": "markdown",
   "metadata": {},
   "source": [
    "We can convert a json-formatted string such as the one we get in the response into a Python object with the json library:"
   ]
  },
  {
   "cell_type": "code",
   "execution_count": 11,
   "metadata": {},
   "outputs": [
    {
     "data": {
      "text/plain": [
       "{u'iss_position': {u'latitude': u'43.7348', u'longitude': u'64.3077'},\n",
       " u'message': u'success',\n",
       " u'timestamp': 1517828358}"
      ]
     },
     "execution_count": 11,
     "metadata": {},
     "output_type": "execute_result"
    }
   ],
   "source": [
    "import json \n",
    "\n",
    "pos = json.loads(r.content)\n",
    "pos"
   ]
  },
  {
   "cell_type": "code",
   "execution_count": 12,
   "metadata": {},
   "outputs": [
    {
     "data": {
      "text/plain": [
       "u'43.7348'"
      ]
     },
     "execution_count": 12,
     "metadata": {},
     "output_type": "execute_result"
    }
   ],
   "source": [
    "pos['iss_position']['latitude']\n"
   ]
  },
  {
   "cell_type": "code",
   "execution_count": 11,
   "metadata": {},
   "outputs": [
    {
     "data": {
      "text/html": [
       "<div>\n",
       "<style>\n",
       "    .dataframe thead tr:only-child th {\n",
       "        text-align: right;\n",
       "    }\n",
       "\n",
       "    .dataframe thead th {\n",
       "        text-align: left;\n",
       "    }\n",
       "\n",
       "    .dataframe tbody tr th {\n",
       "        vertical-align: top;\n",
       "    }\n",
       "</style>\n",
       "<table border=\"1\" class=\"dataframe\">\n",
       "  <thead>\n",
       "    <tr style=\"text-align: right;\">\n",
       "      <th></th>\n",
       "      <th>iss_position</th>\n",
       "      <th>message</th>\n",
       "      <th>timestamp</th>\n",
       "    </tr>\n",
       "  </thead>\n",
       "  <tbody>\n",
       "    <tr>\n",
       "      <th>latitude</th>\n",
       "      <td>20.2310</td>\n",
       "      <td>success</td>\n",
       "      <td>2018-02-06 08:59:19</td>\n",
       "    </tr>\n",
       "    <tr>\n",
       "      <th>longitude</th>\n",
       "      <td>-157.4087</td>\n",
       "      <td>success</td>\n",
       "      <td>2018-02-06 08:59:19</td>\n",
       "    </tr>\n",
       "  </tbody>\n",
       "</table>\n",
       "</div>"
      ],
      "text/plain": [
       "           iss_position  message           timestamp\n",
       "latitude        20.2310  success 2018-02-06 08:59:19\n",
       "longitude     -157.4087  success 2018-02-06 08:59:19"
      ]
     },
     "execution_count": 11,
     "metadata": {},
     "output_type": "execute_result"
    }
   ],
   "source": [
    "import pandas as pd\n",
    "\n",
    "pd.read_json('http://api.open-notify.org/iss-now.json')"
   ]
  },
  {
   "cell_type": "markdown",
   "metadata": {},
   "source": [
    "We also can go in the other direction and generate json-formatted strings from Python objects:"
   ]
  },
  {
   "cell_type": "code",
   "execution_count": 14,
   "metadata": {
    "collapsed": true
   },
   "outputs": [],
   "source": [
    "mi_diccionario = {'Chicago' : \"Illinois\", \"Kansas City\" : [\"Kansas\", \"Missouri\"]}"
   ]
  },
  {
   "cell_type": "code",
   "execution_count": 15,
   "metadata": {},
   "outputs": [
    {
     "data": {
      "text/plain": [
       "{'Chicago': 'Illinois', 'Kansas City': ['Kansas', 'Missouri']}"
      ]
     },
     "execution_count": 15,
     "metadata": {},
     "output_type": "execute_result"
    }
   ],
   "source": [
    "mi_diccionario"
   ]
  },
  {
   "cell_type": "code",
   "execution_count": 16,
   "metadata": {},
   "outputs": [
    {
     "data": {
      "text/plain": [
       "'{\"Kansas City\": [\"Kansas\", \"Missouri\"], \"Chicago\": \"Illinois\"}'"
      ]
     },
     "execution_count": 16,
     "metadata": {},
     "output_type": "execute_result"
    }
   ],
   "source": [
    "json.dumps(mi_diccionario)"
   ]
  },
  {
   "cell_type": "markdown",
   "metadata": {},
   "source": [
    "#### Exercise:\n",
    "Write a function that returns the duration of the next 5 overhead passes of the ISS for a given latitude and longitude. Use http://open-notify.org/Open-Notify-API/ISS-Pass-Times/\n",
    ". We are going to need to encode the parameters in the url as per the specification.\n",
    "\n",
    "For example, for Madrid:\n",
    "\n",
    "http://api.open-notify.org/iss-pass.json?lat=40.4&lon=-3.7"
   ]
  },
  {
   "cell_type": "code",
   "execution_count": 22,
   "metadata": {},
   "outputs": [
    {
     "data": {
      "text/plain": [
       "{u'message': u'success',\n",
       " u'request': {u'altitude': 100,\n",
       "  u'datetime': 1517828723,\n",
       "  u'latitude': 40.4,\n",
       "  u'longitude': -3.7,\n",
       "  u'passes': 5},\n",
       " u'response': [{u'duration': 594, u'risetime': 1517838947},\n",
       "  {u'duration': 630, u'risetime': 1517844709},\n",
       "  {u'duration': 556, u'risetime': 1517850576},\n",
       "  {u'duration': 551, u'risetime': 1517856432},\n",
       "  {u'duration': 626, u'risetime': 1517862228}]}"
      ]
     },
     "execution_count": 22,
     "metadata": {},
     "output_type": "execute_result"
    }
   ],
   "source": [
    "def get_iss(lat, lon):\n",
    "    \n",
    "    url = \"http://api.open-notify.org/iss-pass.json?lat=%f&lon=%f\" % (lat, lon)\n",
    "    response = requests.get(url)\n",
    "    my_dict = json.loads(response.content)\n",
    "    result = my_dict['response']\n",
    "    \n",
    "    return result\n",
    "\n",
    "get_iss(40.4, -3.7)"
   ]
  },
  {
   "cell_type": "markdown",
   "metadata": {},
   "source": [
    "Although we managed to get the response, more complicated sets of parameters will be a complicated and error-prone thing to encode. Thankfully, the `requests` library can do that work for us."
   ]
  },
  {
   "cell_type": "code",
   "execution_count": 11,
   "metadata": {},
   "outputs": [
    {
     "data": {
      "text/plain": [
       "{u'message': u'success',\n",
       " u'request': {u'altitude': 100,\n",
       "  u'datetime': 1493986734,\n",
       "  u'latitude': 40.4,\n",
       "  u'longitude': -3.7,\n",
       "  u'passes': 5},\n",
       " u'response': [{u'duration': 371, u'risetime': 1493989991},\n",
       "  {u'duration': 417, u'risetime': 1494038436},\n",
       "  {u'duration': 637, u'risetime': 1494044076},\n",
       "  {u'duration': 601, u'risetime': 1494049897},\n",
       "  {u'duration': 537, u'risetime': 1494055774}]}"
      ]
     },
     "execution_count": 11,
     "metadata": {},
     "output_type": "execute_result"
    }
   ],
   "source": [
    "madrid_coords = {'lat': 40.4, 'lon': -3.7}\n",
    "\n",
    "r = requests.get('http://api.open-notify.org/iss-pass.json', params=madrid_coords)\n",
    "json.loads(r.content)"
   ]
  },
  {
   "cell_type": "code",
   "execution_count": 12,
   "metadata": {},
   "outputs": [
    {
     "data": {
      "text/html": [
       "<div>\n",
       "<table border=\"1\" class=\"dataframe\">\n",
       "  <thead>\n",
       "    <tr style=\"text-align: right;\">\n",
       "      <th></th>\n",
       "      <th>duration</th>\n",
       "      <th>risetime</th>\n",
       "    </tr>\n",
       "  </thead>\n",
       "  <tbody>\n",
       "    <tr>\n",
       "      <th>0</th>\n",
       "      <td>371</td>\n",
       "      <td>1493989991</td>\n",
       "    </tr>\n",
       "    <tr>\n",
       "      <th>1</th>\n",
       "      <td>417</td>\n",
       "      <td>1494038436</td>\n",
       "    </tr>\n",
       "    <tr>\n",
       "      <th>2</th>\n",
       "      <td>637</td>\n",
       "      <td>1494044076</td>\n",
       "    </tr>\n",
       "    <tr>\n",
       "      <th>3</th>\n",
       "      <td>601</td>\n",
       "      <td>1494049897</td>\n",
       "    </tr>\n",
       "    <tr>\n",
       "      <th>4</th>\n",
       "      <td>537</td>\n",
       "      <td>1494055774</td>\n",
       "    </tr>\n",
       "  </tbody>\n",
       "</table>\n",
       "</div>"
      ],
      "text/plain": [
       "   duration    risetime\n",
       "0       371  1493989991\n",
       "1       417  1494038436\n",
       "2       637  1494044076\n",
       "3       601  1494049897\n",
       "4       537  1494055774"
      ]
     },
     "execution_count": 12,
     "metadata": {},
     "output_type": "execute_result"
    }
   ],
   "source": [
    "resp = json.loads(r.content)['response']\n",
    "\n",
    "pd.DataFrame(resp)"
   ]
  },
  {
   "cell_type": "markdown",
   "metadata": {},
   "source": [
    "Even more complicated sets of parameters are sometimes required. When that is the case, API designers often decide to require them in json format, received via a `POST` request.\n",
    "\n",
    "For example, take a look at the [QPX api from Google](https://developers.google.com/qpx-express/v1/trips/search). In the documentation, they define the body of the request, which we will have to provide, and of the response, which they'll provide back."
   ]
  },
  {
   "cell_type": "code",
   "execution_count": 13,
   "metadata": {},
   "outputs": [
    {
     "name": "stdout",
     "output_type": "stream",
     "text": [
      "Help on function post in module requests.api:\n",
      "\n",
      "post(url, data=None, json=None, **kwargs)\n",
      "    Sends a POST request.\n",
      "    \n",
      "    :param url: URL for the new :class:`Request` object.\n",
      "    :param data: (optional) Dictionary, bytes, or file-like object to send in the body of the :class:`Request`.\n",
      "    :param json: (optional) json data to send in the body of the :class:`Request`.\n",
      "    :param \\*\\*kwargs: Optional arguments that ``request`` takes.\n",
      "    :return: :class:`Response <Response>` object\n",
      "    :rtype: requests.Response\n",
      "\n"
     ]
    }
   ],
   "source": [
    "help(requests.post)"
   ]
  },
  {
   "cell_type": "markdown",
   "metadata": {},
   "source": [
    "# Web scraping\n",
    "\n",
    "![HTML to DOM](http://www.cs.toronto.edu/~shiva/cscb07/img/dom/treeStructure.png)\n",
    "\n",
    "![DOM TREE](http://www.openbookproject.net/tutorials/getdown/css/images/lesson4/HTMLDOMTree.png)\n",
    "\n"
   ]
  },
  {
   "cell_type": "code",
   "execution_count": 8,
   "metadata": {
    "scrolled": false
   },
   "outputs": [
    {
     "data": {
      "text/html": [
       "\n",
       "        <iframe\n",
       "            width=\"800\"\n",
       "            height=\"600\"\n",
       "            src=\"http://www.aflcio.org/Legislation-and-Politics/Legislative-Alerts\"\n",
       "            frameborder=\"0\"\n",
       "            allowfullscreen\n",
       "        ></iframe>\n",
       "        "
      ],
      "text/plain": [
       "<IPython.lib.display.IFrame at 0x7f9c4c48a4d0>"
      ]
     },
     "execution_count": 8,
     "metadata": {},
     "output_type": "execute_result"
    }
   ],
   "source": [
    "from IPython.display import IFrame\n",
    "\n",
    "IFrame('http://www.aflcio.org/Legislation-and-Politics/Legislative-Alerts', 800, 600)"
   ]
  },
  {
   "cell_type": "code",
   "execution_count": 41,
   "metadata": {
    "scrolled": true
   },
   "outputs": [
    {
     "data": {
      "text/plain": [
       "'<!DOCTYPE html>\\n<html lang=\"en\" dir=\"ltr\" xmlns:article=\"http://ogp.me/ns/article#\" xmlns:book=\"http://ogp.me/ns/book#\" xmlns:product=\"http://ogp.me/ns/product#\" xmlns:profile=\"http://ogp.me/ns/profile#\" xmlns:video=\"http://ogp.me/ns/video#\" prefix=\"content: http://purl.org/rss/1.0/modules/content/  dc: http://purl.org/dc/terms/  foaf: http://xmlns.com/foaf/0.1/  og: http://ogp.me/ns#  rdfs: http://www.w3.org/2000/01/rdf-schema#  schema: http://schema.org/  sioc: http://rdfs.org/sioc/ns#  sioct: http://rdfs.org/sioc/types#  skos: http://www.w3.org/2004/02/skos/core#  xsd: http://www.w3.org/2001/XMLSchema# \">\\n  <head>\\n    <meta charset=\"utf-8\" /><script type=\"text/javascript\">window.NREUM||(NREUM={}),__nr_require=function(e,t,n){function r(n){if(!t[n]){var o=t[n]={exports:{}};e[n][0].call(o.exports,function(t){var o=e[n][1][t];return r(o||t)},o,o.exports)}return t[n].exports}if(\"function\"==typeof __nr_require)return __nr_require;for(var o=0;o<n.length;o++)r(n[o]);return r}({1:[function('"
      ]
     },
     "execution_count": 41,
     "metadata": {},
     "output_type": "execute_result"
    }
   ],
   "source": [
    "from bs4 import BeautifulSoup\n",
    "\n",
    "r = requests.get('http://www.aflcio.org/Legislation-and-Politics/Legislative-Alerts')\n",
    "\n",
    "page = r.content\n",
    "page[:1000]"
   ]
  },
  {
   "cell_type": "code",
   "execution_count": 42,
   "metadata": {},
   "outputs": [
    {
     "name": "stdout",
     "output_type": "stream",
     "text": [
      "<!DOCTYPE html>\n",
      "<html dir=\"ltr\" lang=\"en\" prefix=\"content: http://purl.org/rss/1.0/modules/content/  dc: http://purl.org/dc/terms/  foaf: http://xmlns.com/foaf/0.1/  og: http://ogp.me/ns#  rdfs: http://www.w3.org/2000/01/rdf-schema#  schema: http://schema.org/  sioc: http://rdfs.org/sioc/ns#  sioct: http://rdfs.org/sioc/types#  skos: http://www.w3.org/2004/02/skos/core#  xsd: http://www.w3.org/2001/XMLSchema# \" xmlns:article=\"http://ogp.me/ns/article#\" xmlns:book=\"http://ogp.me/ns/book#\" xmlns:product=\"http://ogp.me/ns/product#\" xmlns:profile=\"http://ogp.me/ns/profile#\" xmlns:video=\"http://ogp.me/ns/video#\">\n",
      " <head>\n",
      "  <meta charset=\"utf-8\"/>\n",
      "  <script type=\"text/javascript\">\n",
      "   window.NREUM||(NREUM={}),__nr_require=function(e,t,n){function r(n){if(!t[n]){var o=t[n]={exports:{}};e[n][0].call(o.exports,function(t){var o=e[n][1][t];return r(o||t)},o,o.exports)}return t[n].exports}if(\"function\"==typeof __nr_require)return __nr_require;for(var o=0;o<n.length;o++)r(n[o]);return r}({1:[functi\n"
     ]
    }
   ],
   "source": [
    "soup = BeautifulSoup(page, 'html5lib')\n",
    "print soup.prettify()[:1000]"
   ]
  },
  {
   "cell_type": "code",
   "execution_count": 43,
   "metadata": {},
   "outputs": [
    {
     "name": "stdout",
     "output_type": "stream",
     "text": [
      "class=\"content-title\">\n",
      "                  <span>\n",
      "                   Letter Opposing Legislation That Would Advance Flawed Immigration Enforcement Methods\n",
      "                  </span>\n",
      "                 </h2>\n",
      "                 <time datetime=\"2017-10-31T10:48:37-0400\">\n",
      "                  October 31, 2017\n",
      "                 </time>\n",
      "                </div>\n",
      "               </a>\n",
      "               <div>\n",
      "               </div>\n",
      "              </div>\n",
      "             </div>\n",
      "             <div class=\"block block-content col-12 col-lg-4\">\n",
      "              <div class=\"content-details \">\n",
      "               <a class=\"b-inner\" href=\"/about/advocacy/legislative-alerts/letter-opposing-bill-would-weaken-protections-us-workers-and-make\">\n",
      "                <div class=\"b-text\">\n",
      "                 <h5 class=\"content-type\">\n",
      "                  Legislative Alert\n",
      "                 </h5>\n",
      "                 <h2 class=\"content-title\">\n",
      "                  <span>\n",
      "                   Letter Opposing Bill That Would Weaken Protections for U.S. Workers and Make Agricultural Work More Insecure\n",
      "                  </span>\n",
      "                 </h2>\n",
      "                 <time datetime=\"2017-10-31T10:48:34-0400\">\n",
      "                  October 31, 2017\n",
      "                 </time>\n",
      "                </div>\n",
      "               </a>\n",
      "               <div>\n",
      "               </div>\n",
      "              </div>\n",
      "             </div>\n",
      "             <div class=\"block block-content col-12 col-lg-4\">\n",
      "              <div class=\"content-details \">\n",
      "               <a class=\"b-inner\" href=\"/about/advocacy/legislative-alerts/letter-senate-opposing-budget-resolution\">\n",
      "                <div class=\"b-text\">\n",
      "                 <h5 class=\"content-type\">\n",
      "                  Legislative Alert\n",
      "                 </h5>\n",
      "                 <h2 class=\"content-title\">\n",
      "                  <span>\n",
      "                   Letter to Senat\n"
     ]
    }
   ],
   "source": [
    "print soup.prettify()[28700:30500]"
   ]
  },
  {
   "cell_type": "code",
   "execution_count": 44,
   "metadata": {},
   "outputs": [
    {
     "name": "stdout",
     "output_type": "stream",
     "text": [
      "Help on method find_all in module bs4.element:\n",
      "\n",
      "find_all(self, name=None, attrs={}, recursive=True, text=None, limit=None, **kwargs) method of bs4.BeautifulSoup instance\n",
      "    Extracts a list of Tag objects that match the given\n",
      "    criteria.  You can specify the name of the Tag and any\n",
      "    attributes you want the Tag to have.\n",
      "    \n",
      "    The value of a key-value pair in the 'attrs' map can be a\n",
      "    string, a list of strings, a regular expression object, or a\n",
      "    callable that takes a string and returns whether or not the\n",
      "    string matches for some custom definition of 'matches'. The\n",
      "    same is true of the tag name.\n",
      "\n"
     ]
    }
   ],
   "source": [
    "help(soup.find_all)"
   ]
  },
  {
   "cell_type": "code",
   "execution_count": 45,
   "metadata": {},
   "outputs": [
    {
     "name": "stdout",
     "output_type": "stream",
     "text": [
      "18\n"
     ]
    },
    {
     "data": {
      "text/plain": [
       "bs4.element.ResultSet"
      ]
     },
     "execution_count": 45,
     "metadata": {},
     "output_type": "execute_result"
    }
   ],
   "source": [
    "alerts = soup.find_all('div', class_='content-details')\n",
    "print len(alerts)\n",
    "type(alerts)"
   ]
  },
  {
   "cell_type": "code",
   "execution_count": 51,
   "metadata": {},
   "outputs": [
    {
     "data": {
      "text/plain": [
       "<div class=\"content-details \">\\n\\t<a class=\"b-inner\" href=\"/about/advocacy/legislative-alerts/letter-representatives-opposing-act-would-deny-protections\">\\n\\t  <div class=\"b-text\">\\n      <h5 class=\"content-type\">Legislative Alert</h5>\\n      <h2 class=\"content-title\"><span>Letter to Representatives Opposing an Act That Would Deny Protections for Workers Employed on Indian Land</span>\\n</h2>\\n            <time datetime=\"2018-01-09T14:40:19-0500\">January 9, 2018</time>\\n    </div>\\n\\t</a>\\n  <div></div>\\n</div>"
      ]
     },
     "execution_count": 51,
     "metadata": {},
     "output_type": "execute_result"
    }
   ],
   "source": [
    "alerts[0]"
   ]
  },
  {
   "cell_type": "code",
   "execution_count": 49,
   "metadata": {},
   "outputs": [
    {
     "name": "stdout",
     "output_type": "stream",
     "text": [
      "January 9, 2018\n",
      "Letter to Representatives Opposing an Act That Would Deny Protections for Workers Employed on Indian Land\n",
      "/about/advocacy/legislative-alerts/letter-representatives-opposing-act-would-deny-protections\n"
     ]
    }
   ],
   "source": [
    "first = alerts[0]\n",
    "print first.find('time').get_text()\n",
    "print first.a.find('span').get_text()\n",
    "print first.a['href']"
   ]
  },
  {
   "cell_type": "code",
   "execution_count": 52,
   "metadata": {
    "collapsed": true
   },
   "outputs": [],
   "source": [
    "def get_aflcio_alerts():\n",
    "    result = []\n",
    "    r = requests.get('http://www.aflcio.org/Legislation-and-Politics/Legislative-Alerts')\n",
    "    soup = BeautifulSoup(r.content, 'html5lib')\n",
    "    \n",
    "    for alert in soup.find_all('div', class_='content-details'):\n",
    "        dictionary = {}\n",
    "        dictionary['date'] = alert.find('time').get_text()\n",
    "        dictionary['title'] = alert.a.find('span').get_text()\n",
    "        dictionary['link'] = 'http://www.aflcio.org' + alert.a['href']\n",
    "        \n",
    "        result.append(dictionary)\n",
    "        \n",
    "    return result"
   ]
  },
  {
   "cell_type": "code",
   "execution_count": 53,
   "metadata": {},
   "outputs": [
    {
     "data": {
      "text/plain": [
       "[{'date': u'January 9, 2018',\n",
       "  'link': u'http://www.aflcio.org/about/advocacy/legislative-alerts/letter-representatives-opposing-act-would-deny-protections',\n",
       "  'title': u'Letter to Representatives Opposing an Act That Would Deny Protections for Workers Employed on Indian Land'},\n",
       " {'date': u'December 19, 2017',\n",
       "  'link': u'http://www.aflcio.org/about/advocacy/legislative-alerts/letter-opposing-tax-legislation-will-kill-jobs-and-give-huge-tax',\n",
       "  'title': u'Letter Opposing Tax Legislation That Will Kill Jobs and Give Huge Tax Breaks to Corporations'}]"
      ]
     },
     "execution_count": 53,
     "metadata": {},
     "output_type": "execute_result"
    }
   ],
   "source": [
    "letters = get_aflcio_alerts()\n",
    "letters[:2]"
   ]
  },
  {
   "cell_type": "code",
   "execution_count": 54,
   "metadata": {},
   "outputs": [
    {
     "data": {
      "text/plain": [
       "'[{\"date\": \"January 9, 2018\", \"link\": \"http://www.aflcio.org/about/advocacy/legislative-alerts/letter-representatives-opposing-act-would-deny-protections\", \"title\": \"Letter to Representatives Opposing an Act That Would Deny Protections for Workers Employed on Indian Land\"}, {\"date\": \"December 19, 2017\", \"link\": \"http://www.aflcio.org/about/advocacy/legislative-alerts/letter-opposing-tax-legislation-will-kill-jobs-and-give-huge-tax\", \"title\": \"Letter Opposing Tax Legislation That Will Kill Jobs and Give Huge Tax Breaks to Corporations\"}, {\"date\": \"November 28, 2017\", \"link\": \"http://www.aflcio.org/about/advocacy/legislative-alerts/opposition-nomination-alex-azar-be-secretary-department-health\", \"title\": \"In Opposition to the Nomination of Alex Azar to be Secretary of the Department of Health and Human Services\"}, {\"date\": \"November 3, 2017\", \"link\": \"http://www.aflcio.org/about/advocacy/legislative-alerts/letter-opposing-bill-would-slash-support-health-programs-benefit\", \"title\": \"Letter'"
      ]
     },
     "execution_count": 54,
     "metadata": {},
     "output_type": "execute_result"
    }
   ],
   "source": [
    "# And we come full circle! We encode the list we created in \n",
    "# a json string. We could then provide that over the internet\n",
    "# in our own API!!\n",
    "\n",
    "json.dumps(letters)[:1000]"
   ]
  },
  {
   "cell_type": "markdown",
   "metadata": {},
   "source": [
    "# Annex: ultra easy scraping with pandas!\n",
    "\n",
    "When the data we want is already formatted as a table, we can do it even more easily! Just use `pandas.read_html`:"
   ]
  },
  {
   "cell_type": "code",
   "execution_count": 24,
   "metadata": {
    "collapsed": true
   },
   "outputs": [],
   "source": [
    "tables = pd.read_html('https://en.wikipedia.org/wiki/List_of_accidents_and_disasters_by_death_toll', header=0)"
   ]
  },
  {
   "cell_type": "code",
   "execution_count": 31,
   "metadata": {},
   "outputs": [
    {
     "data": {
      "text/html": [
       "<div>\n",
       "<style>\n",
       "    .dataframe thead tr:only-child th {\n",
       "        text-align: right;\n",
       "    }\n",
       "\n",
       "    .dataframe thead th {\n",
       "        text-align: left;\n",
       "    }\n",
       "\n",
       "    .dataframe tbody tr th {\n",
       "        vertical-align: top;\n",
       "    }\n",
       "</style>\n",
       "<table border=\"1\" class=\"dataframe\">\n",
       "  <thead>\n",
       "    <tr style=\"text-align: right;\">\n",
       "      <th></th>\n",
       "      <th>Deaths</th>\n",
       "      <th>Date</th>\n",
       "      <th>Incident</th>\n",
       "    </tr>\n",
       "  </thead>\n",
       "  <tbody>\n",
       "    <tr>\n",
       "      <th>0</th>\n",
       "      <td>20000</td>\n",
       "      <td>000000001626-05-30-000030 May 1626</td>\n",
       "      <td>Wanggongchang Explosion in Beijing, China in t...</td>\n",
       "    </tr>\n",
       "    <tr>\n",
       "      <th>1</th>\n",
       "      <td>6000</td>\n",
       "      <td>000000001948-11-01-00001 November 1948</td>\n",
       "      <td>Boiler and ammunition explosion aboard an unid...</td>\n",
       "    </tr>\n",
       "    <tr>\n",
       "      <th>2</th>\n",
       "      <td>3000</td>\n",
       "      <td>000000001769-08-18-000018 August 1769</td>\n",
       "      <td>A lightning bolt caused the Brescia Explosion ...</td>\n",
       "    </tr>\n",
       "    <tr>\n",
       "      <th>3</th>\n",
       "      <td>1950</td>\n",
       "      <td>000000001917-12-06-00006 December 1917</td>\n",
       "      <td>Halifax Explosion in Nova Scotia, Canada[43]</td>\n",
       "    </tr>\n",
       "    <tr>\n",
       "      <th>4</th>\n",
       "      <td>1500</td>\n",
       "      <td>000000001941-06-08-00008 June 1941</td>\n",
       "      <td>Ammunition plant with facilities explode at Sm...</td>\n",
       "    </tr>\n",
       "  </tbody>\n",
       "</table>\n",
       "</div>"
      ],
      "text/plain": [
       "  Deaths                                    Date  \\\n",
       "0  20000      000000001626-05-30-000030 May 1626   \n",
       "1   6000  000000001948-11-01-00001 November 1948   \n",
       "2   3000   000000001769-08-18-000018 August 1769   \n",
       "3   1950  000000001917-12-06-00006 December 1917   \n",
       "4   1500      000000001941-06-08-00008 June 1941   \n",
       "\n",
       "                                            Incident  \n",
       "0  Wanggongchang Explosion in Beijing, China in t...  \n",
       "1  Boiler and ammunition explosion aboard an unid...  \n",
       "2  A lightning bolt caused the Brescia Explosion ...  \n",
       "3       Halifax Explosion in Nova Scotia, Canada[43]  \n",
       "4  Ammunition plant with facilities explode at Sm...  "
      ]
     },
     "execution_count": 31,
     "metadata": {},
     "output_type": "execute_result"
    }
   ],
   "source": [
    "tables[4].head()"
   ]
  },
  {
   "cell_type": "markdown",
   "metadata": {},
   "source": [
    "# Annex II: exercises"
   ]
  },
  {
   "cell_type": "markdown",
   "metadata": {},
   "source": [
    "### Exercise:\n",
    "\n",
    "Extract the date of the worst aviation disaster from: https://en.wikipedia.org/wiki/List_of_accidents_and_disasters_by_death_toll\n",
    "\n",
    "Prerequisites: pandas, pd.read_html"
   ]
  },
  {
   "cell_type": "code",
   "execution_count": 29,
   "metadata": {
    "collapsed": true,
    "scrolled": true
   },
   "outputs": [],
   "source": [
    "import pandas as pd\n",
    "disaster_tables = pd.read_html(\"https://en.wikipedia.org/wiki/List_of_accidents_and_disasters_by_death_toll\", header = 0)"
   ]
  },
  {
   "cell_type": "code",
   "execution_count": 30,
   "metadata": {},
   "outputs": [
    {
     "data": {
      "text/html": [
       "<div>\n",
       "<style>\n",
       "    .dataframe thead tr:only-child th {\n",
       "        text-align: right;\n",
       "    }\n",
       "\n",
       "    .dataframe thead th {\n",
       "        text-align: left;\n",
       "    }\n",
       "\n",
       "    .dataframe tbody tr th {\n",
       "        vertical-align: top;\n",
       "    }\n",
       "</style>\n",
       "<table border=\"1\" class=\"dataframe\">\n",
       "  <thead>\n",
       "    <tr style=\"text-align: right;\">\n",
       "      <th></th>\n",
       "      <th>Deaths</th>\n",
       "      <th>Date</th>\n",
       "      <th>Incident</th>\n",
       "      <th>Location</th>\n",
       "    </tr>\n",
       "  </thead>\n",
       "  <tbody>\n",
       "    <tr>\n",
       "      <th>0</th>\n",
       "      <td>583</td>\n",
       "      <td>27 March 1977</td>\n",
       "      <td>Pan Am Flight 1736 and KLM Flight 4805</td>\n",
       "      <td>Tenerife, Canary Islands, Spain</td>\n",
       "    </tr>\n",
       "    <tr>\n",
       "      <th>1</th>\n",
       "      <td>520</td>\n",
       "      <td>12 August 1985</td>\n",
       "      <td>Japan Airlines Flight 123</td>\n",
       "      <td>Ueno, Japan</td>\n",
       "    </tr>\n",
       "    <tr>\n",
       "      <th>2</th>\n",
       "      <td>349</td>\n",
       "      <td>12 November 1996</td>\n",
       "      <td>Saudi Arabian Flight 763 and Kazakhstan Airlin...</td>\n",
       "      <td>Charkhi Dadri, Haryana, India</td>\n",
       "    </tr>\n",
       "    <tr>\n",
       "      <th>3</th>\n",
       "      <td>346</td>\n",
       "      <td>3 March 1974</td>\n",
       "      <td>Turkish Airlines Flight 981</td>\n",
       "      <td>Fontaine-Chaalis, France</td>\n",
       "    </tr>\n",
       "    <tr>\n",
       "      <th>4</th>\n",
       "      <td>301</td>\n",
       "      <td>19 August 1980</td>\n",
       "      <td>Saudia Flight 163</td>\n",
       "      <td>Riyadh, Saudi Arabia</td>\n",
       "    </tr>\n",
       "  </tbody>\n",
       "</table>\n",
       "</div>"
      ],
      "text/plain": [
       "   Deaths              Date  \\\n",
       "0     583     27 March 1977   \n",
       "1     520    12 August 1985   \n",
       "2     349  12 November 1996   \n",
       "3     346      3 March 1974   \n",
       "4     301    19 August 1980   \n",
       "\n",
       "                                            Incident  \\\n",
       "0             Pan Am Flight 1736 and KLM Flight 4805   \n",
       "1                          Japan Airlines Flight 123   \n",
       "2  Saudi Arabian Flight 763 and Kazakhstan Airlin...   \n",
       "3                        Turkish Airlines Flight 981   \n",
       "4                                  Saudia Flight 163   \n",
       "\n",
       "                          Location  \n",
       "0  Tenerife, Canary Islands, Spain  \n",
       "1                      Ueno, Japan  \n",
       "2    Charkhi Dadri, Haryana, India  \n",
       "3         Fontaine-Chaalis, France  \n",
       "4             Riyadh, Saudi Arabia  "
      ]
     },
     "execution_count": 30,
     "metadata": {},
     "output_type": "execute_result"
    }
   ],
   "source": [
    "aviation = disaster_tables[2] # reading from html\n",
    "aviation.head()"
   ]
  },
  {
   "cell_type": "code",
   "execution_count": 31,
   "metadata": {},
   "outputs": [
    {
     "data": {
      "text/plain": [
       "0    27 March 1977\n",
       "Name: Date, dtype: object"
      ]
     },
     "execution_count": 31,
     "metadata": {},
     "output_type": "execute_result"
    }
   ],
   "source": [
    "aviation.sort_values('Deaths', ascending = False).head(1)['Date']"
   ]
  },
  {
   "cell_type": "markdown",
   "metadata": {},
   "source": [
    "### Exercise: \n",
    "\n",
    "Assuming the list is exhaustive, calculate how many people died in accidental explosions per decade in the XX century. Plot it.\n",
    "\n",
    "Data: \n",
    "https://en.wikipedia.org/wiki/List_of_accidents_and_disasters_by_death_toll\n",
    "\n",
    "Prerequisites: pandas, pd.read_html, pd.to_datetime, matplotlib or seaborn"
   ]
  },
  {
   "cell_type": "code",
   "execution_count": 165,
   "metadata": {
    "collapsed": true
   },
   "outputs": [],
   "source": [
    "import numpy as np\n",
    "disaster_tables = pd.read_html(\"https://en.wikipedia.org/wiki/List_of_accidents_and_disasters_by_death_toll\", header = 0)\n",
    "explotions = disaster_tables[4] # reading from html"
   ]
  },
  {
   "cell_type": "code",
   "execution_count": 166,
   "metadata": {},
   "outputs": [
    {
     "data": {
      "text/html": [
       "<div>\n",
       "<style>\n",
       "    .dataframe thead tr:only-child th {\n",
       "        text-align: right;\n",
       "    }\n",
       "\n",
       "    .dataframe thead th {\n",
       "        text-align: left;\n",
       "    }\n",
       "\n",
       "    .dataframe tbody tr th {\n",
       "        vertical-align: top;\n",
       "    }\n",
       "</style>\n",
       "<table border=\"1\" class=\"dataframe\">\n",
       "  <thead>\n",
       "    <tr style=\"text-align: right;\">\n",
       "      <th></th>\n",
       "      <th>Deaths</th>\n",
       "      <th>Date</th>\n",
       "      <th>Incident</th>\n",
       "    </tr>\n",
       "  </thead>\n",
       "  <tbody>\n",
       "    <tr>\n",
       "      <th>0</th>\n",
       "      <td>20000</td>\n",
       "      <td>000000001626-05-30-000030 May 1626</td>\n",
       "      <td>Wanggongchang Explosion in Beijing, China in t...</td>\n",
       "    </tr>\n",
       "    <tr>\n",
       "      <th>1</th>\n",
       "      <td>6000</td>\n",
       "      <td>000000001948-11-01-00001 November 1948</td>\n",
       "      <td>Boiler and ammunition explosion aboard an unid...</td>\n",
       "    </tr>\n",
       "    <tr>\n",
       "      <th>2</th>\n",
       "      <td>3000</td>\n",
       "      <td>000000001769-08-18-000018 August 1769</td>\n",
       "      <td>A lightning bolt caused the Brescia Explosion ...</td>\n",
       "    </tr>\n",
       "    <tr>\n",
       "      <th>3</th>\n",
       "      <td>1950</td>\n",
       "      <td>000000001917-12-06-00006 December 1917</td>\n",
       "      <td>Halifax Explosion in Nova Scotia, Canada[43]</td>\n",
       "    </tr>\n",
       "    <tr>\n",
       "      <th>4</th>\n",
       "      <td>1500</td>\n",
       "      <td>000000001941-06-08-00008 June 1941</td>\n",
       "      <td>Ammunition plant with facilities explode at Sm...</td>\n",
       "    </tr>\n",
       "  </tbody>\n",
       "</table>\n",
       "</div>"
      ],
      "text/plain": [
       "  Deaths                                    Date  \\\n",
       "0  20000      000000001626-05-30-000030 May 1626   \n",
       "1   6000  000000001948-11-01-00001 November 1948   \n",
       "2   3000   000000001769-08-18-000018 August 1769   \n",
       "3   1950  000000001917-12-06-00006 December 1917   \n",
       "4   1500      000000001941-06-08-00008 June 1941   \n",
       "\n",
       "                                            Incident  \n",
       "0  Wanggongchang Explosion in Beijing, China in t...  \n",
       "1  Boiler and ammunition explosion aboard an unid...  \n",
       "2  A lightning bolt caused the Brescia Explosion ...  \n",
       "3       Halifax Explosion in Nova Scotia, Canada[43]  \n",
       "4  Ammunition plant with facilities explode at Sm...  "
      ]
     },
     "execution_count": 166,
     "metadata": {},
     "output_type": "execute_result"
    }
   ],
   "source": [
    "explotions.head()"
   ]
  },
  {
   "cell_type": "code",
   "execution_count": 167,
   "metadata": {},
   "outputs": [
    {
     "data": {
      "text/plain": [
       "1620"
      ]
     },
     "execution_count": 167,
     "metadata": {},
     "output_type": "execute_result"
    }
   ],
   "source": [
    "def stringDate_to_decade(string):\n",
    "    decade = int(string[-4:-1]+\"0\")\n",
    "    return decade\n",
    "\n",
    "stringDate_to_decade(explotions['Date'][0])"
   ]
  },
  {
   "cell_type": "markdown",
   "metadata": {},
   "source": [
    "Parsing dates from _explotions_ dataframe to decade:"
   ]
  },
  {
   "cell_type": "code",
   "execution_count": 168,
   "metadata": {
    "collapsed": true
   },
   "outputs": [],
   "source": [
    "explotions['decade'] = explotions['Date'].map(stringDate_to_decade)"
   ]
  },
  {
   "cell_type": "markdown",
   "metadata": {},
   "source": [
    "There are some extra white spaces, symbols and other things like \"[a]\", +, etc. Let's convert the Deaths variable into integer."
   ]
  },
  {
   "cell_type": "code",
   "execution_count": 169,
   "metadata": {},
   "outputs": [
    {
     "name": "stdout",
     "output_type": "stream",
     "text": [
      "2000\n",
      "100\n",
      "63\n"
     ]
    }
   ],
   "source": [
    "def get_num(x):\n",
    "    return int(''.join(ele for ele in x if ele.isdigit()))\n",
    "\n",
    "print(get_num(\"2,000\"))\n",
    "print(get_num(\"100+\"))\n",
    "print(get_num(\"63[a]\"))"
   ]
  },
  {
   "cell_type": "code",
   "execution_count": 170,
   "metadata": {
    "collapsed": true
   },
   "outputs": [],
   "source": [
    "explotions['Deaths'] = explotions['Deaths'].map(lambda x:get_num(x))"
   ]
  },
  {
   "cell_type": "markdown",
   "metadata": {},
   "source": [
    "Grouping by decade and aggregate the number of deaths for each decade."
   ]
  },
  {
   "cell_type": "code",
   "execution_count": 171,
   "metadata": {
    "collapsed": true
   },
   "outputs": [],
   "source": [
    "deaths_by_decade = pd.DataFrame(explotions.groupby('decade')['Deaths'].sum())"
   ]
  },
  {
   "cell_type": "markdown",
   "metadata": {},
   "source": [
    "Selecting XX century..."
   ]
  },
  {
   "cell_type": "code",
   "execution_count": 177,
   "metadata": {
    "collapsed": true
   },
   "outputs": [],
   "source": [
    "mask_XX_century = (deaths_by_decade.reset_index()['decade'] >= 1900) & (deaths_by_decade.reset_index()['decade'] <= 2000)"
   ]
  },
  {
   "cell_type": "code",
   "execution_count": 191,
   "metadata": {},
   "outputs": [
    {
     "data": {
      "text/html": [
       "<div>\n",
       "<style>\n",
       "    .dataframe thead tr:only-child th {\n",
       "        text-align: right;\n",
       "    }\n",
       "\n",
       "    .dataframe thead th {\n",
       "        text-align: left;\n",
       "    }\n",
       "\n",
       "    .dataframe tbody tr th {\n",
       "        vertical-align: top;\n",
       "    }\n",
       "</style>\n",
       "<table border=\"1\" class=\"dataframe\">\n",
       "  <thead>\n",
       "    <tr style=\"text-align: right;\">\n",
       "      <th></th>\n",
       "      <th>Deaths</th>\n",
       "    </tr>\n",
       "    <tr>\n",
       "      <th>decade</th>\n",
       "      <th></th>\n",
       "    </tr>\n",
       "  </thead>\n",
       "  <tbody>\n",
       "    <tr>\n",
       "      <th>1900</th>\n",
       "      <td>1247</td>\n",
       "    </tr>\n",
       "    <tr>\n",
       "      <th>1910</th>\n",
       "      <td>6065</td>\n",
       "    </tr>\n",
       "    <tr>\n",
       "      <th>1920</th>\n",
       "      <td>2866</td>\n",
       "    </tr>\n",
       "    <tr>\n",
       "      <th>1930</th>\n",
       "      <td>1001</td>\n",
       "    </tr>\n",
       "    <tr>\n",
       "      <th>1940</th>\n",
       "      <td>14366</td>\n",
       "    </tr>\n",
       "    <tr>\n",
       "      <th>1950</th>\n",
       "      <td>1650</td>\n",
       "    </tr>\n",
       "    <tr>\n",
       "      <th>1960</th>\n",
       "      <td>477</td>\n",
       "    </tr>\n",
       "    <tr>\n",
       "      <th>1970</th>\n",
       "      <td>848</td>\n",
       "    </tr>\n",
       "    <tr>\n",
       "      <th>1980</th>\n",
       "      <td>2971</td>\n",
       "    </tr>\n",
       "    <tr>\n",
       "      <th>1990</th>\n",
       "      <td>2770</td>\n",
       "    </tr>\n",
       "    <tr>\n",
       "      <th>2000</th>\n",
       "      <td>2689</td>\n",
       "    </tr>\n",
       "  </tbody>\n",
       "</table>\n",
       "</div>"
      ],
      "text/plain": [
       "        Deaths\n",
       "decade        \n",
       "1900      1247\n",
       "1910      6065\n",
       "1920      2866\n",
       "1930      1001\n",
       "1940     14366\n",
       "1950      1650\n",
       "1960       477\n",
       "1970       848\n",
       "1980      2971\n",
       "1990      2770\n",
       "2000      2689"
      ]
     },
     "execution_count": 191,
     "metadata": {},
     "output_type": "execute_result"
    }
   ],
   "source": [
    "deaths_XX_century = deaths_by_decade.reset_index()[mask_XX_century]\n",
    "deaths_XX_century.set_index('decade')"
   ]
  },
  {
   "cell_type": "code",
   "execution_count": 192,
   "metadata": {},
   "outputs": [
    {
     "data": {
      "text/plain": [
       "<matplotlib.axes._subplots.AxesSubplot at 0x7f803b77e910>"
      ]
     },
     "execution_count": 192,
     "metadata": {},
     "output_type": "execute_result"
    },
    {
     "data": {
      "image/png": "[encoded data removed]",
      "text/plain": [
       "<matplotlib.figure.Figure at 0x7f803b872810>"
      ]
     },
     "metadata": {},
     "output_type": "display_data"
    }
   ],
   "source": [
    "import matplotlib.pyplot as plt\n",
    "%matplotlib inline\n",
    "plt.style.use(\"ggplot\")\n",
    "\n",
    "deaths_XX_century.set_index('decade').plot()"
   ]
  },
  {
   "cell_type": "markdown",
   "metadata": {},
   "source": [
    "### Exercise: \n",
    "\n",
    "create a function that, given the two tables extracted from http://en.wikipedia.org/wiki/List_of_S%26P_500_companies and a date, returns the list of companies in the S&P 500 at that date."
   ]
  },
  {
   "cell_type": "markdown",
   "metadata": {},
   "source": [
    "There is no problem for reading the first table from wikipedia, since each value in the table corresponds to one cell."
   ]
  },
  {
   "cell_type": "code",
   "execution_count": null,
   "metadata": {
    "collapsed": true
   },
   "outputs": [],
   "source": [
    "sp_companies = pd.read_html(\"http://en.wikipedia.org/wiki/List_of_S%26P_500_companies\", header = 0)"
   ]
  },
  {
   "cell_type": "code",
   "execution_count": 15,
   "metadata": {},
   "outputs": [
    {
     "data": {
      "text/html": [
       "<div>\n",
       "<style>\n",
       "    .dataframe thead tr:only-child th {\n",
       "        text-align: right;\n",
       "    }\n",
       "\n",
       "    .dataframe thead th {\n",
       "        text-align: left;\n",
       "    }\n",
       "\n",
       "    .dataframe tbody tr th {\n",
       "        vertical-align: top;\n",
       "    }\n",
       "</style>\n",
       "<table border=\"1\" class=\"dataframe\">\n",
       "  <thead>\n",
       "    <tr style=\"text-align: right;\">\n",
       "      <th></th>\n",
       "      <th>Ticker symbol</th>\n",
       "      <th>Security</th>\n",
       "      <th>SEC filings</th>\n",
       "      <th>GICS Sector</th>\n",
       "      <th>GICS Sub Industry</th>\n",
       "      <th>Address of Headquarters</th>\n",
       "      <th>Date first added</th>\n",
       "      <th>CIK</th>\n",
       "    </tr>\n",
       "  </thead>\n",
       "  <tbody>\n",
       "    <tr>\n",
       "      <th>0</th>\n",
       "      <td>MMM</td>\n",
       "      <td>3M Company</td>\n",
       "      <td>reports</td>\n",
       "      <td>Industrials</td>\n",
       "      <td>Industrial Conglomerates</td>\n",
       "      <td>St. Paul, Minnesota</td>\n",
       "      <td>NaN</td>\n",
       "      <td>66740</td>\n",
       "    </tr>\n",
       "    <tr>\n",
       "      <th>1</th>\n",
       "      <td>ABT</td>\n",
       "      <td>Abbott Laboratories</td>\n",
       "      <td>reports</td>\n",
       "      <td>Health Care</td>\n",
       "      <td>Health Care Equipment</td>\n",
       "      <td>North Chicago, Illinois</td>\n",
       "      <td>1964-03-31</td>\n",
       "      <td>1800</td>\n",
       "    </tr>\n",
       "    <tr>\n",
       "      <th>2</th>\n",
       "      <td>ABBV</td>\n",
       "      <td>AbbVie Inc.</td>\n",
       "      <td>reports</td>\n",
       "      <td>Health Care</td>\n",
       "      <td>Pharmaceuticals</td>\n",
       "      <td>North Chicago, Illinois</td>\n",
       "      <td>2012-12-31</td>\n",
       "      <td>1551152</td>\n",
       "    </tr>\n",
       "    <tr>\n",
       "      <th>3</th>\n",
       "      <td>ACN</td>\n",
       "      <td>Accenture plc</td>\n",
       "      <td>reports</td>\n",
       "      <td>Information Technology</td>\n",
       "      <td>IT Consulting &amp; Other Services</td>\n",
       "      <td>Dublin, Ireland</td>\n",
       "      <td>2011-07-06</td>\n",
       "      <td>1467373</td>\n",
       "    </tr>\n",
       "    <tr>\n",
       "      <th>4</th>\n",
       "      <td>ATVI</td>\n",
       "      <td>Activision Blizzard</td>\n",
       "      <td>reports</td>\n",
       "      <td>Information Technology</td>\n",
       "      <td>Home Entertainment Software</td>\n",
       "      <td>Santa Monica, California</td>\n",
       "      <td>2015-08-31</td>\n",
       "      <td>718877</td>\n",
       "    </tr>\n",
       "  </tbody>\n",
       "</table>\n",
       "</div>"
      ],
      "text/plain": [
       "  Ticker symbol             Security SEC filings             GICS Sector  \\\n",
       "0           MMM           3M Company     reports             Industrials   \n",
       "1           ABT  Abbott Laboratories     reports             Health Care   \n",
       "2          ABBV          AbbVie Inc.     reports             Health Care   \n",
       "3           ACN        Accenture plc     reports  Information Technology   \n",
       "4          ATVI  Activision Blizzard     reports  Information Technology   \n",
       "\n",
       "                GICS Sub Industry   Address of Headquarters Date first added  \\\n",
       "0        Industrial Conglomerates       St. Paul, Minnesota              NaN   \n",
       "1           Health Care Equipment   North Chicago, Illinois       1964-03-31   \n",
       "2                 Pharmaceuticals   North Chicago, Illinois       2012-12-31   \n",
       "3  IT Consulting & Other Services           Dublin, Ireland       2011-07-06   \n",
       "4     Home Entertainment Software  Santa Monica, California       2015-08-31   \n",
       "\n",
       "       CIK  \n",
       "0    66740  \n",
       "1     1800  \n",
       "2  1551152  \n",
       "3  1467373  \n",
       "4   718877  "
      ]
     },
     "execution_count": 15,
     "metadata": {},
     "output_type": "execute_result"
    }
   ],
   "source": [
    "stocks = sp_companies[0]\n",
    "stocks.head()"
   ]
  },
  {
   "cell_type": "markdown",
   "metadata": {},
   "source": [
    "However, for the second html table we have some problems in certain rows because of combined cells."
   ]
  },
  {
   "cell_type": "code",
   "execution_count": 41,
   "metadata": {
    "scrolled": true
   },
   "outputs": [
    {
     "data": {
      "text/html": [
       "<div>\n",
       "<style>\n",
       "    .dataframe thead tr:only-child th {\n",
       "        text-align: right;\n",
       "    }\n",
       "\n",
       "    .dataframe thead th {\n",
       "        text-align: left;\n",
       "    }\n",
       "\n",
       "    .dataframe tbody tr th {\n",
       "        vertical-align: top;\n",
       "    }\n",
       "</style>\n",
       "<table border=\"1\" class=\"dataframe\">\n",
       "  <thead>\n",
       "    <tr style=\"text-align: right;\">\n",
       "      <th></th>\n",
       "      <th>Unnamed: 0</th>\n",
       "      <th>Added</th>\n",
       "      <th>Removed</th>\n",
       "      <th>Unnamed: 3</th>\n",
       "      <th>Unnamed: 4</th>\n",
       "      <th>Unnamed: 5</th>\n",
       "    </tr>\n",
       "  </thead>\n",
       "  <tbody>\n",
       "    <tr>\n",
       "      <th>7</th>\n",
       "      <td>August 7, 2017</td>\n",
       "      <td>BHF</td>\n",
       "      <td>Brighthouse Financial Inc</td>\n",
       "      <td>NaN</td>\n",
       "      <td>NaN</td>\n",
       "      <td>MET spun off BHF[13]</td>\n",
       "    </tr>\n",
       "    <tr>\n",
       "      <th>8</th>\n",
       "      <td>July 26, 2017</td>\n",
       "      <td>DRE</td>\n",
       "      <td>Duke Realty Corp</td>\n",
       "      <td>RIG</td>\n",
       "      <td>Transocean</td>\n",
       "      <td>Market capitalization changes.[14]</td>\n",
       "    </tr>\n",
       "    <tr>\n",
       "      <th>9</th>\n",
       "      <td>AOS</td>\n",
       "      <td>A.O. Smith</td>\n",
       "      <td>BBBY</td>\n",
       "      <td>Bed Bath &amp; Beyond</td>\n",
       "      <td>NaN</td>\n",
       "      <td>NaN</td>\n",
       "    </tr>\n",
       "    <tr>\n",
       "      <th>10</th>\n",
       "      <td>PKG</td>\n",
       "      <td>Packaging Corporation of America</td>\n",
       "      <td>MUR</td>\n",
       "      <td>Murphy Oil</td>\n",
       "      <td>NaN</td>\n",
       "      <td>NaN</td>\n",
       "    </tr>\n",
       "    <tr>\n",
       "      <th>11</th>\n",
       "      <td>RMD</td>\n",
       "      <td>ResMed</td>\n",
       "      <td>MNK</td>\n",
       "      <td>Mallinckrodt</td>\n",
       "      <td>NaN</td>\n",
       "      <td>NaN</td>\n",
       "    </tr>\n",
       "  </tbody>\n",
       "</table>\n",
       "</div>"
      ],
      "text/plain": [
       "        Unnamed: 0                             Added  \\\n",
       "7   August 7, 2017                               BHF   \n",
       "8    July 26, 2017                               DRE   \n",
       "9              AOS                        A.O. Smith   \n",
       "10             PKG  Packaging Corporation of America   \n",
       "11             RMD                            ResMed   \n",
       "\n",
       "                      Removed         Unnamed: 3  Unnamed: 4  \\\n",
       "7   Brighthouse Financial Inc                NaN         NaN   \n",
       "8            Duke Realty Corp                RIG  Transocean   \n",
       "9                        BBBY  Bed Bath & Beyond         NaN   \n",
       "10                        MUR         Murphy Oil         NaN   \n",
       "11                        MNK       Mallinckrodt         NaN   \n",
       "\n",
       "                            Unnamed: 5  \n",
       "7                 MET spun off BHF[13]  \n",
       "8   Market capitalization changes.[14]  \n",
       "9                                  NaN  \n",
       "10                                 NaN  \n",
       "11                                 NaN  "
      ]
     },
     "execution_count": 41,
     "metadata": {},
     "output_type": "execute_result"
    }
   ],
   "source": [
    "changes = sp_companies[1]\n",
    "changes.iloc[7:12]"
   ]
  },
  {
   "cell_type": "markdown",
   "metadata": {},
   "source": [
    "For solving this problem we are going to use some code writed by _John Ricco_ in his blog (https://johnricco.github.io/2017/04/04/python-html/) in order to get the table in the proper format:"
   ]
  },
  {
   "cell_type": "code",
   "execution_count": 37,
   "metadata": {},
   "outputs": [],
   "source": [
    "import os\n",
    "import requests\n",
    "import urllib\n",
    "import math\n",
    "import copy\n",
    "import pandas as pd\t\n",
    "import numpy as np\n",
    "from bs4 import BeautifulSoup \n",
    "\n",
    "class html_tables(object):\n",
    "    \n",
    "    def __init__(self, url):\n",
    "        \n",
    "        self.url      = url\n",
    "        self.r        = requests.get(self.url)\n",
    "        self.url_soup = BeautifulSoup(self.r.text)\n",
    "        \n",
    "    def read(self):\n",
    "        \n",
    "        self.tables      = []\n",
    "        self.tables_html = self.url_soup.find_all(\"table\")\n",
    "        \n",
    "        # Parse each table\n",
    "        for n in range(0, len(self.tables_html)):\n",
    "            \n",
    "            n_cols = 0\n",
    "            n_rows = 0\n",
    "            \n",
    "            for row in self.tables_html[n].find_all(\"tr\"):\n",
    "                col_tags = row.find_all([\"td\", \"th\"])\n",
    "                if len(col_tags) > 0:\n",
    "                    n_rows += 1\n",
    "                    if len(col_tags) > n_cols:\n",
    "                        n_cols = len(col_tags)\n",
    "            \n",
    "            # Create dataframe\n",
    "            df = pd.DataFrame(index = range(0, n_rows), columns = range(0, n_cols))\n",
    "            \n",
    "            # Create list to store rowspan values \n",
    "            skip_index = [0 for i in range(0, n_cols)]\n",
    "\n",
    "            # Start by iterating over each row in this table...\n",
    "            row_counter = 0\n",
    "            for row in self.tables_html[n].find_all(\"tr\"):\n",
    "                \n",
    "                # Skip row if it's blank\n",
    "                if len(row.find_all([\"td\", \"th\"])) == 0:\n",
    "                    next\n",
    "                \n",
    "                else:\n",
    "                    \n",
    "                    # Get all cells containing data in this row\n",
    "                    columns = row.find_all([\"td\", \"th\"])\n",
    "                    col_dim = []\n",
    "                    row_dim = []\n",
    "                    col_dim_counter = -1\n",
    "                    row_dim_counter = -1\n",
    "                    col_counter = -1\n",
    "                    this_skip_index = copy.deepcopy(skip_index)\n",
    "                    \n",
    "                    for col in columns:\n",
    "                        \n",
    "                        # Determine cell dimensions\n",
    "                        colspan = col.get(\"colspan\")\n",
    "                        if colspan is None:\n",
    "                            col_dim.append(1)\n",
    "                        else:\n",
    "                            col_dim.append(int(colspan))\n",
    "                        col_dim_counter += 1\n",
    "                            \n",
    "                        rowspan = col.get(\"rowspan\")\n",
    "                        if rowspan is None:\n",
    "                            row_dim.append(1)\n",
    "                        else:\n",
    "                            row_dim.append(int(rowspan))\n",
    "                        row_dim_counter += 1\n",
    "                            \n",
    "                        # Adjust column counter\n",
    "                        if col_counter == -1:\n",
    "                            col_counter = 0  \n",
    "                        else:\n",
    "                            col_counter = col_counter + col_dim[col_dim_counter - 1]\n",
    "                            \n",
    "                        while skip_index[col_counter] > 0:\n",
    "                            col_counter += 1\n",
    "\n",
    "                        # Get cell contents  \n",
    "                        cell_data = col.get_text()\n",
    "                        \n",
    "                        # Insert data into cell\n",
    "                        df.iat[row_counter, col_counter] = cell_data\n",
    "\n",
    "                        # Record column skipping index\n",
    "                        if row_dim[row_dim_counter] > 1:\n",
    "                            this_skip_index[col_counter] = row_dim[row_dim_counter]\n",
    "                \n",
    "                # Adjust row counter \n",
    "                row_counter += 1\n",
    "                \n",
    "                # Adjust column skipping index\n",
    "                skip_index = [i - 1 if i > 0 else i for i in this_skip_index]\n",
    "\n",
    "            # Append dataframe to list of tables\n",
    "            self.tables.append(df)\n",
    "        \n",
    "        return(self.tables)"
   ]
  },
  {
   "cell_type": "code",
   "execution_count": 46,
   "metadata": {},
   "outputs": [
    {
     "data": {
      "text/html": [
       "<div>\n",
       "<style>\n",
       "    .dataframe thead tr:only-child th {\n",
       "        text-align: right;\n",
       "    }\n",
       "\n",
       "    .dataframe thead th {\n",
       "        text-align: left;\n",
       "    }\n",
       "\n",
       "    .dataframe tbody tr th {\n",
       "        vertical-align: top;\n",
       "    }\n",
       "</style>\n",
       "<table border=\"1\" class=\"dataframe\">\n",
       "  <thead>\n",
       "    <tr style=\"text-align: right;\">\n",
       "      <th></th>\n",
       "      <th>date</th>\n",
       "      <th>ticker_add</th>\n",
       "      <th>security_add</th>\n",
       "      <th>ticker_rem</th>\n",
       "      <th>security_rem</th>\n",
       "      <th>reason</th>\n",
       "    </tr>\n",
       "  </thead>\n",
       "  <tbody>\n",
       "    <tr>\n",
       "      <th>8</th>\n",
       "      <td>August 7, 2017</td>\n",
       "      <td>BHF</td>\n",
       "      <td>Brighthouse Financial Inc</td>\n",
       "      <td></td>\n",
       "      <td></td>\n",
       "      <td>MET spun off BHF[13]</td>\n",
       "    </tr>\n",
       "    <tr>\n",
       "      <th>9</th>\n",
       "      <td>July 26, 2017</td>\n",
       "      <td>DRE</td>\n",
       "      <td>Duke Realty Corp</td>\n",
       "      <td>RIG</td>\n",
       "      <td>Transocean</td>\n",
       "      <td>Market capitalization changes.[14]</td>\n",
       "    </tr>\n",
       "    <tr>\n",
       "      <th>10</th>\n",
       "      <td>NaN</td>\n",
       "      <td>AOS</td>\n",
       "      <td>A.O. Smith</td>\n",
       "      <td>BBBY</td>\n",
       "      <td>Bed Bath &amp; Beyond</td>\n",
       "      <td>NaN</td>\n",
       "    </tr>\n",
       "    <tr>\n",
       "      <th>11</th>\n",
       "      <td>NaN</td>\n",
       "      <td>PKG</td>\n",
       "      <td>Packaging Corporation of America</td>\n",
       "      <td>MUR</td>\n",
       "      <td>Murphy Oil</td>\n",
       "      <td>NaN</td>\n",
       "    </tr>\n",
       "  </tbody>\n",
       "</table>\n",
       "</div>"
      ],
      "text/plain": [
       "              date ticker_add                      security_add ticker_rem  \\\n",
       "8   August 7, 2017        BHF         Brighthouse Financial Inc              \n",
       "9    July 26, 2017        DRE                  Duke Realty Corp        RIG   \n",
       "10             NaN        AOS                        A.O. Smith       BBBY   \n",
       "11             NaN        PKG  Packaging Corporation of America        MUR   \n",
       "\n",
       "         security_rem                              reason  \n",
       "8                                    MET spun off BHF[13]  \n",
       "9          Transocean  Market capitalization changes.[14]  \n",
       "10  Bed Bath & Beyond                                 NaN  \n",
       "11         Murphy Oil                                 NaN  "
      ]
     },
     "execution_count": 46,
     "metadata": {},
     "output_type": "execute_result"
    }
   ],
   "source": [
    "changes = html_tables(\"http://en.wikipedia.org/wiki/List_of_S%26P_500_companies\").read()[1]\n",
    "changes.columns = ['date', 'ticker_add', 'security_add', 'ticker_rem', 'security_rem', 'reason']\n",
    "changes = changes.iloc[2:]\n",
    "changes.iloc[6:10]"
   ]
  },
  {
   "cell_type": "markdown",
   "metadata": {},
   "source": [
    "Now, it looks better although there are some missing values in the date column. Let's fill them with the previous date."
   ]
  },
  {
   "cell_type": "code",
   "execution_count": 49,
   "metadata": {},
   "outputs": [
    {
     "data": {
      "text/html": [
       "<div>\n",
       "<style>\n",
       "    .dataframe thead tr:only-child th {\n",
       "        text-align: right;\n",
       "    }\n",
       "\n",
       "    .dataframe thead th {\n",
       "        text-align: left;\n",
       "    }\n",
       "\n",
       "    .dataframe tbody tr th {\n",
       "        vertical-align: top;\n",
       "    }\n",
       "</style>\n",
       "<table border=\"1\" class=\"dataframe\">\n",
       "  <thead>\n",
       "    <tr style=\"text-align: right;\">\n",
       "      <th></th>\n",
       "      <th>date</th>\n",
       "      <th>ticker_add</th>\n",
       "      <th>security_add</th>\n",
       "      <th>ticker_rem</th>\n",
       "      <th>security_rem</th>\n",
       "      <th>reason</th>\n",
       "    </tr>\n",
       "  </thead>\n",
       "  <tbody>\n",
       "    <tr>\n",
       "      <th>8</th>\n",
       "      <td>August 7, 2017</td>\n",
       "      <td>BHF</td>\n",
       "      <td>Brighthouse Financial Inc</td>\n",
       "      <td></td>\n",
       "      <td></td>\n",
       "      <td>MET spun off BHF[13]</td>\n",
       "    </tr>\n",
       "    <tr>\n",
       "      <th>9</th>\n",
       "      <td>July 26, 2017</td>\n",
       "      <td>DRE</td>\n",
       "      <td>Duke Realty Corp</td>\n",
       "      <td>RIG</td>\n",
       "      <td>Transocean</td>\n",
       "      <td>Market capitalization changes.[14]</td>\n",
       "    </tr>\n",
       "    <tr>\n",
       "      <th>10</th>\n",
       "      <td>July 26, 2017</td>\n",
       "      <td>AOS</td>\n",
       "      <td>A.O. Smith</td>\n",
       "      <td>BBBY</td>\n",
       "      <td>Bed Bath &amp; Beyond</td>\n",
       "      <td>NaN</td>\n",
       "    </tr>\n",
       "    <tr>\n",
       "      <th>11</th>\n",
       "      <td>July 26, 2017</td>\n",
       "      <td>PKG</td>\n",
       "      <td>Packaging Corporation of America</td>\n",
       "      <td>MUR</td>\n",
       "      <td>Murphy Oil</td>\n",
       "      <td>NaN</td>\n",
       "    </tr>\n",
       "  </tbody>\n",
       "</table>\n",
       "</div>"
      ],
      "text/plain": [
       "              date ticker_add                      security_add ticker_rem  \\\n",
       "8   August 7, 2017        BHF         Brighthouse Financial Inc              \n",
       "9    July 26, 2017        DRE                  Duke Realty Corp        RIG   \n",
       "10   July 26, 2017        AOS                        A.O. Smith       BBBY   \n",
       "11   July 26, 2017        PKG  Packaging Corporation of America        MUR   \n",
       "\n",
       "         security_rem                              reason  \n",
       "8                                    MET spun off BHF[13]  \n",
       "9          Transocean  Market capitalization changes.[14]  \n",
       "10  Bed Bath & Beyond                                 NaN  \n",
       "11         Murphy Oil                                 NaN  "
      ]
     },
     "execution_count": 49,
     "metadata": {},
     "output_type": "execute_result"
    }
   ],
   "source": [
    "changes['date'] = changes['date'].fillna(method = \"ffill\")\n",
    "changes.iloc[6:10]"
   ]
  },
  {
   "cell_type": "code",
   "execution_count": 77,
   "metadata": {},
   "outputs": [
    {
     "data": {
      "text/plain": [
       "'en_GB.utf8'"
      ]
     },
     "execution_count": 77,
     "metadata": {},
     "output_type": "execute_result"
    }
   ],
   "source": [
    "import locale\n",
    "locale.setlocale(locale.LC_ALL, \"en_GB.utf8\")"
   ]
  },
  {
   "cell_type": "code",
   "execution_count": 81,
   "metadata": {},
   "outputs": [],
   "source": [
    "changes['date'] = changes['date'].map(lambda x: datetime.strptime(x, '%B %d, %Y'))"
   ]
  },
  {
   "cell_type": "code",
   "execution_count": 108,
   "metadata": {
    "scrolled": true
   },
   "outputs": [
    {
     "name": "stderr",
     "output_type": "stream",
     "text": [
      "/usr/lib/python2.7/site-packages/ipykernel_launcher.py:6: UserWarning: Boolean Series key will be reindexed to match DataFrame index.\n",
      "  \n"
     ]
    },
    {
     "data": {
      "text/html": [
       "<div>\n",
       "<style>\n",
       "    .dataframe thead tr:only-child th {\n",
       "        text-align: right;\n",
       "    }\n",
       "\n",
       "    .dataframe thead th {\n",
       "        text-align: left;\n",
       "    }\n",
       "\n",
       "    .dataframe tbody tr th {\n",
       "        vertical-align: top;\n",
       "    }\n",
       "</style>\n",
       "<table border=\"1\" class=\"dataframe\">\n",
       "  <thead>\n",
       "    <tr style=\"text-align: right;\">\n",
       "      <th></th>\n",
       "      <th>Ticker symbol</th>\n",
       "      <th>Security</th>\n",
       "      <th>SEC filings</th>\n",
       "      <th>GICS Sector</th>\n",
       "      <th>GICS Sub Industry</th>\n",
       "      <th>Address of Headquarters</th>\n",
       "      <th>Date first added</th>\n",
       "      <th>CIK</th>\n",
       "    </tr>\n",
       "  </thead>\n",
       "  <tbody>\n",
       "    <tr>\n",
       "      <th>0</th>\n",
       "      <td>AVB</td>\n",
       "      <td>AvalonBay Communities, Inc.</td>\n",
       "      <td>reports</td>\n",
       "      <td>Real Estate</td>\n",
       "      <td>Residential REITs</td>\n",
       "      <td>Arlington, Virginia[4]</td>\n",
       "      <td>2007-01-10</td>\n",
       "      <td>915912</td>\n",
       "    </tr>\n",
       "    <tr>\n",
       "      <th>1</th>\n",
       "      <td>STZ</td>\n",
       "      <td>Constellation Brands</td>\n",
       "      <td>reports</td>\n",
       "      <td>Consumer Staples</td>\n",
       "      <td>Distillers &amp; Vintners</td>\n",
       "      <td>Victor, New York</td>\n",
       "      <td>2005-07-05</td>\n",
       "      <td>16918</td>\n",
       "    </tr>\n",
       "    <tr>\n",
       "      <th>2</th>\n",
       "      <td>ESRX</td>\n",
       "      <td>Express Scripts</td>\n",
       "      <td>reports</td>\n",
       "      <td>Health Care</td>\n",
       "      <td>Health Care Distributors</td>\n",
       "      <td>Cool Valley, Missouri</td>\n",
       "      <td>2003-09-25</td>\n",
       "      <td>1532063</td>\n",
       "    </tr>\n",
       "    <tr>\n",
       "      <th>3</th>\n",
       "      <td>INTU</td>\n",
       "      <td>Intuit Inc.</td>\n",
       "      <td>reports</td>\n",
       "      <td>Information Technology</td>\n",
       "      <td>Internet Software &amp; Services</td>\n",
       "      <td>Mountain View, California</td>\n",
       "      <td>2000-12-05</td>\n",
       "      <td>896878</td>\n",
       "    </tr>\n",
       "    <tr>\n",
       "      <th>4</th>\n",
       "      <td>JEC</td>\n",
       "      <td>Jacobs Engineering Group</td>\n",
       "      <td>reports</td>\n",
       "      <td>Industrials</td>\n",
       "      <td>Construction &amp; Engineering</td>\n",
       "      <td>Pasadena, California</td>\n",
       "      <td>2007-10-26</td>\n",
       "      <td>52988</td>\n",
       "    </tr>\n",
       "  </tbody>\n",
       "</table>\n",
       "</div>"
      ],
      "text/plain": [
       "  Ticker symbol                     Security SEC filings  \\\n",
       "0           AVB  AvalonBay Communities, Inc.     reports   \n",
       "1           STZ         Constellation Brands     reports   \n",
       "2          ESRX              Express Scripts     reports   \n",
       "3          INTU                  Intuit Inc.     reports   \n",
       "4           JEC     Jacobs Engineering Group     reports   \n",
       "\n",
       "              GICS Sector             GICS Sub Industry  \\\n",
       "0             Real Estate             Residential REITs   \n",
       "1        Consumer Staples         Distillers & Vintners   \n",
       "2             Health Care      Health Care Distributors   \n",
       "3  Information Technology  Internet Software & Services   \n",
       "4             Industrials    Construction & Engineering   \n",
       "\n",
       "     Address of Headquarters Date first added      CIK  \n",
       "0     Arlington, Virginia[4]       2007-01-10   915912  \n",
       "1           Victor, New York       2005-07-05    16918  \n",
       "2      Cool Valley, Missouri       2003-09-25  1532063  \n",
       "3  Mountain View, California       2000-12-05   896878  \n",
       "4       Pasadena, California       2007-10-26    52988  "
      ]
     },
     "execution_count": 108,
     "metadata": {},
     "output_type": "execute_result"
    }
   ],
   "source": [
    "def sp_companies_date(date): #date format: YYYY-MM-DD\n",
    "    \n",
    "    date = datetime.strptime(date, '%Y-%m-%d') # converting date to datetime format\n",
    "    \n",
    "    changes_sort = changes.sort_values(\"date\") # sorting by date\n",
    "    companies = pd.DataFrame(changes[changes_sort['date']<date]['ticker_add']) # getting the companies before date\n",
    "    \n",
    "    stocks_before_date = stocks.merge(companies, left_on=\"Ticker symbol\",right_on=\"ticker_add\")\n",
    "    stocks_before_date = stocks_before_date.loc[:, stocks_before_date.columns != 'ticker_add'] # removing ticker_add\n",
    "    \n",
    "    return stocks_before_date\n",
    "\n",
    "sp_companies_date(\"2007-12-06\")"
   ]
  }
 ],
 "metadata": {
  "kernelspec": {
   "display_name": "Python 2",
   "language": "python",
   "name": "python2"
  },
  "language_info": {
   "codemirror_mode": {
    "name": "ipython",
    "version": 2
   },
   "file_extension": ".py",
   "mimetype": "text/x-python",
   "name": "python",
   "nbconvert_exporter": "python",
   "pygments_lexer": "ipython2",
   "version": "2.7.14"
  }
 },
 "nbformat": 4,
 "nbformat_minor": 1
}
