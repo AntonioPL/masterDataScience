{
 "cells": [
  {
   "cell_type": "markdown",
   "metadata": {},
   "source": [
    "### Reading Excel"
   ]
  },
  {
   "cell_type": "code",
   "execution_count": 4,
   "metadata": {
    "collapsed": true
   },
   "outputs": [],
   "source": [
    "import pandas as pd\n",
    "import numpy as np"
   ]
  },
  {
   "cell_type": "code",
   "execution_count": 1,
   "metadata": {},
   "outputs": [
    {
     "name": "stdout",
     "output_type": "stream",
     "text": [
      "/home/dsc/Documents/repos-ja/masterDataScience/python/scientific_stack\r\n"
     ]
    }
   ],
   "source": [
    "!pwd"
   ]
  },
  {
   "cell_type": "code",
   "execution_count": 2,
   "metadata": {},
   "outputs": [
    {
     "name": "stdout",
     "output_type": "stream",
     "text": [
      "/home/dsc/Documents/repos-ja/masterDataScience\n"
     ]
    }
   ],
   "source": [
    "cd /home/dsc/Documents/repos-ja/masterDataScience/"
   ]
  },
  {
   "cell_type": "markdown",
   "metadata": {},
   "source": [
    "Reading accidents by type in districs from Madrid city council."
   ]
  },
  {
   "cell_type": "code",
   "execution_count": 7,
   "metadata": {
    "scrolled": true
   },
   "outputs": [
    {
     "data": {
      "text/plain": [
       "['2009', '2010', '2011', '2012', '2013', '2014', '2015', '2016']"
      ]
     },
     "execution_count": 7,
     "metadata": {},
     "output_type": "execute_result"
    }
   ],
   "source": [
    "sheet_names = pd.ExcelFile(\"./data/accidentes_por_tipo_en_distritos.xls\").sheet_names"
   ]
  },
  {
   "cell_type": "code",
   "execution_count": 9,
   "metadata": {},
   "outputs": [],
   "source": [
    "for sheet in sheet_names:\n",
    "    \n",
    "    # sheet from 2013 has diferente structure of rows. Rest of the sheets have the same structure.\n",
    "    if sheet == '2013':\n",
    "        temp_df = pd.read_excel('./data/accidentes_por_tipo_en_distritos.xls',\n",
    "                                skiprows=4, skipfooter=1, parse_cols='A:K',sheetname=sheet)\n",
    "    else:\n",
    "        temp_df = pd.read_excel('./data/accidentes_por_tipo_en_distritos.xls',\n",
    "                                skiprows=7, skipfooter=1, parse_cols='A:K',sheetname=sheet)\n",
    "    \n",
    "    # including the year in a new column\n",
    "    temp_df['year'] = int(sheet)\n",
    "    \n",
    "    # initializing the output file \"accidentes_per_year\" in 2009 (first sheet) and concatenating to the rest of the years\n",
    "    if sheet == '2009':\n",
    "        accidents_per_year = temp_df\n",
    "    else:\n",
    "        accidents_per_year = pd.concat([accidents_per_year,temp_df])"
   ]
  },
  {
   "cell_type": "code",
   "execution_count": 12,
   "metadata": {},
   "outputs": [
    {
     "data": {
      "text/html": [
       "<div>\n",
       "<style>\n",
       "    .dataframe thead tr:only-child th {\n",
       "        text-align: right;\n",
       "    }\n",
       "\n",
       "    .dataframe thead th {\n",
       "        text-align: left;\n",
       "    }\n",
       "\n",
       "    .dataframe tbody tr th {\n",
       "        vertical-align: top;\n",
       "    }\n",
       "</style>\n",
       "<table border=\"1\" class=\"dataframe\">\n",
       "  <thead>\n",
       "    <tr style=\"text-align: right;\">\n",
       "      <th></th>\n",
       "      <th>DISTRITO_ACCIDENTE</th>\n",
       "      <th>COLISIÓN DOBLE</th>\n",
       "      <th>COLISIÓN MÚLTIPLE</th>\n",
       "      <th>CHOQUE CON OBJETO FIJO</th>\n",
       "      <th>ATROPELLO</th>\n",
       "      <th>VUELCO</th>\n",
       "      <th>CAÍDA MOTOCICLETA</th>\n",
       "      <th>CAÍDA CICLOMOTOR</th>\n",
       "      <th>CAÍDA BICICLETA</th>\n",
       "      <th>CAÍDA VIAJERO BUS</th>\n",
       "      <th>OTRAS CAUSAS</th>\n",
       "      <th>year</th>\n",
       "    </tr>\n",
       "  </thead>\n",
       "  <tbody>\n",
       "    <tr>\n",
       "      <th>0</th>\n",
       "      <td>ARGANZUELA</td>\n",
       "      <td>389</td>\n",
       "      <td>54</td>\n",
       "      <td>126</td>\n",
       "      <td>75</td>\n",
       "      <td>9.0</td>\n",
       "      <td>43</td>\n",
       "      <td>9.0</td>\n",
       "      <td>4.0</td>\n",
       "      <td>5.0</td>\n",
       "      <td>8.0</td>\n",
       "      <td>2009</td>\n",
       "    </tr>\n",
       "    <tr>\n",
       "      <th>1</th>\n",
       "      <td>BARAJAS</td>\n",
       "      <td>89</td>\n",
       "      <td>6</td>\n",
       "      <td>53</td>\n",
       "      <td>21</td>\n",
       "      <td>NaN</td>\n",
       "      <td>12</td>\n",
       "      <td>2.0</td>\n",
       "      <td>1.0</td>\n",
       "      <td>2.0</td>\n",
       "      <td>2.0</td>\n",
       "      <td>2009</td>\n",
       "    </tr>\n",
       "    <tr>\n",
       "      <th>2</th>\n",
       "      <td>CARABANCHEL</td>\n",
       "      <td>375</td>\n",
       "      <td>44</td>\n",
       "      <td>171</td>\n",
       "      <td>137</td>\n",
       "      <td>8.0</td>\n",
       "      <td>36</td>\n",
       "      <td>13.0</td>\n",
       "      <td>6.0</td>\n",
       "      <td>9.0</td>\n",
       "      <td>8.0</td>\n",
       "      <td>2009</td>\n",
       "    </tr>\n",
       "    <tr>\n",
       "      <th>3</th>\n",
       "      <td>CENTRO</td>\n",
       "      <td>514</td>\n",
       "      <td>55</td>\n",
       "      <td>171</td>\n",
       "      <td>143</td>\n",
       "      <td>NaN</td>\n",
       "      <td>61</td>\n",
       "      <td>12.0</td>\n",
       "      <td>3.0</td>\n",
       "      <td>10.0</td>\n",
       "      <td>12.0</td>\n",
       "      <td>2009</td>\n",
       "    </tr>\n",
       "    <tr>\n",
       "      <th>4</th>\n",
       "      <td>CHAMARTIN</td>\n",
       "      <td>494</td>\n",
       "      <td>70</td>\n",
       "      <td>133</td>\n",
       "      <td>92</td>\n",
       "      <td>10.0</td>\n",
       "      <td>72</td>\n",
       "      <td>22.0</td>\n",
       "      <td>2.0</td>\n",
       "      <td>6.0</td>\n",
       "      <td>7.0</td>\n",
       "      <td>2009</td>\n",
       "    </tr>\n",
       "  </tbody>\n",
       "</table>\n",
       "</div>"
      ],
      "text/plain": [
       "               DISTRITO_ACCIDENTE  COLISIÓN DOBLE                            \\\n",
       "0  ARGANZUELA                                                           389   \n",
       "1  BARAJAS                                                               89   \n",
       "2  CARABANCHEL                                                          375   \n",
       "3  CENTRO                                                               514   \n",
       "4  CHAMARTIN                                                            494   \n",
       "\n",
       "   COLISIÓN MÚLTIPLE                         \\\n",
       "0                                        54   \n",
       "1                                         6   \n",
       "2                                        44   \n",
       "3                                        55   \n",
       "4                                        70   \n",
       "\n",
       "   CHOQUE CON OBJETO FIJO                    \\\n",
       "0                                       126   \n",
       "1                                        53   \n",
       "2                                       171   \n",
       "3                                       171   \n",
       "4                                       133   \n",
       "\n",
       "   ATROPELLO                                 \\\n",
       "0                                        75   \n",
       "1                                        21   \n",
       "2                                       137   \n",
       "3                                       143   \n",
       "4                                        92   \n",
       "\n",
       "   VUELCO                                    \\\n",
       "0                                       9.0   \n",
       "1                                       NaN   \n",
       "2                                       8.0   \n",
       "3                                       NaN   \n",
       "4                                      10.0   \n",
       "\n",
       "   CAÍDA MOTOCICLETA                         \\\n",
       "0                                        43   \n",
       "1                                        12   \n",
       "2                                        36   \n",
       "3                                        61   \n",
       "4                                        72   \n",
       "\n",
       "   CAÍDA CICLOMOTOR                          \\\n",
       "0                                       9.0   \n",
       "1                                       2.0   \n",
       "2                                      13.0   \n",
       "3                                      12.0   \n",
       "4                                      22.0   \n",
       "\n",
       "   CAÍDA BICICLETA                           \\\n",
       "0                                       4.0   \n",
       "1                                       1.0   \n",
       "2                                       6.0   \n",
       "3                                       3.0   \n",
       "4                                       2.0   \n",
       "\n",
       "   CAÍDA VIAJERO BUS                         \\\n",
       "0                                       5.0   \n",
       "1                                       2.0   \n",
       "2                                       9.0   \n",
       "3                                      10.0   \n",
       "4                                       6.0   \n",
       "\n",
       "   OTRAS CAUSAS                              year  \n",
       "0                                       8.0  2009  \n",
       "1                                       2.0  2009  \n",
       "2                                       8.0  2009  \n",
       "3                                      12.0  2009  \n",
       "4                                       7.0  2009  "
      ]
     },
     "execution_count": 12,
     "metadata": {},
     "output_type": "execute_result"
    }
   ],
   "source": [
    "accidents_per_year.head()"
   ]
  }
 ],
 "metadata": {
  "kernelspec": {
   "display_name": "Python 3",
   "language": "python",
   "name": "python3"
  },
  "language_info": {
   "codemirror_mode": {
    "name": "ipython",
    "version": 3
   },
   "file_extension": ".py",
   "mimetype": "text/x-python",
   "name": "python",
   "nbconvert_exporter": "python",
   "pygments_lexer": "ipython3",
   "version": "3.6.2"
  }
 },
 "nbformat": 4,
 "nbformat_minor": 2
}
