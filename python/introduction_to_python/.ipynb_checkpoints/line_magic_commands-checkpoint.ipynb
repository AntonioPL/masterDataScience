{
 "cells": [
  {
   "cell_type": "markdown",
   "metadata": {},
   "source": [
    "# Introduction to Python"
   ]
  },
  {
   "cell_type": "markdown",
   "metadata": {},
   "source": [
    "## 3. Line Magic Commands - Handling Files"
   ]
  },
  {
   "cell_type": "markdown",
   "metadata": {},
   "source": [
    "**Exercise 1**: While inside python, go to *~/Data/opentraveldata/* and list the files. Repeat the same for\n",
    "*~/Data/us_dot/otp* and *~/Data/us_dot/traffic/*. Use the list of visited directories from dhist and write for loop which will return for each visited directory its name and number of files inside.(hint: use variable *_dh*)"
   ]
  },
  {
   "cell_type": "code",
   "execution_count": 57,
   "metadata": {},
   "outputs": [
    {
     "name": "stdout",
     "output_type": "stream",
     "text": [
      "/home/dsc/Data/opentraveldata\n"
     ]
    }
   ],
   "source": [
    "cd ~/Data/opentraveldata/"
   ]
  },
  {
   "cell_type": "code",
   "execution_count": 58,
   "metadata": {},
   "outputs": [
    {
     "name": "stdout",
     "output_type": "stream",
     "text": [
      "total 9908\r\n",
      "-rw-rw-r-- 1 dsc dsc    1581 Dec  9 07:18 airbus_records.csv\r\n",
      "-rw-rw-r-- 1 dsc dsc      13 Dec  1 20:49 num.txt\r\n",
      "-rw-r--r-- 1 dsc dsc   18612 Nov  8  2015 optd_aircraft.csv\r\n",
      "-rw-r--r-- 1 dsc dsc  107306 Nov  8  2015 optd_airlines.csv\r\n",
      "-rw-r--r-- 1 dsc dsc 8080005 Nov  8  2015 optd_por_public.csv\r\n",
      "-rw-r--r-- 1 dsc dsc 1871775 Nov  8  2015 optd_por_public.csv.bz2\r\n",
      "-rw-rw-r-- 1 dsc dsc    5816 Nov  9  2015 ref_airline_nb_of_flights.csv\r\n",
      "-rw-rw-r-- 1 dsc dsc   41338 Dec  1 21:09 zipped_files.zip\r\n"
     ]
    }
   ],
   "source": [
    "!ls -l"
   ]
  },
  {
   "cell_type": "code",
   "execution_count": 59,
   "metadata": {},
   "outputs": [
    {
     "name": "stdout",
     "output_type": "stream",
     "text": [
      "/home/dsc/Data/us_dot/otp\n"
     ]
    }
   ],
   "source": [
    "cd ~/Data/us_dot/otp"
   ]
  },
  {
   "cell_type": "code",
   "execution_count": 60,
   "metadata": {},
   "outputs": [
    {
     "name": "stdout",
     "output_type": "stream",
     "text": [
      "total 190232\r\n",
      "-rw-r--r--. 1 dsc dsc 23061340 Nov  8  2015 On_Time_On_Time_Performance_2015_1.zip\r\n",
      "-rw-r--r--. 1 dsc dsc 21230105 Nov  8  2015 On_Time_On_Time_Performance_2015_2.zip\r\n",
      "-rw-r--r--. 1 dsc dsc 24811186 Nov  8  2015 On_Time_On_Time_Performance_2015_3.zip\r\n",
      "-rw-r--r--. 1 dsc dsc 23625261 Nov  8  2015 On_Time_On_Time_Performance_2015_4.zip\r\n",
      "-rw-r--r--. 1 dsc dsc 24334057 Nov  8  2015 On_Time_On_Time_Performance_2015_5.zip\r\n",
      "-rw-r--r--. 1 dsc dsc 25758350 Nov  8  2015 On_Time_On_Time_Performance_2015_6.zip\r\n",
      "-rw-r--r--. 1 dsc dsc 26204213 Nov  8  2015 On_Time_On_Time_Performance_2015_7.zip\r\n",
      "-rw-r--r--. 1 dsc dsc 25726054 Nov  8  2015 On_Time_On_Time_Performance_2015_8.zip\r\n"
     ]
    }
   ],
   "source": [
    "!ls -l"
   ]
  },
  {
   "cell_type": "code",
   "execution_count": 61,
   "metadata": {},
   "outputs": [
    {
     "name": "stdout",
     "output_type": "stream",
     "text": [
      "/home/dsc/Data/us_dot/traffic\n"
     ]
    }
   ],
   "source": [
    "cd ~/Data/us_dot/traffic/"
   ]
  },
  {
   "cell_type": "code",
   "execution_count": 75,
   "metadata": {},
   "outputs": [
    {
     "name": "stdout",
     "output_type": "stream",
     "text": [
      "total 22060\r\n",
      "-rw-r--r--. 1 dsc dsc 16871101 Nov  8  2015 T100_SEGMENT_ALL_CARRIER_2014.zip\r\n",
      "-rw-r--r--. 1 dsc dsc  5709455 Nov  8  2015 T100_SEGMENT_ALL_CARRIER_2015.zip\r\n"
     ]
    }
   ],
   "source": [
    "!ls -l"
   ]
  },
  {
   "cell_type": "code",
   "execution_count": 80,
   "metadata": {},
   "outputs": [
    {
     "name": "stdout",
     "output_type": "stream",
     "text": [
      "Directory Name: /home/dsc/Data/opentraveldata; Number of files inside: 8\n",
      "Directory Name: /home/dsc/Data/us_dot/otp; Number of files inside: 8\n",
      "Directory Name: /home/dsc/Data/us_dot/traffic; Number of files inside: 2\n"
     ]
    }
   ],
   "source": [
    "for directories in _dh[1:4]: #0 directory is the working repo \n",
    "    files = !(find $directories -type f | wc -l)\n",
    "    print('Directory Name: {}; Number of files inside: {}'.format(directories,files[0]))"
   ]
  },
  {
   "cell_type": "markdown",
   "metadata": {},
   "source": [
    "**Exercise 2**: Write a function that will take text file and pattern as input parameters, and return the number of\n",
    "occurances of case insensitive pattern inside a text."
   ]
  },
  {
   "cell_type": "code",
   "execution_count": 89,
   "metadata": {
    "collapsed": true
   },
   "outputs": [],
   "source": [
    "def pattern_times_in_file(file,pattern):\n",
    "    repetitions=!(grep -i -o $pattern $file | wc -l)\n",
    "    print('The pattern \"{}\" appears {} times in \"{}\" file'.format(pattern,repetitions[0],file))"
   ]
  },
  {
   "cell_type": "code",
   "execution_count": 90,
   "metadata": {},
   "outputs": [
    {
     "name": "stdout",
     "output_type": "stream",
     "text": [
      "The pattern \"English\" appears 8 times in \"~/Data/shell/Finn.txt\" file\n"
     ]
    }
   ],
   "source": [
    "pattern_times_in_file('~/Data/shell/Finn.txt','English')"
   ]
  },
  {
   "cell_type": "markdown",
   "metadata": {
    "collapsed": true
   },
   "source": [
    "**Exercise 3**: Open Finn.txt file, read lines into a list. Remove trailing white spaces from each line. Write the\n",
    "resulting list to the new file. How many lines does the new file have? (hint: empty list is made with [\n",
    "])\n"
   ]
  },
  {
   "cell_type": "code",
   "execution_count": 169,
   "metadata": {
    "collapsed": true,
    "scrolled": true
   },
   "outputs": [],
   "source": [
    "with open(\"/home/dsc/Documents/masterDataScience/data/Finn.txt\") as text_file:\n",
    "    lines_Finn=[]\n",
    "    for line in text_file:\n",
    "        lines_Finn.append(line.rstrip())\n",
    "text_file.close\n",
    "\n",
    "text_file_out=open(\"/home/dsc/Documents/masterDataScience/data/Finn_remove_tws.txt\",\"w\")\n",
    "for line in lines_Finn:\n",
    "    text_file_out.write(line)\n",
    "text_file_out.close()"
   ]
  },
  {
   "cell_type": "code",
   "execution_count": 221,
   "metadata": {},
   "outputs": [
    {
     "name": "stdout",
     "output_type": "stream",
     "text": [
      "ORIGINAL FILE\n",
      "First 10 lines in Finn.txt:\n",
      "﻿\r",
      "\r\n",
      "\r",
      "\r\n",
      "The Project Gutenberg EBook of Adventures of Huckleberry Finn, Complete\r",
      "\r\n",
      "by Mark Twain (Samuel Clemens)\r",
      "\r\n",
      "\r",
      "\r\n",
      "This eBook is for the use of anyone anywhere at no cost and with almost\r",
      "\r\n",
      "no restrictions whatsoever. You may copy it, give it away or re-use\r",
      "\r\n",
      "it under the terms of the Project Gutenberg License included with this\r",
      "\r\n",
      "eBook or online at www.gutenberg.net\r",
      "\r\n",
      "\r",
      "\r\n"
     ]
    }
   ],
   "source": [
    "print('ORIGINAL FILE')\n",
    "print('First 10 lines in Finn.txt:')\n",
    "!(head -n 10 \"/home/dsc/Documents/masterDataScience/data/Finn.txt\")"
   ]
  },
  {
   "cell_type": "code",
   "execution_count": 220,
   "metadata": {},
   "outputs": [
    {
     "name": "stdout",
     "output_type": "stream",
     "text": [
      "REMOVING TRAILING WHITE SPACES FROM EACH LINE:\n",
      "First 500 bytes in Finn_remove_tws.txt:\n",
      "\n",
      "﻿The Project Gutenberg EBook of Adventures of Huckleberry Finn, Completeby Mark Twain (Samuel Clemens)This eBook is for the use of anyone anywhere at no cost and with almostno restrictions whatsoever. You may copy it, give it away or re-useit under the terms of the Project Gutenberg License included with thiseBook or online at www.gutenberg.netTitle: Adventures of Huckleberry Finn, CompleteAuthor: Mark Twain (Samuel Clemens)Release Date: August 20, 2006 [EBook #76]Last Updated: August 17, 2016"
     ]
    }
   ],
   "source": [
    "print('REMOVING TRAILING WHITE SPACES FROM EACH LINE:')\n",
    "print('First 500 bytes in Finn_remove_tws.txt:')\n",
    "print()\n",
    "!(head -c 500 \"/home/dsc/Documents/masterDataScience/data/Finn_remove_tws.txt\")"
   ]
  },
  {
   "cell_type": "markdown",
   "metadata": {},
   "source": [
    "**Exercise 4**: Open Finn.txt file, read lines into a list. Create a new version of Finn_nbl.txt with no blank lines."
   ]
  },
  {
   "cell_type": "code",
   "execution_count": 209,
   "metadata": {
    "collapsed": true
   },
   "outputs": [],
   "source": [
    "with open(\"/home/dsc/Documents/masterDataScience/data/Finn.txt\") as text_file:\n",
    "    lines_Finn=[]\n",
    "    for line in text_file:\n",
    "        lines_Finn.append(line)\n",
    "text_file.close\n",
    "\n",
    "text_file_out=open(\"/home/dsc/Documents/masterDataScience/data/Finn_nbl.txt\",\"w\")\n",
    "for line in lines_Finn:\n",
    "    if line!=\"\\n\":\n",
    "        text_file_out.write(line)\n",
    "text_file_out.close()"
   ]
  },
  {
   "cell_type": "markdown",
   "metadata": {},
   "source": [
    "**Exercise 5**: Reset the workspace. Obtain the difference in number of lines between original Finn file and and\n",
    "the one without blank lines and print the result. (hint: use wc)"
   ]
  },
  {
   "cell_type": "code",
   "execution_count": 214,
   "metadata": {},
   "outputs": [
    {
     "name": "stdout",
     "output_type": "stream",
     "text": [
      "Once deleted, variables cannot be recovered. Proceed (y/[n])? y\n"
     ]
    }
   ],
   "source": [
    "%reset"
   ]
  },
  {
   "cell_type": "code",
   "execution_count": 219,
   "metadata": {},
   "outputs": [
    {
     "name": "stdout",
     "output_type": "stream",
     "text": [
      "The original Finn file has 12363 lines\n",
      "The Finn file without blank lines has 9674 lines\n"
     ]
    }
   ],
   "source": [
    "path_Finn=\"/home/dsc/Documents/masterDataScience/data/Finn.txt\"\n",
    "lines_Finn=!(cat $path_Finn | wc -l)\n",
    "\n",
    "path_Finn_nbl=\"/home/dsc/Documents/masterDataScience/data/Finn_nbl.txt\"\n",
    "lines_Finn_nbl=!(cat $path_Finn_nbl | wc -l)\n",
    "\n",
    "print('The original Finn file has {} lines'.format(lines_Finn[0]))\n",
    "print('The Finn file without blank lines has {} lines'.format(lines_Finn_nbl[0]))"
   ]
  }
 ],
 "metadata": {
  "kernelspec": {
   "display_name": "Python 3",
   "language": "python",
   "name": "python3"
  },
  "language_info": {
   "codemirror_mode": {
    "name": "ipython",
    "version": 3
   },
   "file_extension": ".py",
   "mimetype": "text/x-python",
   "name": "python",
   "nbconvert_exporter": "python",
   "pygments_lexer": "ipython3",
   "version": "3.6.2"
  }
 },
 "nbformat": 4,
 "nbformat_minor": 2
}
