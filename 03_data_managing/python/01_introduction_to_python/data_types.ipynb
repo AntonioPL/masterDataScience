{
 "cells": [
  {
   "cell_type": "markdown",
   "metadata": {},
   "source": [
    "# Introduction to Python"
   ]
  },
  {
   "cell_type": "markdown",
   "metadata": {},
   "source": [
    "## 2. Data Types"
   ]
  },
  {
   "cell_type": "markdown",
   "metadata": {},
   "source": [
    "**Exercise 1**: Given a string and a non-negative int n, return a larger string that is n copies of the original string."
   ]
  },
  {
   "cell_type": "code",
   "execution_count": 15,
   "metadata": {
    "collapsed": true
   },
   "outputs": [],
   "source": [
    "def n_copies_string(string,integer):\n",
    "    return string*integer"
   ]
  },
  {
   "cell_type": "markdown",
   "metadata": {},
   "source": [
    "**Exercise 2**: Given a string, return a new string made of every other char starting with the first element (meaning\n",
    "index 0). In other words delete every even char position the string, so \"Hello\" yields \"Hlo\"."
   ]
  },
  {
   "cell_type": "code",
   "execution_count": 16,
   "metadata": {
    "collapsed": true
   },
   "outputs": [],
   "source": [
    "def delete_even_char_string(string):\n",
    "    result=\"\"\n",
    "    for letter in range(0,len(string),2):\n",
    "        result = result+string[letter]\n",
    "    return result"
   ]
  },
  {
   "cell_type": "code",
   "execution_count": 19,
   "metadata": {},
   "outputs": [
    {
     "data": {
      "text/plain": [
       "'Hlo'"
      ]
     },
     "execution_count": 19,
     "metadata": {},
     "output_type": "execute_result"
    }
   ],
   "source": [
    "delete_even_char_string('Hello')"
   ]
  },
  {
   "cell_type": "markdown",
   "metadata": {},
   "source": [
    "**Exercise 3**: Write a function to calculate the number of words, number of lines, and length of a string the same\n",
    "way the wc command does in the command line."
   ]
  },
  {
   "cell_type": "code",
   "execution_count": 20,
   "metadata": {
    "collapsed": true
   },
   "outputs": [],
   "source": [
    "def wc(string):\n",
    "    chars = len(string)\n",
    "    words = len(string.split())\n",
    "    lines = len(string.splitlines())\n",
    "    \n",
    "    return (chars,words,lines)"
   ]
  },
  {
   "cell_type": "code",
   "execution_count": 23,
   "metadata": {},
   "outputs": [
    {
     "data": {
      "text/plain": [
       "(56, 12, 2)"
      ]
     },
     "execution_count": 23,
     "metadata": {},
     "output_type": "execute_result"
    }
   ],
   "source": [
    "wc('This is a string with:\\n 2 lines, 12 words and 56 letters')"
   ]
  },
  {
   "cell_type": "markdown",
   "metadata": {},
   "source": [
    "**Exercise 4**: Write a Python program to remove the n<sup>th</sup> index character from a string. If the input string is empty\n",
    "print warning."
   ]
  },
  {
   "cell_type": "code",
   "execution_count": 24,
   "metadata": {
    "collapsed": true
   },
   "outputs": [],
   "source": [
    "def remove_nth(string, n):\n",
    "    if not string:\n",
    "        print ('Warning!!!, the string is empty')\n",
    "    else:\n",
    "        print(string[:n]+string[(n+1):])"
   ]
  },
  {
   "cell_type": "code",
   "execution_count": 25,
   "metadata": {},
   "outputs": [
    {
     "name": "stdout",
     "output_type": "stream",
     "text": [
      "this s a string\n"
     ]
    }
   ],
   "source": [
    "remove_nth('this is a string',5)"
   ]
  },
  {
   "cell_type": "markdown",
   "metadata": {},
   "source": [
    "**Exercise 5**: Given 2 strings, a and b, return a string of the form short+long+short, with the shorter string on the\n",
    "outside and the longer string on the inside. The strings will not be the same length, but they may be\n",
    "empty (length 0)."
   ]
  },
  {
   "cell_type": "code",
   "execution_count": 26,
   "metadata": {
    "collapsed": true
   },
   "outputs": [],
   "source": [
    "def sls_format(stringA, stringB):\n",
    "    if len(stringA)>len(stringB):\n",
    "        print(stringB+stringA+stringB)\n",
    "    else:\n",
    "        print(stringA+stringB+stringA)"
   ]
  },
  {
   "cell_type": "code",
   "execution_count": 27,
   "metadata": {},
   "outputs": [
    {
     "name": "stdout",
     "output_type": "stream",
     "text": [
      "HelloThis is a stringHello\n"
     ]
    }
   ],
   "source": [
    "sls_format('This is a string','Hello')"
   ]
  }
 ],
 "metadata": {
  "kernelspec": {
   "display_name": "Python 3",
   "language": "python",
   "name": "python3"
  },
  "language_info": {
   "codemirror_mode": {
    "name": "ipython",
    "version": 3
   },
   "file_extension": ".py",
   "mimetype": "text/x-python",
   "name": "python",
   "nbconvert_exporter": "python",
   "pygments_lexer": "ipython3",
   "version": "3.6.2"
  }
 },
 "nbformat": 4,
 "nbformat_minor": 2
}
