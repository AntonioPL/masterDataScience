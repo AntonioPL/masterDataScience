{
 "cells": [
  {
   "cell_type": "markdown",
   "metadata": {},
   "source": [
    "# Tuning Machine Learning models in Spark\n",
    "\n",
    "<a href = \"http://yogen.io\"><img src=\"http://yogen.io/assets/logo.svg\" alt=\"yogen\" style=\"width: 200px; float: right;\"/></a>"
   ]
  },
  {
   "cell_type": "markdown",
   "metadata": {},
   "source": [
    "## ML Pipelines in Spark\n",
    "\n",
    "ML model training and tuning often represents running the same steps once and again. Often, we run the same steps with small variations in order to evaluate combinations of parameters. \n",
    "\n",
    "In order to make this use case a lot easier, Spark provides the [Pipeline](https://spark.apache.org/docs/2.2.0/ml-pipeline.html) abstraction.\n",
    "\n",
    "A Pipeline represents a series of steps in the processing of a dataset. Each step is a Transformer or an Estimator. The whole Pipeline is an Estimator, so we can .fit the whole pipeline in one step. When we do that, the steps'  .fit and .transform methods will be called in turn."
   ]
  },
  {
   "cell_type": "markdown",
   "metadata": {},
   "source": [
    "![pipelineestimator](https://spark.apache.org/docs/2.3.0/img/ml-Pipeline.png)"
   ]
  },
  {
   "cell_type": "markdown",
   "metadata": {},
   "source": [
    "![PipelineModel](https://spark.apache.org/docs/2.3.0/img/ml-PipelineModel.png)"
   ]
  },
  {
   "cell_type": "markdown",
   "metadata": {},
   "source": [
    "## Example: predicting flight delays\n",
    "\n",
    "We'll be using the same [Transtats'](https://www.transtats.bts.gov/) OTP performance data] from way back when. Remember it?\n",
    "\n",
    "It's a table that contains all domestic departures by US air air carriers that represent at least one percent of domestic scheduled passenger revenues, with data on each individual departure including [Tail Number](https://en.wikipedia.org/wiki/Tail_number), departure delay, origin, destination and carrier.\n"
   ]
  },
  {
   "cell_type": "markdown",
   "metadata": {},
   "source": [
    "### Load the data\n",
    "\n",
    "Opening .zip files in Spark is a bit of a pain. For now, let's just decompress the file we want to read. When we are ready to expand the processing to the cluster, we will need to do [this](https://stackoverflow.com/questions/28569788/how-to-open-stream-zip-files-through-spark)."
   ]
  },
  {
   "cell_type": "code",
   "execution_count": 1,
   "metadata": {
    "scrolled": false
   },
   "outputs": [
    {
     "name": "stdout",
     "output_type": "stream",
     "text": [
      "Archive:  /home/dani/repos/master-data-science/data/us_dot/otp/On_Time_On_Time_Performance_2015_8.zip\n",
      "  inflating: ./On_Time_On_Time_Performance_2015_8.csv  \n"
     ]
    }
   ],
   "source": [
    "from pyspark.sql import SparkSession, types, functions\n",
    "from pyspark.ml.classification import RandomForestClassifier\n",
    "from pyspark.ml.feature import OneHotEncoder, StringIndexer, VectorAssembler\n",
    "\n",
    "path_to_file = '/home/dani/repos/master-data-science/data/us_dot/otp/On_Time_On_Time_Performance_2015_8.zip'\n",
    "csv_filename = 'On_Time_On_Time_Performance_2015_8.csv'\n",
    "\n",
    "!unzip -o {path_to_file} {csv_filename} -d .\n",
    "\n",
    "columns_of_interest =['FlightDate', 'Year', 'Month', 'DayofMonth', 'DayOfWeek', \n",
    "                      'Carrier', 'TailNum', 'FlightNum', 'Origin', 'OriginCityName',\n",
    "                      'OriginStateName', 'Dest', 'DestCityName', 'DestStateName',\n",
    "                      'DepTime', 'DepDelay', 'Distance']"
   ]
  },
  {
   "cell_type": "code",
   "execution_count": 2,
   "metadata": {},
   "outputs": [
    {
     "name": "stdout",
     "output_type": "stream",
     "text": [
      "+----+-------+-----+----------+---------+----------+-------------+---------+-------+-------+---------+---------------+------------------+------------------+------+--------------+-----------+---------------+---------------+---------+-------------+----------------+----------------+----+---------------+---------+-------------+-------------+-------+----------+-------+--------+---------------+--------+--------------------+----------+-------+---------+--------+------+----------+-------+--------+---------------+--------+------------------+----------+---------+----------------+--------+--------------+-----------------+-------+-------+--------+-------------+------------+------------+--------+-------------+-----------------+------------+-------------+---------------+------------------+--------------+--------------------+-----------+-----------+-----------+-------------+----------------+------------+--------------+----------------+-------------+-----------+-----------+-------------+----------------+------------+--------------+----------------+-------------+-----------+-----------+-------------+----------------+------------+--------------+----------------+-------------+-----------+-----------+-------------+----------------+------------+--------------+----------------+-------------+-----------+-----------+-------------+----------------+------------+--------------+----------------+-------------+-----------+-----+\n",
      "|Year|Quarter|Month|DayofMonth|DayOfWeek|FlightDate|UniqueCarrier|AirlineID|Carrier|TailNum|FlightNum|OriginAirportID|OriginAirportSeqID|OriginCityMarketID|Origin|OriginCityName|OriginState|OriginStateFips|OriginStateName|OriginWac|DestAirportID|DestAirportSeqID|DestCityMarketID|Dest|   DestCityName|DestState|DestStateFips|DestStateName|DestWac|CRSDepTime|DepTime|DepDelay|DepDelayMinutes|DepDel15|DepartureDelayGroups|DepTimeBlk|TaxiOut|WheelsOff|WheelsOn|TaxiIn|CRSArrTime|ArrTime|ArrDelay|ArrDelayMinutes|ArrDel15|ArrivalDelayGroups|ArrTimeBlk|Cancelled|CancellationCode|Diverted|CRSElapsedTime|ActualElapsedTime|AirTime|Flights|Distance|DistanceGroup|CarrierDelay|WeatherDelay|NASDelay|SecurityDelay|LateAircraftDelay|FirstDepTime|TotalAddGTime|LongestAddGTime|DivAirportLandings|DivReachedDest|DivActualElapsedTime|DivArrDelay|DivDistance|Div1Airport|Div1AirportID|Div1AirportSeqID|Div1WheelsOn|Div1TotalGTime|Div1LongestGTime|Div1WheelsOff|Div1TailNum|Div2Airport|Div2AirportID|Div2AirportSeqID|Div2WheelsOn|Div2TotalGTime|Div2LongestGTime|Div2WheelsOff|Div2TailNum|Div3Airport|Div3AirportID|Div3AirportSeqID|Div3WheelsOn|Div3TotalGTime|Div3LongestGTime|Div3WheelsOff|Div3TailNum|Div4Airport|Div4AirportID|Div4AirportSeqID|Div4WheelsOn|Div4TotalGTime|Div4LongestGTime|Div4WheelsOff|Div4TailNum|Div5Airport|Div5AirportID|Div5AirportSeqID|Div5WheelsOn|Div5TotalGTime|Div5LongestGTime|Div5WheelsOff|Div5TailNum|_c109|\n",
      "+----+-------+-----+----------+---------+----------+-------------+---------+-------+-------+---------+---------------+------------------+------------------+------+--------------+-----------+---------------+---------------+---------+-------------+----------------+----------------+----+---------------+---------+-------------+-------------+-------+----------+-------+--------+---------------+--------+--------------------+----------+-------+---------+--------+------+----------+-------+--------+---------------+--------+------------------+----------+---------+----------------+--------+--------------+-----------------+-------+-------+--------+-------------+------------+------------+--------+-------------+-----------------+------------+-------------+---------------+------------------+--------------+--------------------+-----------+-----------+-----------+-------------+----------------+------------+--------------+----------------+-------------+-----------+-----------+-------------+----------------+------------+--------------+----------------+-------------+-----------+-----------+-------------+----------------+------------+--------------+----------------+-------------+-----------+-----------+-------------+----------------+------------+--------------+----------------+-------------+-----------+-----------+-------------+----------------+------------+--------------+----------------+-------------+-----------+-----+\n",
      "|2015|      3|    8|         2|        7|2015-08-02|           AA|    19805|     AA| N790AA|        1|          12478|           1247803|             31703|   JFK|  New York, NY|         NY|             36|       New York|       22|        12892|         1289203|           32575| LAX|Los Angeles, CA|       CA|           06|   California|     91|      0900|   0854|   -6.00|           0.00|    0.00|                  -1| 0900-0959|  25.00|     0919|    1132| 15.00|      1213|   1147|  -26.00|           0.00|    0.00|                -2| 1200-1259|     0.00|            null|    0.00|        373.00|           353.00| 313.00|   1.00| 2475.00|           10|        null|        null|    null|         null|             null|        null|         null|           null|                 0|          null|                null|       null|       null|       null|         null|            null|        null|          null|            null|         null|       null|       null|         null|            null|        null|          null|            null|         null|       null|       null|         null|            null|        null|          null|            null|         null|       null|       null|         null|            null|        null|          null|            null|         null|       null|       null|         null|            null|        null|          null|            null|         null|       null| null|\n",
      "|2015|      3|    8|         3|        1|2015-08-03|           AA|    19805|     AA| N784AA|        1|          12478|           1247803|             31703|   JFK|  New York, NY|         NY|             36|       New York|       22|        12892|         1289203|           32575| LAX|Los Angeles, CA|       CA|           06|   California|     91|      0900|   0858|   -2.00|           0.00|    0.00|                  -1| 0900-0959|  33.00|     0931|    1147| 31.00|      1213|   1218|    5.00|           5.00|    0.00|                 0| 1200-1259|     0.00|            null|    0.00|        373.00|           380.00| 316.00|   1.00| 2475.00|           10|        null|        null|    null|         null|             null|        null|         null|           null|                 0|          null|                null|       null|       null|       null|         null|            null|        null|          null|            null|         null|       null|       null|         null|            null|        null|          null|            null|         null|       null|       null|         null|            null|        null|          null|            null|         null|       null|       null|         null|            null|        null|          null|            null|         null|       null|       null|         null|            null|        null|          null|            null|         null|       null| null|\n",
      "|2015|      3|    8|         4|        2|2015-08-04|           AA|    19805|     AA| N793AA|        1|          12478|           1247803|             31703|   JFK|  New York, NY|         NY|             36|       New York|       22|        12892|         1289203|           32575| LAX|Los Angeles, CA|       CA|           06|   California|     91|      0900|   0902|    2.00|           2.00|    0.00|                   0| 0900-0959|  43.00|     0945|    1211|  8.00|      1213|   1219|    6.00|           6.00|    0.00|                 0| 1200-1259|     0.00|            null|    0.00|        373.00|           377.00| 326.00|   1.00| 2475.00|           10|        null|        null|    null|         null|             null|        null|         null|           null|                 0|          null|                null|       null|       null|       null|         null|            null|        null|          null|            null|         null|       null|       null|         null|            null|        null|          null|            null|         null|       null|       null|         null|            null|        null|          null|            null|         null|       null|       null|         null|            null|        null|          null|            null|         null|       null|       null|         null|            null|        null|          null|            null|         null|       null| null|\n",
      "|2015|      3|    8|         5|        3|2015-08-05|           AA|    19805|     AA| N787AA|        1|          12478|           1247803|             31703|   JFK|  New York, NY|         NY|             36|       New York|       22|        12892|         1289203|           32575| LAX|Los Angeles, CA|       CA|           06|   California|     91|      0900|   0857|   -3.00|           0.00|    0.00|                  -1| 0900-0959|  39.00|     0936|    1207| 28.00|      1213|   1235|   22.00|          22.00|    1.00|                 1| 1200-1259|     0.00|            null|    0.00|        373.00|           398.00| 331.00|   1.00| 2475.00|           10|        0.00|        0.00|   22.00|         0.00|             0.00|        null|         null|           null|                 0|          null|                null|       null|       null|       null|         null|            null|        null|          null|            null|         null|       null|       null|         null|            null|        null|          null|            null|         null|       null|       null|         null|            null|        null|          null|            null|         null|       null|       null|         null|            null|        null|          null|            null|         null|       null|       null|         null|            null|        null|          null|            null|         null|       null| null|\n",
      "|2015|      3|    8|         6|        4|2015-08-06|           AA|    19805|     AA| N790AA|        1|          12478|           1247803|             31703|   JFK|  New York, NY|         NY|             36|       New York|       22|        12892|         1289203|           32575| LAX|Los Angeles, CA|       CA|           06|   California|     91|      0900|   0857|   -3.00|           0.00|    0.00|                  -1| 0900-0959|  46.00|     0943|    1209| 14.00|      1213|   1223|   10.00|          10.00|    0.00|                 0| 1200-1259|     0.00|            null|    0.00|        373.00|           386.00| 326.00|   1.00| 2475.00|           10|        null|        null|    null|         null|             null|        null|         null|           null|                 0|          null|                null|       null|       null|       null|         null|            null|        null|          null|            null|         null|       null|       null|         null|            null|        null|          null|            null|         null|       null|       null|         null|            null|        null|          null|            null|         null|       null|       null|         null|            null|        null|          null|            null|         null|       null|       null|         null|            null|        null|          null|            null|         null|       null| null|\n",
      "|2015|      3|    8|         7|        5|2015-08-07|           AA|    19805|     AA| N788AA|        1|          12478|           1247803|             31703|   JFK|  New York, NY|         NY|             36|       New York|       22|        12892|         1289203|           32575| LAX|Los Angeles, CA|       CA|           06|   California|     91|      0900|   0854|   -6.00|           0.00|    0.00|                  -1| 0900-0959|  29.00|     0923|    1134| 10.00|      1213|   1144|  -29.00|           0.00|    0.00|                -2| 1200-1259|     0.00|            null|    0.00|        373.00|           350.00| 311.00|   1.00| 2475.00|           10|        null|        null|    null|         null|             null|        null|         null|           null|                 0|          null|                null|       null|       null|       null|         null|            null|        null|          null|            null|         null|       null|       null|         null|            null|        null|          null|            null|         null|       null|       null|         null|            null|        null|          null|            null|         null|       null|       null|         null|            null|        null|          null|            null|         null|       null|       null|         null|            null|        null|          null|            null|         null|       null| null|\n",
      "|2015|      3|    8|         9|        7|2015-08-09|           AA|    19805|     AA| N798AA|        1|          12478|           1247803|             31703|   JFK|  New York, NY|         NY|             36|       New York|       22|        12892|         1289203|           32575| LAX|Los Angeles, CA|       CA|           06|   California|     91|      0900|   0854|   -6.00|           0.00|    0.00|                  -1| 0900-0959|  18.00|     0912|    1130| 26.00|      1213|   1156|  -17.00|           0.00|    0.00|                -2| 1200-1259|     0.00|            null|    0.00|        373.00|           362.00| 318.00|   1.00| 2475.00|           10|        null|        null|    null|         null|             null|        null|         null|           null|                 0|          null|                null|       null|       null|       null|         null|            null|        null|          null|            null|         null|       null|       null|         null|            null|        null|          null|            null|         null|       null|       null|         null|            null|        null|          null|            null|         null|       null|       null|         null|            null|        null|          null|            null|         null|       null|       null|         null|            null|        null|          null|            null|         null|       null| null|\n",
      "|2015|      3|    8|        10|        1|2015-08-10|           AA|    19805|     AA| N799AA|        1|          12478|           1247803|             31703|   JFK|  New York, NY|         NY|             36|       New York|       22|        12892|         1289203|           32575| LAX|Los Angeles, CA|       CA|           06|   California|     91|      0900|   0850|  -10.00|           0.00|    0.00|                  -1| 0900-0959|  22.00|     0912|    1157| 36.00|      1213|   1233|   20.00|          20.00|    1.00|                 1| 1200-1259|     0.00|            null|    0.00|        373.00|           403.00| 345.00|   1.00| 2475.00|           10|        0.00|        0.00|   20.00|         0.00|             0.00|        null|         null|           null|                 0|          null|                null|       null|       null|       null|         null|            null|        null|          null|            null|         null|       null|       null|         null|            null|        null|          null|            null|         null|       null|       null|         null|            null|        null|          null|            null|         null|       null|       null|         null|            null|        null|          null|            null|         null|       null|       null|         null|            null|        null|          null|            null|         null|       null| null|\n",
      "|2015|      3|    8|        11|        2|2015-08-11|           AA|    19805|     AA| N796AA|        1|          12478|           1247803|             31703|   JFK|  New York, NY|         NY|             36|       New York|       22|        12892|         1289203|           32575| LAX|Los Angeles, CA|       CA|           06|   California|     91|      0900|   1023|   83.00|          83.00|    1.00|                   5| 0900-0959|  62.00|     1125|    1342|  5.00|      1213|   1347|   94.00|          94.00|    1.00|                 6| 1200-1259|     0.00|            null|    0.00|        373.00|           384.00| 317.00|   1.00| 2475.00|           10|       83.00|        0.00|   11.00|         0.00|             0.00|        null|         null|           null|                 0|          null|                null|       null|       null|       null|         null|            null|        null|          null|            null|         null|       null|       null|         null|            null|        null|          null|            null|         null|       null|       null|         null|            null|        null|          null|            null|         null|       null|       null|         null|            null|        null|          null|            null|         null|       null|       null|         null|            null|        null|          null|            null|         null|       null| null|\n",
      "|2015|      3|    8|        12|        3|2015-08-12|           AA|    19805|     AA| N787AA|        1|          12478|           1247803|             31703|   JFK|  New York, NY|         NY|             36|       New York|       22|        12892|         1289203|           32575| LAX|Los Angeles, CA|       CA|           06|   California|     91|      0900|   0853|   -7.00|           0.00|    0.00|                  -1| 0900-0959|  41.00|     0934|    1136|  7.00|      1213|   1143|  -30.00|           0.00|    0.00|                -2| 1200-1259|     0.00|            null|    0.00|        373.00|           350.00| 302.00|   1.00| 2475.00|           10|        null|        null|    null|         null|             null|        null|         null|           null|                 0|          null|                null|       null|       null|       null|         null|            null|        null|          null|            null|         null|       null|       null|         null|            null|        null|          null|            null|         null|       null|       null|         null|            null|        null|          null|            null|         null|       null|       null|         null|            null|        null|          null|            null|         null|       null|       null|         null|            null|        null|          null|            null|         null|       null| null|\n",
      "|2015|      3|    8|        13|        4|2015-08-13|           AA|    19805|     AA| N784AA|        1|          12478|           1247803|             31703|   JFK|  New York, NY|         NY|             36|       New York|       22|        12892|         1289203|           32575| LAX|Los Angeles, CA|       CA|           06|   California|     91|      0900|   0853|   -7.00|           0.00|    0.00|                  -1| 0900-0959|  41.00|     0934|    1135| 14.00|      1213|   1149|  -24.00|           0.00|    0.00|                -2| 1200-1259|     0.00|            null|    0.00|        373.00|           356.00| 301.00|   1.00| 2475.00|           10|        null|        null|    null|         null|             null|        null|         null|           null|                 0|          null|                null|       null|       null|       null|         null|            null|        null|          null|            null|         null|       null|       null|         null|            null|        null|          null|            null|         null|       null|       null|         null|            null|        null|          null|            null|         null|       null|       null|         null|            null|        null|          null|            null|         null|       null|       null|         null|            null|        null|          null|            null|         null|       null| null|\n",
      "|2015|      3|    8|        14|        5|2015-08-14|           AA|    19805|     AA| N784AA|        1|          12478|           1247803|             31703|   JFK|  New York, NY|         NY|             36|       New York|       22|        12892|         1289203|           32575| LAX|Los Angeles, CA|       CA|           06|   California|     91|      0900|   0853|   -7.00|           0.00|    0.00|                  -1| 0900-0959|  27.00|     0920|    1121| 19.00|      1213|   1140|  -33.00|           0.00|    0.00|                -2| 1200-1259|     0.00|            null|    0.00|        373.00|           347.00| 301.00|   1.00| 2475.00|           10|        null|        null|    null|         null|             null|        null|         null|           null|                 0|          null|                null|       null|       null|       null|         null|            null|        null|          null|            null|         null|       null|       null|         null|            null|        null|          null|            null|         null|       null|       null|         null|            null|        null|          null|            null|         null|       null|       null|         null|            null|        null|          null|            null|         null|       null|       null|         null|            null|        null|          null|            null|         null|       null| null|\n",
      "|2015|      3|    8|        16|        7|2015-08-16|           AA|    19805|     AA| N783AA|        1|          12478|           1247803|             31703|   JFK|  New York, NY|         NY|             36|       New York|       22|        12892|         1289203|           32575| LAX|Los Angeles, CA|       CA|           06|   California|     91|      0900|   0856|   -4.00|           0.00|    0.00|                  -1| 0900-0959|  27.00|     0923|    1124|  7.00|      1213|   1131|  -42.00|           0.00|    0.00|                -2| 1200-1259|     0.00|            null|    0.00|        373.00|           335.00| 301.00|   1.00| 2475.00|           10|        null|        null|    null|         null|             null|        null|         null|           null|                 0|          null|                null|       null|       null|       null|         null|            null|        null|          null|            null|         null|       null|       null|         null|            null|        null|          null|            null|         null|       null|       null|         null|            null|        null|          null|            null|         null|       null|       null|         null|            null|        null|          null|            null|         null|       null|       null|         null|            null|        null|          null|            null|         null|       null| null|\n",
      "|2015|      3|    8|        17|        1|2015-08-17|           AA|    19805|     AA| N791AA|        1|          12478|           1247803|             31703|   JFK|  New York, NY|         NY|             36|       New York|       22|        12892|         1289203|           32575| LAX|Los Angeles, CA|       CA|           06|   California|     91|      0900|   0854|   -6.00|           0.00|    0.00|                  -1| 0900-0959|  23.00|     0917|    1127| 15.00|      1213|   1142|  -31.00|           0.00|    0.00|                -2| 1200-1259|     0.00|            null|    0.00|        373.00|           348.00| 310.00|   1.00| 2475.00|           10|        null|        null|    null|         null|             null|        null|         null|           null|                 0|          null|                null|       null|       null|       null|         null|            null|        null|          null|            null|         null|       null|       null|         null|            null|        null|          null|            null|         null|       null|       null|         null|            null|        null|          null|            null|         null|       null|       null|         null|            null|        null|          null|            null|         null|       null|       null|         null|            null|        null|          null|            null|         null|       null| null|\n",
      "|2015|      3|    8|        18|        2|2015-08-18|           AA|    19805|     AA| N794AA|        1|          12478|           1247803|             31703|   JFK|  New York, NY|         NY|             36|       New York|       22|        12892|         1289203|           32575| LAX|Los Angeles, CA|       CA|           06|   California|     91|      0900|   0908|    8.00|           8.00|    0.00|                   0| 0900-0959|  23.00|     0931|    1204|  8.00|      1213|   1212|   -1.00|           0.00|    0.00|                -1| 1200-1259|     0.00|            null|    0.00|        373.00|           364.00| 333.00|   1.00| 2475.00|           10|        null|        null|    null|         null|             null|        null|         null|           null|                 0|          null|                null|       null|       null|       null|         null|            null|        null|          null|            null|         null|       null|       null|         null|            null|        null|          null|            null|         null|       null|       null|         null|            null|        null|          null|            null|         null|       null|       null|         null|            null|        null|          null|            null|         null|       null|       null|         null|            null|        null|          null|            null|         null|       null| null|\n",
      "|2015|      3|    8|        19|        3|2015-08-19|           AA|    19805|     AA| N789AA|        1|          12478|           1247803|             31703|   JFK|  New York, NY|         NY|             36|       New York|       22|        12892|         1289203|           32575| LAX|Los Angeles, CA|       CA|           06|   California|     91|      0900|   0854|   -6.00|           0.00|    0.00|                  -1| 0900-0959|  26.00|     0920|    1128|  4.00|      1213|   1132|  -41.00|           0.00|    0.00|                -2| 1200-1259|     0.00|            null|    0.00|        373.00|           338.00| 308.00|   1.00| 2475.00|           10|        null|        null|    null|         null|             null|        null|         null|           null|                 0|          null|                null|       null|       null|       null|         null|            null|        null|          null|            null|         null|       null|       null|         null|            null|        null|          null|            null|         null|       null|       null|         null|            null|        null|          null|            null|         null|       null|       null|         null|            null|        null|          null|            null|         null|       null|       null|         null|            null|        null|          null|            null|         null|       null| null|\n",
      "|2015|      3|    8|        20|        4|2015-08-20|           AA|    19805|     AA| N799AA|        1|          12478|           1247803|             31703|   JFK|  New York, NY|         NY|             36|       New York|       22|        12892|         1289203|           32575| LAX|Los Angeles, CA|       CA|           06|   California|     91|      0900|   0856|   -4.00|           0.00|    0.00|                  -1| 0900-0959|  26.00|     0922|    1146| 11.00|      1213|   1157|  -16.00|           0.00|    0.00|                -2| 1200-1259|     0.00|            null|    0.00|        373.00|           361.00| 324.00|   1.00| 2475.00|           10|        null|        null|    null|         null|             null|        null|         null|           null|                 0|          null|                null|       null|       null|       null|         null|            null|        null|          null|            null|         null|       null|       null|         null|            null|        null|          null|            null|         null|       null|       null|         null|            null|        null|          null|            null|         null|       null|       null|         null|            null|        null|          null|            null|         null|       null|       null|         null|            null|        null|          null|            null|         null|       null| null|\n",
      "|2015|      3|    8|        21|        5|2015-08-21|           AA|    19805|     AA| N794AA|        1|          12478|           1247803|             31703|   JFK|  New York, NY|         NY|             36|       New York|       22|        12892|         1289203|           32575| LAX|Los Angeles, CA|       CA|           06|   California|     91|      0900|   0855|   -5.00|           0.00|    0.00|                  -1| 0900-0959|  53.00|     0948|    1159| 20.00|      1213|   1219|    6.00|           6.00|    0.00|                 0| 1200-1259|     0.00|            null|    0.00|        373.00|           384.00| 311.00|   1.00| 2475.00|           10|        null|        null|    null|         null|             null|        null|         null|           null|                 0|          null|                null|       null|       null|       null|         null|            null|        null|          null|            null|         null|       null|       null|         null|            null|        null|          null|            null|         null|       null|       null|         null|            null|        null|          null|            null|         null|       null|       null|         null|            null|        null|          null|            null|         null|       null|       null|         null|            null|        null|          null|            null|         null|       null| null|\n",
      "|2015|      3|    8|        22|        6|2015-08-22|           AA|    19805|     AA| N797AA|        1|          12478|           1247803|             31703|   JFK|  New York, NY|         NY|             36|       New York|       22|        12892|         1289203|           32575| LAX|Los Angeles, CA|       CA|           06|   California|     91|      0900|   0852|   -8.00|           0.00|    0.00|                  -1| 0900-0959|  22.00|     0914|    1129| 16.00|      1213|   1145|  -28.00|           0.00|    0.00|                -2| 1200-1259|     0.00|            null|    0.00|        373.00|           353.00| 315.00|   1.00| 2475.00|           10|        null|        null|    null|         null|             null|        null|         null|           null|                 0|          null|                null|       null|       null|       null|         null|            null|        null|          null|            null|         null|       null|       null|         null|            null|        null|          null|            null|         null|       null|       null|         null|            null|        null|          null|            null|         null|       null|       null|         null|            null|        null|          null|            null|         null|       null|       null|         null|            null|        null|          null|            null|         null|       null| null|\n",
      "|2015|      3|    8|        23|        7|2015-08-23|           AA|    19805|     AA| N784AA|        1|          12478|           1247803|             31703|   JFK|  New York, NY|         NY|             36|       New York|       22|        12892|         1289203|           32575| LAX|Los Angeles, CA|       CA|           06|   California|     91|      0900|   0851|   -9.00|           0.00|    0.00|                  -1| 0900-0959|  28.00|     0919|    1145|  7.00|      1213|   1152|  -21.00|           0.00|    0.00|                -2| 1200-1259|     0.00|            null|    0.00|        373.00|           361.00| 326.00|   1.00| 2475.00|           10|        null|        null|    null|         null|             null|        null|         null|           null|                 0|          null|                null|       null|       null|       null|         null|            null|        null|          null|            null|         null|       null|       null|         null|            null|        null|          null|            null|         null|       null|       null|         null|            null|        null|          null|            null|         null|       null|       null|         null|            null|        null|          null|            null|         null|       null|       null|         null|            null|        null|          null|            null|         null|       null| null|\n",
      "+----+-------+-----+----------+---------+----------+-------------+---------+-------+-------+---------+---------------+------------------+------------------+------+--------------+-----------+---------------+---------------+---------+-------------+----------------+----------------+----+---------------+---------+-------------+-------------+-------+----------+-------+--------+---------------+--------+--------------------+----------+-------+---------+--------+------+----------+-------+--------+---------------+--------+------------------+----------+---------+----------------+--------+--------------+-----------------+-------+-------+--------+-------------+------------+------------+--------+-------------+-----------------+------------+-------------+---------------+------------------+--------------+--------------------+-----------+-----------+-----------+-------------+----------------+------------+--------------+----------------+-------------+-----------+-----------+-------------+----------------+------------+--------------+----------------+-------------+-----------+-----------+-------------+----------------+------------+--------------+----------------+-------------+-----------+-----------+-------------+----------------+------------+--------------+----------------+-------------+-----------+-----------+-------------+----------------+------------+--------------+----------------+-------------+-----------+-----+\n",
      "only showing top 20 rows\n",
      "\n"
     ]
    }
   ],
   "source": [
    "session = SparkSession.builder.getOrCreate()\n",
    "\n",
    "df = session.read.csv(csv_filename, header=True)\n",
    "df.show()"
   ]
  },
  {
   "cell_type": "code",
   "execution_count": 3,
   "metadata": {
    "scrolled": false
   },
   "outputs": [
    {
     "name": "stdout",
     "output_type": "stream",
     "text": [
      "root\n",
      " |-- Year: string (nullable = true)\n",
      " |-- Quarter: string (nullable = true)\n",
      " |-- Month: string (nullable = true)\n",
      " |-- DayofMonth: string (nullable = true)\n",
      " |-- DayOfWeek: string (nullable = true)\n",
      " |-- FlightDate: string (nullable = true)\n",
      " |-- UniqueCarrier: string (nullable = true)\n",
      " |-- AirlineID: string (nullable = true)\n",
      " |-- Carrier: string (nullable = true)\n",
      " |-- TailNum: string (nullable = true)\n",
      " |-- FlightNum: string (nullable = true)\n",
      " |-- OriginAirportID: string (nullable = true)\n",
      " |-- OriginAirportSeqID: string (nullable = true)\n",
      " |-- OriginCityMarketID: string (nullable = true)\n",
      " |-- Origin: string (nullable = true)\n",
      " |-- OriginCityName: string (nullable = true)\n",
      " |-- OriginState: string (nullable = true)\n",
      " |-- OriginStateFips: string (nullable = true)\n",
      " |-- OriginStateName: string (nullable = true)\n",
      " |-- OriginWac: string (nullable = true)\n",
      " |-- DestAirportID: string (nullable = true)\n",
      " |-- DestAirportSeqID: string (nullable = true)\n",
      " |-- DestCityMarketID: string (nullable = true)\n",
      " |-- Dest: string (nullable = true)\n",
      " |-- DestCityName: string (nullable = true)\n",
      " |-- DestState: string (nullable = true)\n",
      " |-- DestStateFips: string (nullable = true)\n",
      " |-- DestStateName: string (nullable = true)\n",
      " |-- DestWac: string (nullable = true)\n",
      " |-- CRSDepTime: string (nullable = true)\n",
      " |-- DepTime: string (nullable = true)\n",
      " |-- DepDelay: string (nullable = true)\n",
      " |-- DepDelayMinutes: string (nullable = true)\n",
      " |-- DepDel15: string (nullable = true)\n",
      " |-- DepartureDelayGroups: string (nullable = true)\n",
      " |-- DepTimeBlk: string (nullable = true)\n",
      " |-- TaxiOut: string (nullable = true)\n",
      " |-- WheelsOff: string (nullable = true)\n",
      " |-- WheelsOn: string (nullable = true)\n",
      " |-- TaxiIn: string (nullable = true)\n",
      " |-- CRSArrTime: string (nullable = true)\n",
      " |-- ArrTime: string (nullable = true)\n",
      " |-- ArrDelay: string (nullable = true)\n",
      " |-- ArrDelayMinutes: string (nullable = true)\n",
      " |-- ArrDel15: string (nullable = true)\n",
      " |-- ArrivalDelayGroups: string (nullable = true)\n",
      " |-- ArrTimeBlk: string (nullable = true)\n",
      " |-- Cancelled: string (nullable = true)\n",
      " |-- CancellationCode: string (nullable = true)\n",
      " |-- Diverted: string (nullable = true)\n",
      " |-- CRSElapsedTime: string (nullable = true)\n",
      " |-- ActualElapsedTime: string (nullable = true)\n",
      " |-- AirTime: string (nullable = true)\n",
      " |-- Flights: string (nullable = true)\n",
      " |-- Distance: string (nullable = true)\n",
      " |-- DistanceGroup: string (nullable = true)\n",
      " |-- CarrierDelay: string (nullable = true)\n",
      " |-- WeatherDelay: string (nullable = true)\n",
      " |-- NASDelay: string (nullable = true)\n",
      " |-- SecurityDelay: string (nullable = true)\n",
      " |-- LateAircraftDelay: string (nullable = true)\n",
      " |-- FirstDepTime: string (nullable = true)\n",
      " |-- TotalAddGTime: string (nullable = true)\n",
      " |-- LongestAddGTime: string (nullable = true)\n",
      " |-- DivAirportLandings: string (nullable = true)\n",
      " |-- DivReachedDest: string (nullable = true)\n",
      " |-- DivActualElapsedTime: string (nullable = true)\n",
      " |-- DivArrDelay: string (nullable = true)\n",
      " |-- DivDistance: string (nullable = true)\n",
      " |-- Div1Airport: string (nullable = true)\n",
      " |-- Div1AirportID: string (nullable = true)\n",
      " |-- Div1AirportSeqID: string (nullable = true)\n",
      " |-- Div1WheelsOn: string (nullable = true)\n",
      " |-- Div1TotalGTime: string (nullable = true)\n",
      " |-- Div1LongestGTime: string (nullable = true)\n",
      " |-- Div1WheelsOff: string (nullable = true)\n",
      " |-- Div1TailNum: string (nullable = true)\n",
      " |-- Div2Airport: string (nullable = true)\n",
      " |-- Div2AirportID: string (nullable = true)\n",
      " |-- Div2AirportSeqID: string (nullable = true)\n",
      " |-- Div2WheelsOn: string (nullable = true)\n",
      " |-- Div2TotalGTime: string (nullable = true)\n",
      " |-- Div2LongestGTime: string (nullable = true)\n",
      " |-- Div2WheelsOff: string (nullable = true)\n",
      " |-- Div2TailNum: string (nullable = true)\n",
      " |-- Div3Airport: string (nullable = true)\n",
      " |-- Div3AirportID: string (nullable = true)\n",
      " |-- Div3AirportSeqID: string (nullable = true)\n",
      " |-- Div3WheelsOn: string (nullable = true)\n",
      " |-- Div3TotalGTime: string (nullable = true)\n",
      " |-- Div3LongestGTime: string (nullable = true)\n",
      " |-- Div3WheelsOff: string (nullable = true)\n",
      " |-- Div3TailNum: string (nullable = true)\n",
      " |-- Div4Airport: string (nullable = true)\n",
      " |-- Div4AirportID: string (nullable = true)\n",
      " |-- Div4AirportSeqID: string (nullable = true)\n",
      " |-- Div4WheelsOn: string (nullable = true)\n",
      " |-- Div4TotalGTime: string (nullable = true)\n",
      " |-- Div4LongestGTime: string (nullable = true)\n",
      " |-- Div4WheelsOff: string (nullable = true)\n",
      " |-- Div4TailNum: string (nullable = true)\n",
      " |-- Div5Airport: string (nullable = true)\n",
      " |-- Div5AirportID: string (nullable = true)\n",
      " |-- Div5AirportSeqID: string (nullable = true)\n",
      " |-- Div5WheelsOn: string (nullable = true)\n",
      " |-- Div5TotalGTime: string (nullable = true)\n",
      " |-- Div5LongestGTime: string (nullable = true)\n",
      " |-- Div5WheelsOff: string (nullable = true)\n",
      " |-- Div5TailNum: string (nullable = true)\n",
      " |-- _c109: string (nullable = true)\n",
      "\n"
     ]
    }
   ],
   "source": [
    "df.printSchema()"
   ]
  },
  {
   "cell_type": "markdown",
   "metadata": {},
   "source": [
    "Our data has been read in with all fields typed as strings. Let's use the inferSchema argument to .read.csv:"
   ]
  },
  {
   "cell_type": "code",
   "execution_count": 4,
   "metadata": {},
   "outputs": [
    {
     "name": "stdout",
     "output_type": "stream",
     "text": [
      "+-------------------+----+-----+----------+---------+-------+-------+---------+------+--------------+---------------+----+---------------+-------------+-------+--------+--------+\n",
      "|         FlightDate|Year|Month|DayofMonth|DayOfWeek|Carrier|TailNum|FlightNum|Origin|OriginCityName|OriginStateName|Dest|   DestCityName|DestStateName|DepTime|DepDelay|Distance|\n",
      "+-------------------+----+-----+----------+---------+-------+-------+---------+------+--------------+---------------+----+---------------+-------------+-------+--------+--------+\n",
      "|2015-08-02 00:00:00|2015|    8|         2|        7|     AA| N790AA|        1|   JFK|  New York, NY|       New York| LAX|Los Angeles, CA|   California|    854|    -6.0|  2475.0|\n",
      "|2015-08-03 00:00:00|2015|    8|         3|        1|     AA| N784AA|        1|   JFK|  New York, NY|       New York| LAX|Los Angeles, CA|   California|    858|    -2.0|  2475.0|\n",
      "|2015-08-04 00:00:00|2015|    8|         4|        2|     AA| N793AA|        1|   JFK|  New York, NY|       New York| LAX|Los Angeles, CA|   California|    902|     2.0|  2475.0|\n",
      "|2015-08-05 00:00:00|2015|    8|         5|        3|     AA| N787AA|        1|   JFK|  New York, NY|       New York| LAX|Los Angeles, CA|   California|    857|    -3.0|  2475.0|\n",
      "|2015-08-06 00:00:00|2015|    8|         6|        4|     AA| N790AA|        1|   JFK|  New York, NY|       New York| LAX|Los Angeles, CA|   California|    857|    -3.0|  2475.0|\n",
      "+-------------------+----+-----+----------+---------+-------+-------+---------+------+--------------+---------------+----+---------------+-------------+-------+--------+--------+\n",
      "only showing top 5 rows\n",
      "\n"
     ]
    }
   ],
   "source": [
    "flights = session.read.csv(csv_filename, header=True, inferSchema=True)\n",
    "flights = flights.select(columns_of_interest)\n",
    "\n",
    "flights.show(5)"
   ]
  },
  {
   "cell_type": "markdown",
   "metadata": {},
   "source": [
    "### Drop nas\n",
    "\n",
    "There are only a few departures for which any of the columns of interest contains null values. The most expedient way to handle them is to just drop them, since they won't make much of a difference."
   ]
  },
  {
   "cell_type": "code",
   "execution_count": 5,
   "metadata": {},
   "outputs": [
    {
     "name": "stdout",
     "output_type": "stream",
     "text": [
      "+--------------------------------------+--------------------------------+---------------------------------+--------------------------------------+-------------------------------------+-----------------------------------+-----------------------------------+-------------------------------------+----------------------------------+------------------------------------------+-------------------------------------------+--------------------------------+----------------------------------------+-----------------------------------------+-----------------------------------+------------------------------------+------------------------------------+\n",
      "|sum(CAST((FlightDate IS NULL) AS INT))|sum(CAST((Year IS NULL) AS INT))|sum(CAST((Month IS NULL) AS INT))|sum(CAST((DayofMonth IS NULL) AS INT))|sum(CAST((DayOfWeek IS NULL) AS INT))|sum(CAST((Carrier IS NULL) AS INT))|sum(CAST((TailNum IS NULL) AS INT))|sum(CAST((FlightNum IS NULL) AS INT))|sum(CAST((Origin IS NULL) AS INT))|sum(CAST((OriginCityName IS NULL) AS INT))|sum(CAST((OriginStateName IS NULL) AS INT))|sum(CAST((Dest IS NULL) AS INT))|sum(CAST((DestCityName IS NULL) AS INT))|sum(CAST((DestStateName IS NULL) AS INT))|sum(CAST((DepTime IS NULL) AS INT))|sum(CAST((DepDelay IS NULL) AS INT))|sum(CAST((Distance IS NULL) AS INT))|\n",
      "+--------------------------------------+--------------------------------+---------------------------------+--------------------------------------+-------------------------------------+-----------------------------------+-----------------------------------+-------------------------------------+----------------------------------+------------------------------------------+-------------------------------------------+--------------------------------+----------------------------------------+-----------------------------------------+-----------------------------------+------------------------------------+------------------------------------+\n",
      "|                                     0|                               0|                                0|                                     0|                                    0|                                  0|                                809|                                    0|                                 0|                                         0|                                          0|                               0|                                       0|                                        0|                               4719|                                4719|                                   0|\n",
      "+--------------------------------------+--------------------------------+---------------------------------+--------------------------------------+-------------------------------------+-----------------------------------+-----------------------------------+-------------------------------------+----------------------------------+------------------------------------------+-------------------------------------------+--------------------------------+----------------------------------------+-----------------------------------------+-----------------------------------+------------------------------------+------------------------------------+\n",
      "\n"
     ]
    }
   ],
   "source": [
    "flights.select(*[functions.sum(flights[col].isNull().cast(types.IntegerType())) for col in flights.columns]).show()"
   ]
  },
  {
   "cell_type": "markdown",
   "metadata": {},
   "source": [
    "NA-related functions are grouped in a .na attribute of DataFrames."
   ]
  },
  {
   "cell_type": "code",
   "execution_count": 6,
   "metadata": {},
   "outputs": [
    {
     "data": {
      "text/plain": [
       "<pyspark.sql.dataframe.DataFrameNaFunctions at 0x7fbf04073390>"
      ]
     },
     "execution_count": 6,
     "metadata": {},
     "output_type": "execute_result"
    }
   ],
   "source": [
    "flights.na"
   ]
  },
  {
   "cell_type": "code",
   "execution_count": 7,
   "metadata": {
    "collapsed": true
   },
   "outputs": [],
   "source": [
    "flights = flights.na.drop()"
   ]
  },
  {
   "cell_type": "markdown",
   "metadata": {},
   "source": [
    "## Feature extraction and generation of target variable\n",
    "\n",
    "The departing hour is the most important factor in delays, so we need to calculate it from the departure time. Since the input file uses a funny format for times, Spark has interpreted them as floats:"
   ]
  },
  {
   "cell_type": "code",
   "execution_count": 8,
   "metadata": {},
   "outputs": [
    {
     "name": "stdout",
     "output_type": "stream",
     "text": [
      "+-------+\n",
      "|DepTime|\n",
      "+-------+\n",
      "|    854|\n",
      "|    858|\n",
      "|    902|\n",
      "|    857|\n",
      "|    857|\n",
      "+-------+\n",
      "only showing top 5 rows\n",
      "\n"
     ]
    }
   ],
   "source": [
    "flights.select('DepTime').show(5)"
   ]
  },
  {
   "cell_type": "markdown",
   "metadata": {},
   "source": [
    "#### Exercise\n",
    "\n",
    "Calculated the 'DepHour' column that represents the hour as an int."
   ]
  },
  {
   "cell_type": "code",
   "execution_count": 9,
   "metadata": {},
   "outputs": [],
   "source": [
    "flights = flights.withColumn('DepHour', (flights['DepTime'] / 100).cast(types.IntegerType()))"
   ]
  },
  {
   "cell_type": "code",
   "execution_count": 10,
   "metadata": {},
   "outputs": [
    {
     "name": "stdout",
     "output_type": "stream",
     "text": [
      "+-------------------+----+-----+----------+---------+-------+-------+---------+------+--------------+---------------+----+---------------+-------------+-------+--------+--------+-------+\n",
      "|         FlightDate|Year|Month|DayofMonth|DayOfWeek|Carrier|TailNum|FlightNum|Origin|OriginCityName|OriginStateName|Dest|   DestCityName|DestStateName|DepTime|DepDelay|Distance|DepHour|\n",
      "+-------------------+----+-----+----------+---------+-------+-------+---------+------+--------------+---------------+----+---------------+-------------+-------+--------+--------+-------+\n",
      "|2015-08-02 00:00:00|2015|    8|         2|        7|     AA| N790AA|        1|   JFK|  New York, NY|       New York| LAX|Los Angeles, CA|   California|    854|    -6.0|  2475.0|      8|\n",
      "|2015-08-03 00:00:00|2015|    8|         3|        1|     AA| N784AA|        1|   JFK|  New York, NY|       New York| LAX|Los Angeles, CA|   California|    858|    -2.0|  2475.0|      8|\n",
      "|2015-08-04 00:00:00|2015|    8|         4|        2|     AA| N793AA|        1|   JFK|  New York, NY|       New York| LAX|Los Angeles, CA|   California|    902|     2.0|  2475.0|      9|\n",
      "|2015-08-05 00:00:00|2015|    8|         5|        3|     AA| N787AA|        1|   JFK|  New York, NY|       New York| LAX|Los Angeles, CA|   California|    857|    -3.0|  2475.0|      8|\n",
      "|2015-08-06 00:00:00|2015|    8|         6|        4|     AA| N790AA|        1|   JFK|  New York, NY|       New York| LAX|Los Angeles, CA|   California|    857|    -3.0|  2475.0|      8|\n",
      "+-------------------+----+-----+----------+---------+-------+-------+---------+------+--------------+---------------+----+---------------+-------------+-------+--------+--------+-------+\n",
      "only showing top 5 rows\n",
      "\n"
     ]
    }
   ],
   "source": [
    "flights.show(5)"
   ]
  },
  {
   "cell_type": "markdown",
   "metadata": {},
   "source": [
    "We will also generate a binary target variable. The aviation industry considers a flight delayed when it departs more than 15 minutes after its scheduled departure time, so we will use that. We will create it as an integer, since that is what the learning algorithms expect."
   ]
  },
  {
   "cell_type": "code",
   "execution_count": 11,
   "metadata": {
    "collapsed": true
   },
   "outputs": [],
   "source": [
    "flights = flights.withColumn('Delayed', (flights['DepDelay'] > 15).cast(types.IntegerType()))"
   ]
  },
  {
   "cell_type": "code",
   "execution_count": 12,
   "metadata": {},
   "outputs": [
    {
     "name": "stdout",
     "output_type": "stream",
     "text": [
      "+-------------------+----+-----+----------+---------+-------+-------+---------+------+--------------+---------------+----+---------------+-------------+-------+--------+--------+-------+-------+\n",
      "|         FlightDate|Year|Month|DayofMonth|DayOfWeek|Carrier|TailNum|FlightNum|Origin|OriginCityName|OriginStateName|Dest|   DestCityName|DestStateName|DepTime|DepDelay|Distance|DepHour|Delayed|\n",
      "+-------------------+----+-----+----------+---------+-------+-------+---------+------+--------------+---------------+----+---------------+-------------+-------+--------+--------+-------+-------+\n",
      "|2015-08-02 00:00:00|2015|    8|         2|        7|     AA| N790AA|        1|   JFK|  New York, NY|       New York| LAX|Los Angeles, CA|   California|    854|    -6.0|  2475.0|      8|      0|\n",
      "|2015-08-03 00:00:00|2015|    8|         3|        1|     AA| N784AA|        1|   JFK|  New York, NY|       New York| LAX|Los Angeles, CA|   California|    858|    -2.0|  2475.0|      8|      0|\n",
      "|2015-08-04 00:00:00|2015|    8|         4|        2|     AA| N793AA|        1|   JFK|  New York, NY|       New York| LAX|Los Angeles, CA|   California|    902|     2.0|  2475.0|      9|      0|\n",
      "|2015-08-05 00:00:00|2015|    8|         5|        3|     AA| N787AA|        1|   JFK|  New York, NY|       New York| LAX|Los Angeles, CA|   California|    857|    -3.0|  2475.0|      8|      0|\n",
      "|2015-08-06 00:00:00|2015|    8|         6|        4|     AA| N790AA|        1|   JFK|  New York, NY|       New York| LAX|Los Angeles, CA|   California|    857|    -3.0|  2475.0|      8|      0|\n",
      "+-------------------+----+-----+----------+---------+-------+-------+---------+------+--------------+---------------+----+---------------+-------------+-------+--------+--------+-------+-------+\n",
      "only showing top 5 rows\n",
      "\n"
     ]
    }
   ],
   "source": [
    "flights.show(5)"
   ]
  },
  {
   "cell_type": "markdown",
   "metadata": {},
   "source": [
    "In order to make the training times manageable, let's pick only 10% of the data to train."
   ]
  },
  {
   "cell_type": "code",
   "execution_count": 13,
   "metadata": {
    "collapsed": true
   },
   "outputs": [],
   "source": [
    "flights_sample, rest = flights.randomSplit([.1, .9])"
   ]
  },
  {
   "cell_type": "markdown",
   "metadata": {},
   "source": [
    "## Handle different fields in different ways\n",
    "\n",
    "We have features of at least three kinds:\n",
    "\n",
    "* Numeric continuous fields, which we can use as input to many algorithms as they are. In particular, decision trees can take continuous variables with any value as input, since they only look for the cutoff point that most increases the homogeneity of the resulting groups. In contrast, if we were using a logistic regression with regularization, for example, we would need to first scale the variables to have comparable magnitudes.\n",
    "\n",
    "* There are fields which we will treat as categorical variables, but which are already integers. These need to be one-hot encoded.\n",
    "\n",
    "* Finally, there are several categorical variables that are encoded as strings. These need to be one-hot encoded, but OneHotEncoder requires numeric input. Therefore, we will need to apply a StringIndexer to each of them before one-hot encoding."
   ]
  },
  {
   "cell_type": "code",
   "execution_count": 14,
   "metadata": {
    "collapsed": true
   },
   "outputs": [],
   "source": [
    "categorical_fields = ['Year', 'Month', 'DayofMonth', 'DayOfWeek', 'Carrier', \n",
    "                      'Origin', 'OriginCityName', 'OriginStateName', \n",
    "                      'Dest', 'DestCityName', 'DestStateName']\n",
    "\n",
    "string_fields = [field.name for field in flights_sample.schema.fields if field.dataType == types.StringType()]\n",
    "\n",
    "continuous_fields = ['Distance', 'DepHour']\n",
    "\n",
    "target_field = 'Delayed'"
   ]
  },
  {
   "cell_type": "markdown",
   "metadata": {},
   "source": [
    "We have generated the list of names of columns that have dataType string with a list comprehension, rather than hard-coding it, but it is just like the other ones."
   ]
  },
  {
   "cell_type": "code",
   "execution_count": 15,
   "metadata": {},
   "outputs": [
    {
     "name": "stdout",
     "output_type": "stream",
     "text": [
      "root\n",
      " |-- FlightDate: timestamp (nullable = true)\n",
      " |-- Year: integer (nullable = true)\n",
      " |-- Month: integer (nullable = true)\n",
      " |-- DayofMonth: integer (nullable = true)\n",
      " |-- DayOfWeek: integer (nullable = true)\n",
      " |-- Carrier: string (nullable = true)\n",
      " |-- TailNum: string (nullable = true)\n",
      " |-- FlightNum: integer (nullable = true)\n",
      " |-- Origin: string (nullable = true)\n",
      " |-- OriginCityName: string (nullable = true)\n",
      " |-- OriginStateName: string (nullable = true)\n",
      " |-- Dest: string (nullable = true)\n",
      " |-- DestCityName: string (nullable = true)\n",
      " |-- DestStateName: string (nullable = true)\n",
      " |-- DepTime: integer (nullable = true)\n",
      " |-- DepDelay: double (nullable = true)\n",
      " |-- Distance: double (nullable = true)\n",
      " |-- DepHour: integer (nullable = true)\n",
      " |-- Delayed: integer (nullable = true)\n",
      "\n"
     ]
    }
   ],
   "source": [
    "flights_sample.printSchema()"
   ]
  },
  {
   "cell_type": "code",
   "execution_count": 16,
   "metadata": {},
   "outputs": [
    {
     "data": {
      "text/plain": [
       "[StructField(FlightDate,TimestampType,true),\n",
       " StructField(Year,IntegerType,true),\n",
       " StructField(Month,IntegerType,true),\n",
       " StructField(DayofMonth,IntegerType,true),\n",
       " StructField(DayOfWeek,IntegerType,true),\n",
       " StructField(Carrier,StringType,true),\n",
       " StructField(TailNum,StringType,true),\n",
       " StructField(FlightNum,IntegerType,true),\n",
       " StructField(Origin,StringType,true),\n",
       " StructField(OriginCityName,StringType,true),\n",
       " StructField(OriginStateName,StringType,true),\n",
       " StructField(Dest,StringType,true),\n",
       " StructField(DestCityName,StringType,true),\n",
       " StructField(DestStateName,StringType,true),\n",
       " StructField(DepTime,IntegerType,true),\n",
       " StructField(DepDelay,DoubleType,true),\n",
       " StructField(Distance,DoubleType,true),\n",
       " StructField(DepHour,IntegerType,true),\n",
       " StructField(Delayed,IntegerType,true)]"
      ]
     },
     "execution_count": 16,
     "metadata": {},
     "output_type": "execute_result"
    }
   ],
   "source": [
    "flights_sample.schema.fields"
   ]
  },
  {
   "cell_type": "code",
   "execution_count": 17,
   "metadata": {},
   "outputs": [
    {
     "data": {
      "text/plain": [
       "'FlightDate'"
      ]
     },
     "execution_count": 17,
     "metadata": {},
     "output_type": "execute_result"
    }
   ],
   "source": [
    "one_field = flights_sample.schema.fields[0]\n",
    "\n",
    "one_field.name"
   ]
  },
  {
   "cell_type": "code",
   "execution_count": 18,
   "metadata": {},
   "outputs": [
    {
     "data": {
      "text/plain": [
       "TimestampType"
      ]
     },
     "execution_count": 18,
     "metadata": {},
     "output_type": "execute_result"
    }
   ],
   "source": [
    "one_field.dataType"
   ]
  },
  {
   "cell_type": "markdown",
   "metadata": {},
   "source": [
    "## Handling categorical fields\n",
    "\n",
    "Let's do the processing of just one field first, as an example. Then we will process the rest."
   ]
  },
  {
   "cell_type": "markdown",
   "metadata": {},
   "source": [
    "### StringIndexer \n",
    "\n",
    "A [StringIndexer](https://spark.apache.org/docs/2.2.0/ml-features.html#stringindexer) is an estimator that takes a single string field, then produces a transformer that codifies said field as numeric labels that are fit for feeding to a one-hot encoding. \n",
    "\n",
    "We need to specify an input column, an output column, and a way to handle invalids. In this case, invalids are values that the indexer has not seen during fitting but that the transformer finds during processing. Its values are 'error' (the default), which is pretty self-explanatory, 'skip', which drops them, and 'keep', which is what we want. It will assign all unseen labels to a single category index."
   ]
  },
  {
   "cell_type": "code",
   "execution_count": 19,
   "metadata": {
    "collapsed": true
   },
   "outputs": [],
   "source": [
    "carrier_indexer = StringIndexer(inputCol='Carrier', outputCol='CarrierIndex', handleInvalid='keep')"
   ]
  },
  {
   "cell_type": "code",
   "execution_count": 20,
   "metadata": {
    "collapsed": true
   },
   "outputs": [],
   "source": [
    "carriers = flights_sample.select('Carrier')"
   ]
  },
  {
   "cell_type": "code",
   "execution_count": 21,
   "metadata": {
    "collapsed": true
   },
   "outputs": [],
   "source": [
    "carrier_indexer_transformer = carrier_indexer.fit(carriers)"
   ]
  },
  {
   "cell_type": "code",
   "execution_count": 22,
   "metadata": {},
   "outputs": [
    {
     "name": "stdout",
     "output_type": "stream",
     "text": [
      "+-------+------------+\n",
      "|Carrier|CarrierIndex|\n",
      "+-------+------------+\n",
      "|     AA|         1.0|\n",
      "|     AA|         1.0|\n",
      "|     AA|         1.0|\n",
      "|     AA|         1.0|\n",
      "|     AA|         1.0|\n",
      "+-------+------------+\n",
      "only showing top 5 rows\n",
      "\n"
     ]
    }
   ],
   "source": [
    "carrier_indexer_transformer.transform(carriers).show(5)"
   ]
  },
  {
   "cell_type": "markdown",
   "metadata": {},
   "source": [
    "### OneHotEncoder\n",
    "\n",
    "A [OneHotEncoder](https://spark.apache.org/docs/2.2.0/ml-features.html#onehotencoder) generates a n-1 length vector column for an n-category column of category indices. \n",
    "\n",
    "We need to specify an input and an output column."
   ]
  },
  {
   "cell_type": "code",
   "execution_count": 23,
   "metadata": {
    "collapsed": true
   },
   "outputs": [],
   "source": [
    "onehot_encoder = OneHotEncoder(inputCol='CarrierIndex', outputCol='CarrierOneHot')"
   ]
  },
  {
   "cell_type": "code",
   "execution_count": 24,
   "metadata": {},
   "outputs": [
    {
     "data": {
      "text/plain": [
       "DataFrame[Carrier: string, CarrierIndex: double, CarrierOneHot: vector]"
      ]
     },
     "execution_count": 24,
     "metadata": {},
     "output_type": "execute_result"
    }
   ],
   "source": [
    "# The whole process for a single field would be like this:\n",
    "\n",
    "carrier_indexer_transformer = carrier_indexer.fit(carriers)\n",
    "indexed = carrier_indexer_transformer.transform(carriers)\n",
    "\n",
    "onehot_encoded = onehot_encoder.transform(indexed)\n",
    "\n",
    "onehot_encoded"
   ]
  },
  {
   "cell_type": "code",
   "execution_count": 25,
   "metadata": {},
   "outputs": [
    {
     "name": "stdout",
     "output_type": "stream",
     "text": [
      "+-------+------------+--------------+\n",
      "|Carrier|CarrierIndex| CarrierOneHot|\n",
      "+-------+------------+--------------+\n",
      "|     AA|         1.0|(13,[1],[1.0])|\n",
      "|     AA|         1.0|(13,[1],[1.0])|\n",
      "|     AA|         1.0|(13,[1],[1.0])|\n",
      "|     AA|         1.0|(13,[1],[1.0])|\n",
      "|     AA|         1.0|(13,[1],[1.0])|\n",
      "+-------+------------+--------------+\n",
      "only showing top 5 rows\n",
      "\n"
     ]
    }
   ],
   "source": [
    "onehot_encoded.show(5)"
   ]
  },
  {
   "cell_type": "markdown",
   "metadata": {},
   "source": [
    "### SparseVectors\n",
    "\n",
    "The vectors produced by OneHotEncoder will each have only one non-zero value, but can potentially be very long. An efficient way to represent them is therefore a SparseVector, and that is what OneHotEncoder generates. \n",
    "\n",
    "A SparseVector is a data structure that only stores the length of the vector, a list of positions, and a list of values. All other values are assumed to be 0s.\n",
    "\n",
    "This way, a vector like the following, with lenght 15 and non-zero values only on positions 3 and 9:\n",
    "\n",
    "```python\n",
    "[0.0, 0.0, 0.0, 6.0, 0.0, 0.0, 0.0, 0.0, 0.0, 4.0, 0.0, 0.0, 0.0, 0.0, 0.0]\n",
    "```\n",
    "\n",
    "can be compactly expressed as\n",
    "\n",
    "```python\n",
    "(15, [3, 9], [6.0, 4.0])\n",
    "```"
   ]
  },
  {
   "cell_type": "code",
   "execution_count": 26,
   "metadata": {},
   "outputs": [],
   "source": [
    "from pyspark.ml.linalg import SparseVector"
   ]
  },
  {
   "cell_type": "markdown",
   "metadata": {},
   "source": [
    "## Let's build our first Pipeline!\n",
    "\n",
    "Our pipeline consists of a number of StringIndexers, followed by one OneHotEncoder, followed by a VectorAssembler, with a RandomForestClassifier at the end.\n",
    "\n",
    "A Spark Pipeline is a single Estimator. We build it secifying the stages it comprises, and then we are ready to .fit it in one go. This will save us a lot of trouble, since we don't need to fit and transform each stage individually."
   ]
  },
  {
   "cell_type": "code",
   "execution_count": 27,
   "metadata": {},
   "outputs": [
    {
     "data": {
      "text/plain": [
       "pyspark.ml.pipeline.Pipeline"
      ]
     },
     "execution_count": 27,
     "metadata": {},
     "output_type": "execute_result"
    }
   ],
   "source": [
    "from pyspark.ml.pipeline import Pipeline\n",
    "\n",
    "Pipeline"
   ]
  },
  {
   "cell_type": "markdown",
   "metadata": {},
   "source": [
    "### StringIndexer stages\n",
    "\n",
    "We only need to StringIndex some of the fields. We are going to build the input and output column names programatically.\n"
   ]
  },
  {
   "cell_type": "code",
   "execution_count": 28,
   "metadata": {
    "collapsed": true
   },
   "outputs": [],
   "source": [
    "# Reminder:\n",
    "\n",
    "categorical_fields = ['Year', 'Month', 'DayofMonth', 'DayOfWeek', 'Carrier', \n",
    "                      'Origin', 'OriginCityName', 'OriginStateName', \n",
    "                      'Dest', 'DestCityName', 'DestStateName']\n",
    "\n",
    "string_fields = [field.name for field in flights_sample.schema.fields if field.dataType == types.StringType()]\n",
    "\n",
    "continuous_fields = ['Distance', 'DepHour']\n",
    "\n",
    "target_field = 'Delayed'"
   ]
  },
  {
   "cell_type": "code",
   "execution_count": 29,
   "metadata": {},
   "outputs": [
    {
     "data": {
      "text/plain": [
       "['Carrier',\n",
       " 'TailNum',\n",
       " 'Origin',\n",
       " 'OriginCityName',\n",
       " 'OriginStateName',\n",
       " 'Dest',\n",
       " 'DestCityName',\n",
       " 'DestStateName']"
      ]
     },
     "execution_count": 29,
     "metadata": {},
     "output_type": "execute_result"
    }
   ],
   "source": [
    "string_fields"
   ]
  },
  {
   "cell_type": "code",
   "execution_count": 30,
   "metadata": {},
   "outputs": [],
   "source": [
    "indexers = [StringIndexer(inputCol=field, outputCol=field + 'Index', handleInvalid='keep') for field in string_fields]"
   ]
  },
  {
   "cell_type": "markdown",
   "metadata": {},
   "source": [
    "### OneHotEncoder\n",
    "\n",
    "One OneHotEncoder per categorical column. We are also going to build these stages programatically"
   ]
  },
  {
   "cell_type": "code",
   "execution_count": 31,
   "metadata": {},
   "outputs": [
    {
     "data": {
      "text/plain": [
       "['Year', 'Month', 'DayofMonth', 'DayOfWeek']"
      ]
     },
     "execution_count": 31,
     "metadata": {},
     "output_type": "execute_result"
    }
   ],
   "source": [
    "non_string_categoricals = [field for field in categorical_fields if field not in string_fields]\n",
    "non_string_categoricals"
   ]
  },
  {
   "cell_type": "code",
   "execution_count": 32,
   "metadata": {
    "collapsed": true
   },
   "outputs": [],
   "source": [
    "non_string_categorical_onehotencoders = [OneHotEncoder(inputCol=field, outputCol=field + 'OneHot') for field in non_string_categoricals]"
   ]
  },
  {
   "cell_type": "code",
   "execution_count": 33,
   "metadata": {
    "collapsed": true
   },
   "outputs": [],
   "source": [
    "string_categorical_onehotencoders = [OneHotEncoder(inputCol=field+'Index', outputCol=field + 'OneHot') for field in string_fields]"
   ]
  },
  {
   "cell_type": "markdown",
   "metadata": {},
   "source": [
    "### VectorAssembler\n",
    "\n",
    "Once we have generated our features, we can assemble them into a single features column, together with the continuous_fields."
   ]
  },
  {
   "cell_type": "code",
   "execution_count": 34,
   "metadata": {},
   "outputs": [],
   "source": [
    "input_cols_onehotencoded = [field + 'OneHot' for field in categorical_fields]\n",
    "\n",
    "va = VectorAssembler(inputCols= input_cols_onehotencoded + continuous_fields, outputCol='features')"
   ]
  },
  {
   "cell_type": "markdown",
   "metadata": {},
   "source": [
    "### RandomForestClassifier\n",
    "\n",
    "Aaaaand we are ready to do some Machine Learning! We'll use a RandomForestClassifier to try to predict delayed versus non delayed flights, a binary classification task."
   ]
  },
  {
   "cell_type": "code",
   "execution_count": 35,
   "metadata": {
    "collapsed": true
   },
   "outputs": [],
   "source": [
    "rf_classifier = RandomForestClassifier(featuresCol='features', labelCol='Delayed')"
   ]
  },
  {
   "cell_type": "markdown",
   "metadata": {},
   "source": [
    "### Pipeline!\n",
    "\n",
    "Now that we have all the stages, we are finally ready to put them together into a single Estimator, our Pipeline."
   ]
  },
  {
   "cell_type": "code",
   "execution_count": 36,
   "metadata": {},
   "outputs": [
    {
     "data": {
      "text/plain": [
       "[StringIndexer_4721aab1d6a88328b127,\n",
       " StringIndexer_41c08f1df7b8523ffca3,\n",
       " StringIndexer_4a549890a92e066018df,\n",
       " StringIndexer_47a18d2d30157b2ea6ae,\n",
       " StringIndexer_4412a3f8d6c87711fbdc,\n",
       " StringIndexer_4fa9b2e95edfd945e72f,\n",
       " StringIndexer_43858a961119e6b91116,\n",
       " StringIndexer_48ebb6144ddf0d725c7c]"
      ]
     },
     "execution_count": 36,
     "metadata": {},
     "output_type": "execute_result"
    }
   ],
   "source": [
    "indexers"
   ]
  },
  {
   "cell_type": "code",
   "execution_count": 37,
   "metadata": {},
   "outputs": [
    {
     "data": {
      "text/plain": [
       "[OneHotEncoder_416299bd13b0f19da90a,\n",
       " OneHotEncoder_4ed58681717522ed2e36,\n",
       " OneHotEncoder_430bbc2bf306e45f2025,\n",
       " OneHotEncoder_40fe9e6e6ea223f360cd,\n",
       " OneHotEncoder_420ba9b95f264b32caae,\n",
       " OneHotEncoder_41409cf769f0ff83455e,\n",
       " OneHotEncoder_4529a6a2b49f7f0a0117,\n",
       " OneHotEncoder_41bbbfe18f3b1b02332c]"
      ]
     },
     "execution_count": 37,
     "metadata": {},
     "output_type": "execute_result"
    }
   ],
   "source": [
    "string_categorical_onehotencoders"
   ]
  },
  {
   "cell_type": "code",
   "execution_count": 38,
   "metadata": {},
   "outputs": [
    {
     "data": {
      "text/plain": [
       "[OneHotEncoder_434fb784d8631c5f8dd7,\n",
       " OneHotEncoder_481ebfb49299302e4b64,\n",
       " OneHotEncoder_4a33a4b2a59216227e20,\n",
       " OneHotEncoder_4c82ba51438de7e8c8b8]"
      ]
     },
     "execution_count": 38,
     "metadata": {},
     "output_type": "execute_result"
    }
   ],
   "source": [
    "non_string_categorical_onehotencoders"
   ]
  },
  {
   "cell_type": "code",
   "execution_count": 39,
   "metadata": {},
   "outputs": [
    {
     "data": {
      "text/plain": [
       "Pipeline_419a836c75888a240bb1"
      ]
     },
     "execution_count": 39,
     "metadata": {},
     "output_type": "execute_result"
    }
   ],
   "source": [
    "pipeline = Pipeline(stages=indexers + \n",
    "                    string_categorical_onehotencoders + \n",
    "                    non_string_categorical_onehotencoders + \n",
    "                    [va] + \n",
    "                    [rf_classifier])\n",
    "pipeline"
   ]
  },
  {
   "cell_type": "markdown",
   "metadata": {},
   "source": [
    "Now that we have gone to the trouble of building our Pipeline, fitting it and using it to predict the probabilty of delay on unseen data is as easy as using a single Estimator:"
   ]
  },
  {
   "cell_type": "code",
   "execution_count": 40,
   "metadata": {
    "collapsed": true
   },
   "outputs": [],
   "source": [
    "pipeline_model = pipeline.fit(flights_sample)"
   ]
  },
  {
   "cell_type": "code",
   "execution_count": 41,
   "metadata": {},
   "outputs": [
    {
     "data": {
      "text/plain": [
       "DataFrame[FlightDate: timestamp, Year: int, Month: int, DayofMonth: int, DayOfWeek: int, Carrier: string, TailNum: string, FlightNum: int, Origin: string, OriginCityName: string, OriginStateName: string, Dest: string, DestCityName: string, DestStateName: string, DepTime: int, DepDelay: double, Distance: double, DepHour: int, Delayed: int, CarrierIndex: double, TailNumIndex: double, OriginIndex: double, OriginCityNameIndex: double, OriginStateNameIndex: double, DestIndex: double, DestCityNameIndex: double, DestStateNameIndex: double, CarrierOneHot: vector, TailNumOneHot: vector, OriginOneHot: vector, OriginCityNameOneHot: vector, OriginStateNameOneHot: vector, DestOneHot: vector, DestCityNameOneHot: vector, DestStateNameOneHot: vector, YearOneHot: vector, MonthOneHot: vector, DayofMonthOneHot: vector, DayOfWeekOneHot: vector, features: vector, rawPrediction: vector, probability: vector, prediction: double]"
      ]
     },
     "execution_count": 41,
     "metadata": {},
     "output_type": "execute_result"
    }
   ],
   "source": [
    "predicted = pipeline_model.transform(rest)\n",
    "predicted"
   ]
  },
  {
   "cell_type": "code",
   "execution_count": 43,
   "metadata": {},
   "outputs": [
    {
     "data": {
      "text/plain": [
       "[Row(probability=DenseVector([0.8188, 0.1812])),\n",
       " Row(probability=DenseVector([0.8164, 0.1836])),\n",
       " Row(probability=DenseVector([0.8188, 0.1812])),\n",
       " Row(probability=DenseVector([0.8154, 0.1846])),\n",
       " Row(probability=DenseVector([0.8164, 0.1836]))]"
      ]
     },
     "execution_count": 43,
     "metadata": {},
     "output_type": "execute_result"
    }
   ],
   "source": [
    "predicted.select('probability').take(5)"
   ]
  },
  {
   "cell_type": "markdown",
   "metadata": {},
   "source": [
    "## Evaluating and tuning our Pipeline\n",
    "\n",
    "Probably the most interesting use of Spark Pipelines is quickly (in terms of coding time) evaluating many combinations of hyperparameters to feed our model and choosing the best ones. For that, we can use a TrainValidationSplit or a CrossValidator. The CrossValidator will generally perform better, but it will take several times as much. I'm using here the TrainValidationSplit because the API is the same."
   ]
  },
  {
   "cell_type": "code",
   "execution_count": 44,
   "metadata": {},
   "outputs": [
    {
     "data": {
      "text/plain": [
       "pyspark.ml.tuning.TrainValidationSplit"
      ]
     },
     "execution_count": 44,
     "metadata": {},
     "output_type": "execute_result"
    }
   ],
   "source": [
    "from pyspark.ml.tuning import TrainValidationSplit, CrossValidator\n",
    "\n",
    "TrainValidationSplit"
   ]
  },
  {
   "cell_type": "markdown",
   "metadata": {},
   "source": [
    "### Params and Evaluators\n",
    "\n",
    "In order to evaluate different sets of parameters, we need a) the set of parameters to iterate through and b) a metric to compare the results. \n",
    "\n",
    "The first element is represented by ParamMaps, which we build with a ParamGridBuilder, and the second by an Evaluator that needs to be specific to the relevant task."
   ]
  },
  {
   "cell_type": "code",
   "execution_count": 45,
   "metadata": {
    "collapsed": true
   },
   "outputs": [],
   "source": [
    "from pyspark.ml.tuning import ParamGridBuilder\n",
    "\n",
    "builder = ParamGridBuilder()\n",
    "\n",
    "our_param_map = builder.addGrid(rf_classifier.maxDepth, [5, 15])\\\n",
    "                       .addGrid(rf_classifier.numTrees, [10, 30])\\\n",
    "                       .build()"
   ]
  },
  {
   "cell_type": "code",
   "execution_count": 46,
   "metadata": {
    "collapsed": true
   },
   "outputs": [],
   "source": [
    "from pyspark.ml.evaluation import BinaryClassificationEvaluator\n",
    "\n",
    "our_evaluator = BinaryClassificationEvaluator(labelCol='Delayed')"
   ]
  },
  {
   "cell_type": "markdown",
   "metadata": {},
   "source": [
    "We now have all the elements in place to perform our fit:"
   ]
  },
  {
   "cell_type": "code",
   "execution_count": 47,
   "metadata": {
    "collapsed": true
   },
   "outputs": [],
   "source": [
    "split = TrainValidationSplit(estimator=pipeline, \n",
    "                             evaluator=our_evaluator, \n",
    "                             estimatorParamMaps=our_param_map)"
   ]
  },
  {
   "cell_type": "code",
   "execution_count": 48,
   "metadata": {},
   "outputs": [
    {
     "name": "stdout",
     "output_type": "stream",
     "text": [
      "CPU times: user 1.16 s, sys: 160 ms, total: 1.32 s\n",
      "Wall time: 1min 55s\n"
     ]
    }
   ],
   "source": [
    "%%time\n",
    "\n",
    "split_model_chosen = split.fit(flights_sample)"
   ]
  },
  {
   "cell_type": "markdown",
   "metadata": {},
   "source": [
    "And now we can predict on the rest of the flights and compare them with reality:"
   ]
  },
  {
   "cell_type": "code",
   "execution_count": 49,
   "metadata": {},
   "outputs": [
    {
     "name": "stdout",
     "output_type": "stream",
     "text": [
      "CPU times: user 48 ms, sys: 16 ms, total: 64 ms\n",
      "Wall time: 7.95 s\n"
     ]
    }
   ],
   "source": [
    "%%time\n",
    "\n",
    "predictions = split_model_chosen.transform(rest).select('features',\n",
    "                                                        'Delayed',\n",
    "                                                        'rawPrediction',\n",
    "                                                        'probability',\n",
    "                                                        'prediction')"
   ]
  },
  {
   "cell_type": "code",
   "execution_count": 50,
   "metadata": {},
   "outputs": [
    {
     "name": "stdout",
     "output_type": "stream",
     "text": [
      "+--------------------+-------+--------------------+--------------------+----------+\n",
      "|            features|Delayed|       rawPrediction|         probability|prediction|\n",
      "+--------------------+-------+--------------------+--------------------+----------+\n",
      "|(3416,[2024,2060,...|      0|[24.4180932713555...|[0.81393644237851...|       0.0|\n",
      "|(3416,[2024,2060,...|      0|[23.7676453324026...|[0.79225484441342...|       0.0|\n",
      "|(3416,[2024,2060,...|      0|[24.4180932713555...|[0.81393644237851...|       0.0|\n",
      "|(3416,[2024,2060,...|      1|[21.5352258731091...|[0.71784086243697...|       0.0|\n",
      "|(3416,[2024,2060,...|      1|[22.5405059167185...|[0.75135019722395...|       0.0|\n",
      "+--------------------+-------+--------------------+--------------------+----------+\n",
      "only showing top 5 rows\n",
      "\n"
     ]
    }
   ],
   "source": [
    "predictions.show(5)"
   ]
  },
  {
   "cell_type": "markdown",
   "metadata": {},
   "source": [
    "### Let's have a look\n",
    "\n",
    "We are now ready to compare our predictions with reality. Do these features have any predictive power at all?"
   ]
  },
  {
   "cell_type": "code",
   "execution_count": 51,
   "metadata": {},
   "outputs": [],
   "source": [
    "predicted_probs = predictions.select('Delayed', 'probability').toPandas()"
   ]
  },
  {
   "cell_type": "code",
   "execution_count": 52,
   "metadata": {},
   "outputs": [],
   "source": [
    "y_true = predicted_probs['Delayed']\n",
    "y_prob_predicted = predicted_probs['probability'].map(lambda vector: vector[1])"
   ]
  },
  {
   "cell_type": "code",
   "execution_count": 53,
   "metadata": {},
   "outputs": [],
   "source": [
    "from sklearn.metrics import roc_curve\n",
    "\n",
    "fpr, tpr, thresholds = roc_curve(y_true, y_prob_predicted)"
   ]
  },
  {
   "cell_type": "code",
   "execution_count": 54,
   "metadata": {},
   "outputs": [
    {
     "data": {
      "text/plain": [
       "[<matplotlib.lines.Line2D at 0x7fbed9fef048>]"
      ]
     },
     "execution_count": 54,
     "metadata": {},
     "output_type": "execute_result"
    },
    {
     "data": {
      "image/png": "[encoded data removed]",
      "text/plain": [
       "<matplotlib.figure.Figure at 0x7fbed9fef080>"
      ]
     },
     "metadata": {},
     "output_type": "display_data"
    }
   ],
   "source": [
    "import matplotlib.pyplot as plt\n",
    "import numpy as np\n",
    "%matplotlib inline\n",
    "\n",
    "plt.plot(fpr, tpr)\n",
    "plt.plot(np.linspace(0,1, 10), np.linspace(0,1, 10))"
   ]
  },
  {
   "cell_type": "markdown",
   "metadata": {},
   "source": [
    "Not bad, considering we have not performed any feature engineering at all!"
   ]
  },
  {
   "cell_type": "markdown",
   "metadata": {},
   "source": [
    "### Further Reading\n",
    "\n",
    "https://spark.apache.org/docs/2.2.0/ml-tuning.html\n",
    "\n",
    "https://stackoverflow.com/questions/28569788/how-to-open-stream-zip-files-through-spark"
   ]
  }
 ],
 "metadata": {
  "kernelspec": {
   "display_name": "Python 3",
   "language": "python",
   "name": "python3"
  },
  "language_info": {
   "codemirror_mode": {
    "name": "ipython",
    "version": 3
   },
   "file_extension": ".py",
   "mimetype": "text/x-python",
   "name": "python",
   "nbconvert_exporter": "python",
   "pygments_lexer": "ipython3",
   "version": "3.6.2"
  }
 },
 "nbformat": 4,
 "nbformat_minor": 2
}
